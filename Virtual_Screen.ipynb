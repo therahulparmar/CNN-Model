{
  "nbformat": 4,
  "nbformat_minor": 0,
  "metadata": {
    "colab": {
      "name": "Virtual Screen.ipynb",
      "provenance": [],
      "collapsed_sections": [],
      "authorship_tag": "ABX9TyPgLy1P57V8Z1Av4LY1R0cV",
      "include_colab_link": true
    },
    "kernelspec": {
      "name": "python3",
      "display_name": "Python 3"
    },
    "language_info": {
      "name": "python"
    }
  },
  "cells": [
    {
      "cell_type": "markdown",
      "metadata": {
        "id": "view-in-github",
        "colab_type": "text"
      },
      "source": [
        "<a href=\"https://colab.research.google.com/github/therahulparmar/CNN-Model/blob/main/Virtual_Screen.ipynb\" target=\"_parent\"><img src=\"https://colab.research.google.com/assets/colab-badge.svg\" alt=\"Open In Colab\"/></a>"
      ]
    },
    {
      "cell_type": "markdown",
      "metadata": {
        "id": "vIl4de0FIx33"
      },
      "source": [
        "Large holographic displays are the alternative to stereoscopic displays. A holographic display is a type of display that utilizes light diffraction to create a virtual three-dimensional image\n",
        "\n",
        "##### Holographic display and its types- <br>\n",
        "    1. Reflex Hologram\n",
        "    2. Transmission Hologram\n",
        "    3. Computer generated Hologram\n",
        "    \n",
        "##### How Hologram works? <br>\n",
        "    The time varying light field of a scene with all its physical properties is to be recorded and then its generated. The working is divided into 2 types. 1. Recording, 2. Reconstruction\n",
        "\n",
        "##### Tools required to make hologram\n",
        "    1. Red lasers\n",
        "    2. Lenses\n",
        "    3. Beam Splitter\n",
        "    4. Mirros\n",
        "    5. Holographic Films\n",
        "    \n",
        "##### Process\n",
        "    When the two laser beams reach the recording medium their light waves intersect and interface with each other.\n",
        "\n",
        "##### Steps to make a holographic display:\n",
        "    1. Start with a black or dark-colored background.\n",
        "    This will result in the hologram projection showing up bright and clear.\n",
        "\n",
        "    2. Before creating the image, draw an “x” to divide the paper or screen.\n",
        "    If using traditional materials, draw lightly as you’ll want to remove the “x” later on.\n",
        "\n",
        "    3. Draw an image in one of the four triangular-shaped spaces. \n",
        "\n",
        "    4. Repeat the same image in the three remaining spaces.\n",
        "\n",
        "##### Companies working in it\n",
        "   ***Looking Glass Factory company*** says its specific display uses a proprietary combination of light field and volumetric display technologies, meaning the display is both refracting light through glass and projecting it to multiple parts of the screen simultaneously to trick your brain into seeing a 3D image. The Looking Glass Portrait projects 45 to 100 different “views” of 3D scenes to create its holograms, which is great for more detailed captures from light field photography, but for less detailed methods like an iPhone portrait, the results aren’t as impressive\n",
        "\n",
        "\n",
        "##### Displays in Movies\n",
        "<b>In movies:</b> Star Wars (1976 media franchise), makes use of holograms to display people remotely communicating with each other. It also appears in the Star Wars: Legends sub-franchise.Batman (1989 film), the entry to the batcave is disguised using a hologram.<br>\n",
        "\n",
        "##### Advances in technology\n",
        "    1. Touchable holograms\n",
        "    2. Tacticle holographic display with haptic feedback\n",
        "    3. Horizontal 360 degree view of a image on table top\n",
        "    4. User interfacing integrated display\n",
        "    \n",
        "##### Applications\n",
        "    1. Improved virtual reality and augment reality\n",
        "    2. Video conferencing\n",
        "    3. In Movies\n",
        "    4. Military and space applications\n",
        "    \n",
        "##### Future Scope\n",
        "    In Future Samsung, LG will be top competitor in Holographic display. Also we can see Holographic displays in major conferences where companies showcast their products. CES, MWC, etc.. In future holographic displays will be emerging technology that will be used in mobile phones, projectors.\n",
        "            \n",
        "\n",
        "## References-\n",
        "\n",
        "### 1. Blogs:-\n",
        "1. https://medium.com/through-the-looking-glass/colossal-holograms-b7f86f5925bd\n",
        "\n",
        "2. Top Holographic display startups:- https://tracxn.com/d/trending-themes/Startups-in-Holographic-Displays#:~:text=HYPERVSN%20is%20a%20London%2Dbased,displaying%20visuals%20of%20any%20size.<br>\n",
        "3. https://www.igadgetsworld.com/is-3d-hologram-technology-in-iron-man-movie-is-possible-in-reality/<br>\n",
        "4. https://www.theverge.com/2020/12/3/22150437/holographic-display-looking-glass-portrait-holograms-interactive-photos-videos<br>\n",
        "5. <i><b>Looking Glass Factory, headquarters in Brooklyn https://lookingglassfactory.com/</i></b>\n",
        "6. https://lookingglassfactory.com/about\n",
        "\n",
        "\n",
        "### 2. Videos:-\n",
        "1. https://www.youtube.com/watch?v=4pJxdNRA1CM&t=36s\n",
        "<br>\n",
        "2. https://www.youtube.com/watch?v=WzEO0FeDL9k\n",
        "<br>\n",
        "3. https://www.youtube.com/watch?v=EMUdmE0lKIU\n",
        "<br>\n",
        "4. https://www.youtube.com/watch?v=x1hYDmNIGiU\n",
        "<br>\n",
        "5. <b><i>Phillauri | Bollywood's 1st 3D Projection Phillauri used 3D holographic projection technology <b></i>https://www.youtube.com/watch?v=s6Ze9chM1o4\n"
      ]
    },
    {
      "cell_type": "code",
      "metadata": {
        "id": "huNrHHz1gNiJ"
      },
      "source": [
        ""
      ],
      "execution_count": null,
      "outputs": []
    }
  ]
}