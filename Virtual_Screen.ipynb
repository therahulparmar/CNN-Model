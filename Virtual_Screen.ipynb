{
  "nbformat": 4,
  "nbformat_minor": 0,
  "metadata": {
    "colab": {
      "name": "Virtual Screen.ipynb",
      "provenance": [],
      "collapsed_sections": [],
      "authorship_tag": "ABX9TyOgcNPtCVyohr34GfKNWADf",
      "include_colab_link": true
    },
    "kernelspec": {
      "name": "python3",
      "display_name": "Python 3"
    },
    "language_info": {
      "name": "python"
    }
  },
  "cells": [
    {
      "cell_type": "markdown",
      "metadata": {
        "id": "view-in-github",
        "colab_type": "text"
      },
      "source": [
        "<a href=\"https://colab.research.google.com/github/therahulparmar/CNN-Model/blob/main/Virtual_Screen.ipynb\" target=\"_parent\"><img src=\"https://colab.research.google.com/assets/colab-badge.svg\" alt=\"Open In Colab\"/></a>"
      ]
    },
    {
      "cell_type": "markdown",
      "metadata": {
        "id": "kuQhrc1pi9By"
      },
      "source": [
        "### Task1: Performance evaluation of 2 deep learning models (I have used cat vs dog dataset)\n",
        "    1. compare memory utilization\n",
        "    2. cpu/ gpu utilization\n",
        "    3. what factors affects the performance of the model\n",
        "    4. how can we improve the performance and how much can it be improved\n",
        "    5. what is your conclusion based on the results\n",
        "    6. references"
      ]
    },
    {
      "cell_type": "markdown",
      "metadata": {
        "id": "5HbHPWLmgQ0_"
      },
      "source": [
        "### Ans- \n",
        "I have used 2 CNN models i.e.<br> \n",
        "        \n",
        "        1. VGG16 \n",
        "        2. RESNET-50\n",
        "\n",
        "1. What I have observed is that memory utilization in VGG16 was more compared to RESNET-50 because it is larger in size and it required more training period of the model was slow. Parameters are more in VGG16. RESNET.\n",
        "<br><br>\n",
        "\n",
        "2. GPU utilization was more in VGG16 because it took more time while training, RESNET took much low compared to VGG16\n",
        "<br><br>\n",
        "\n",
        "3. First of all Data should be more it should not be less, if the data will be less then it will affect the model performance, noisy data, missing data, data should be well distributed, if the loss is high then it will get affected, if hidden layers are more then it will also affect the performance, underfitting, and overfitting. These are the factors affecting the model.\n",
        "<br><br>\n",
        "\n",
        "4. Performance can be improved by selecting the right drop out ratio, data augmentation, using Keras tuner to optimize the CNN model, and early stopping, use of back propogation to reduce the loss, use gradient descent. This is how we can improve the performance of the model\n",
        "<br><br>\n",
        "\n",
        "\n",
        "5. RESNET-50 worked well in the given dataset where it took lesser time compared to VGG16. Model training was done faster. I would prefer RESNET 50 as the best suited model for the given dataset. Also, it showed almost similar results compared to VGG16.\n",
        "<br><br>\n",
        "6. References- \n",
        "\n",
        "    1. https://towardsdatascience.com/step-by-step-vgg16-implementation-in-keras-for-beginners-a833c686ae6c\n",
        "    2. https://machinelearningknowledge.ai/keras-implementation-of-vgg16-architecture-from-scratch-with-dogs-vs-cat-data-set/#Perform_Classification\n",
        "    3. https://pub.towardsai.net/the-architecture-and-implementation-of-vgg-16-b050e5a5920b\n",
        "    4. https://gsurma.medium.com/image-classifier-cats-vs-dogs-with-convolutional-neural-networks-cnns-and-google-colabs-4e9af21ae7a8\n",
        "    5. https://www.youtube.com/watch?v=3ou0KYtDlOI&t=2s\n",
        "    6. https://www.youtube.com/watch?v=TguZ0WK0orQ&t=7s\n",
        "    7. https://www.youtube.com/watch?v=aQaZMC9-Jok .\n",
        "    2. https://www.youtube.com/watch?v=1Gbcp66yYX4\n",
        "    3. https://www.youtube.com/watch?v=zBOavqh3kWU&t=772s\n",
        "    4. https://www.analyticsvidhya.com/blog/2021/06/build-resnet-from-scratch-with-python/\n",
        "    5. https://thedatafrog.com/en/articles/image-recognition-transfer-learning/\n",
        "    6. https://machinelearningknowledge.ai/keras-implementation-of-resnet-50-architecture-from-scratch/"
      ]
    },
    {
      "cell_type": "markdown",
      "metadata": {
        "id": "7BPkKTfuiveV"
      },
      "source": [
        "### Task 2: Research on how to develop a virtual screen.\n"
      ]
    },
    {
      "cell_type": "markdown",
      "metadata": {
        "id": "J9id-PS7gjPw"
      },
      "source": [
        "### Ans\n",
        "Large holographic displays are the alternative to stereoscopic displays. A holographic display is a type of display that utilizes light diffraction to create a virtual three-dimensional image. stereoscopic display is widely used technology. Some challenges are limited viewing zone and image size, \n",
        "<br><br>\n",
        "<b>Holographic display and its types-</b><br>\n",
        "1. Reflex Hologram\n",
        "2. Transmission Hologram\n",
        "3. Computer generated Hologram\n",
        "<br><br>\n",
        "\n",
        "<b>How Hologram works?</b><br>\n",
        "The time varying light field of a scene with all its physical properties is to be recorded and then its generated. The working is divided into 2 types. 1. Recording, 2. Reconstruction\n",
        "Tools required to make hologram\n",
        "1. Red lasers\n",
        "2. Lenses\n",
        "3. Beam Splitter\n",
        "4. Mirros\n",
        "5. Holographic Films\n",
        "\n",
        "<br>\n",
        "\n",
        "<b>Process</b><br>\n",
        "When the two laser beams reach the recording medium their light waves intersect and interface with each other.\n",
        "<br><br>\n",
        "\n",
        "<b>Steps to make a holographic display:</b><br>\n",
        "1. Start with a black or dark-colored background.\n",
        "This will result in the hologram projection showing up bright and clear.\n",
        " \n",
        "2. Before creating the image, draw an “x” to divide the paper or screen.\n",
        "If using traditional materials, draw lightly as you’ll want to remove the “x” later on.\n",
        " \n",
        "3. Draw an image in one of the four triangular-shaped spaces. \n",
        " \n",
        "4. Repeat the same image in the three remaining spaces.\n",
        "<br><br>\n",
        "\n",
        "<b>Companies working in it</b><br>\n",
        "Looking Glass Factory company says its specific display uses a proprietary combination of light field and volumetric display technologies, meaning the display is both refracting light through glass and projecting it to multiple parts of the screen simultaneously to trick your brain into seeing a 3D image. The Looking Glass Portrait projects 45 to 100 different “views” of 3D scenes to create its holograms, which is great for more detailed captures from light field photography, but for less detailed methods like an iPhone portrait, the results aren’t as impressive\n",
        "<br><br>\n",
        "\n",
        "<b>Displays in Movies</b><br>\n",
        "In movies: Star Wars (1976 media franchise), makes use of holograms to display people remotely communicating with each other. It also appears in the Star Wars: Legends sub-franchise.Batman (1989 film), the entry to the batcave is disguised using a hologram.\n",
        "<br><br>\n",
        "\n",
        "<b>Advances in technology</b>\n",
        "1. Touchable holograms\n",
        "2. Tacticle holographic display with haptic feedback\n",
        "3. Horizontal 360 degree view of a image on table top\n",
        "4. User interfacing integrated display\n",
        "<br><br>\n",
        "\n",
        "<b>Applications</b>\n",
        "1. Improved virtual reality and augment reality\n",
        "2. Video conferencing\n",
        "3. In Movies\n",
        "4. Military and space applications\n",
        "<br><br>\n",
        "\n",
        "<b>Future Scope</b><br>\n",
        "In Future Samsung, LG will be top competitor in Holographic display. Also we can see Holographic displays in major conferences where companies showcast their products. CES, MWC, etc.. In future holographic displays will be emerging technology that will be used in mobile phones, projectors.\n",
        "<br><br>\n",
        "<br><b>References-</b>\n",
        "<br><b>1. Blogs:-</b>\n",
        "1. https://medium.com/through-the-looking-glass/colossal-holograms-b7f86f5925bd\n",
        "\n",
        "2. Top Holographic display startups:- https://tracxn.com/d/trending-themes/Startups-in-Holographic-Displays#:~:text=HYPERVSN%20is%20a%20London%2Dbased,displaying%20visuals%20of%20any%20size.\n",
        "\n",
        "3. https://www.igadgetsworld.com/is-3d-hologram-technology-in-iron-man-movie-is-possible-in-reality/\n",
        "\n",
        "4. https://www.theverge.com/2020/12/3/22150437/holographic-display-looking-glass-portrait-holograms-interactive-photos-videos\n",
        "\n",
        "5. Looking Glass Factory, headquarters in Brooklyn https://lookingglassfactory.com/\n",
        "\n",
        "6. Paper https://www.researchgate.net/publication/269325569_Study_on_basic_problems_in_real-time_3D_holographic_display\n",
        "https://lookingglassfactory.com/about\n",
        "\n",
        "<b>2. Videos:-</b>\n",
        "1. https://www.youtube.com/watch?v=4pJxdNRA1CM&t=36s\n",
        "\n",
        "2. https://www.youtube.com/watch?v=WzEO0FeDL9k\n",
        "\n",
        "3. https://www.youtube.com/watch?v=EMUdmE0lKIU\n",
        "\n",
        "4. https://www.youtube.com/watch?v=x1hYDmNIGiU\n",
        "\n",
        "5. Phillauri | Bollywood's 1st 3D Projection Phillauri used 3D holographic projection technology https://www.youtube.com/watch?v=s6Ze9chM1o4"
      ]
    },
    {
      "cell_type": "code",
      "metadata": {
        "id": "huNrHHz1gNiJ"
      },
      "source": [
        ""
      ],
      "execution_count": null,
      "outputs": []
    }
  ]
}