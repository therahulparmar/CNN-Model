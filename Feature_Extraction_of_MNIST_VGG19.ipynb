{
  "nbformat": 4,
  "nbformat_minor": 0,
  "metadata": {
    "colab": {
      "name": "Feature Extraction of MNIST: VGG19.ipynb",
      "provenance": [],
      "collapsed_sections": [],
      "mount_file_id": "10AU9ygt0XhNgHqxc0vTDQcUwnJP7C3C5",
      "authorship_tag": "ABX9TyNPrKzXXj20qABGO4OFT9aG",
      "include_colab_link": true
    },
    "kernelspec": {
      "name": "python3",
      "display_name": "Python 3"
    },
    "language_info": {
      "name": "python"
    }
  },
  "cells": [
    {
      "cell_type": "markdown",
      "metadata": {
        "id": "view-in-github",
        "colab_type": "text"
      },
      "source": [
        "<a href=\"https://colab.research.google.com/github/therahulparmar/CNN-Model/blob/main/Feature_Extraction_of_MNIST_VGG19.ipynb\" target=\"_parent\"><img src=\"https://colab.research.google.com/assets/colab-badge.svg\" alt=\"Open In Colab\"/></a>"
      ]
    },
    {
      "cell_type": "markdown",
      "metadata": {
        "id": "o6YKqxhCyGpe"
      },
      "source": [
        "# (2) importing required libraries and pretrained model VGG-19"
      ]
    },
    {
      "cell_type": "code",
      "metadata": {
        "id": "n3qXdkCUj672"
      },
      "source": [
        "from tensorflow.keras.applications.vgg19 import VGG19\n",
        "from tensorflow.keras.preprocessing import image\n",
        "from tensorflow.keras.models import Model\n",
        "from tensorflow.keras.preprocessing.image import ImageDataGenerator\n",
        "from tensorflow.keras.applications.vgg19 import preprocess_input\n",
        "from skimage.io import imread, imshow\n",
        "import numpy as np\n",
        "import pandas as pd\n",
        "import matplotlib.pyplot as plt\n",
        "%matplotlib inline"
      ],
      "execution_count": 20,
      "outputs": []
    },
    {
      "cell_type": "code",
      "metadata": {
        "id": "gzfBU_l8kDzU"
      },
      "source": [
        "model = VGG19(include_top=False, weights=\"imagenet\")"
      ],
      "execution_count": 21,
      "outputs": []
    },
    {
      "cell_type": "markdown",
      "metadata": {
        "id": "iqHUkehdyRnm"
      },
      "source": [
        "# Here I have taken original image of number **2** from the MNIST dataset."
      ]
    },
    {
      "cell_type": "code",
      "metadata": {
        "colab": {
          "base_uri": "https://localhost:8080/"
        },
        "id": "zyeueafWkPRR",
        "outputId": "a9b078f1-4ddc-4f38-c68c-9c3288df08e5"
      },
      "source": [
        "img_path = '/content/drive/MyDrive/digit/master/master2/master2.jpg' # original image of 2\n",
        "img = image.load_img(img_path, target_size = (224,224))\n",
        "x = image.img_to_array(img)\n",
        "x = np.expand_dims(x, axis=0)\n",
        "x = preprocess_input(x)\n",
        "\n",
        "features = model.predict(x)\n",
        "print(features.shape)\n",
        "print(features)"
      ],
      "execution_count": 22,
      "outputs": [
        {
          "output_type": "stream",
          "text": [
            "WARNING:tensorflow:5 out of the last 6 calls to <function Model.make_predict_function.<locals>.predict_function at 0x7fcde15dab90> triggered tf.function retracing. Tracing is expensive and the excessive number of tracings could be due to (1) creating @tf.function repeatedly in a loop, (2) passing tensors with different shapes, (3) passing Python objects instead of tensors. For (1), please define your @tf.function outside of the loop. For (2), @tf.function has experimental_relax_shapes=True option that relaxes argument shapes that can avoid unnecessary retracing. For (3), please refer to https://www.tensorflow.org/guide/function#controlling_retracing and https://www.tensorflow.org/api_docs/python/tf/function for  more details.\n",
            "(1, 7, 7, 512)\n",
            "[[[[ 0.         0.         0.        ...  0.         2.304946\n",
            "     0.       ]\n",
            "   [ 0.         0.         0.        ...  0.         0.\n",
            "     0.       ]\n",
            "   [ 0.         0.         0.        ...  0.         0.\n",
            "     0.       ]\n",
            "   ...\n",
            "   [ 0.         0.         0.        ...  0.         4.121511\n",
            "     0.       ]\n",
            "   [ 0.         0.         0.        ...  0.         7.4698277\n",
            "     0.       ]\n",
            "   [ 0.         0.         0.        ...  0.         1.3570415\n",
            "     0.       ]]\n",
            "\n",
            "  [[ 0.         0.         0.        ...  0.         0.\n",
            "     0.       ]\n",
            "   [ 0.         0.         0.        ...  0.         0.\n",
            "     0.       ]\n",
            "   [ 0.         0.         2.075251  ...  0.         0.\n",
            "     0.       ]\n",
            "   ...\n",
            "   [ 0.         0.        35.900146  ...  0.         0.\n",
            "     0.       ]\n",
            "   [ 0.         0.         2.8843913 ...  0.         0.\n",
            "     0.       ]\n",
            "   [ 0.         0.         0.        ...  0.         0.\n",
            "     0.       ]]\n",
            "\n",
            "  [[ 0.         0.         0.        ...  0.         0.\n",
            "     0.       ]\n",
            "   [ 0.         0.         0.        ...  0.         2.7430892\n",
            "     0.       ]\n",
            "   [ 0.         0.         0.        ...  0.         0.\n",
            "     0.       ]\n",
            "   ...\n",
            "   [ 0.         0.        23.818596  ...  0.        15.528619\n",
            "     0.       ]\n",
            "   [ 0.         0.         0.        ...  0.         4.0313087\n",
            "     0.       ]\n",
            "   [ 0.         0.         0.        ...  0.         0.\n",
            "     0.       ]]\n",
            "\n",
            "  ...\n",
            "\n",
            "  [[ 0.         0.         0.        ...  0.         0.\n",
            "     0.       ]\n",
            "   [ 0.         0.         0.        ...  0.         9.877088\n",
            "     0.       ]\n",
            "   [ 0.         0.         0.        ...  0.        25.59492\n",
            "     0.       ]\n",
            "   ...\n",
            "   [ 0.         0.         0.        ...  0.        14.0986185\n",
            "     0.       ]\n",
            "   [ 0.         0.         0.        ...  0.        12.570304\n",
            "     0.       ]\n",
            "   [ 0.         0.         0.        ...  0.         3.445794\n",
            "     0.       ]]\n",
            "\n",
            "  [[ 0.         0.         0.        ...  0.         0.\n",
            "     0.       ]\n",
            "   [ 0.         0.         0.        ...  0.         4.4147573\n",
            "     0.       ]\n",
            "   [ 0.         0.         0.        ...  0.         0.\n",
            "     0.       ]\n",
            "   ...\n",
            "   [ 0.         0.         0.        ...  0.         0.\n",
            "     0.       ]\n",
            "   [ 0.         0.         0.        ...  0.         0.\n",
            "     0.       ]\n",
            "   [ 0.         0.         0.        ...  0.         2.008316\n",
            "     0.       ]]\n",
            "\n",
            "  [[ 0.         0.         0.        ...  0.         0.\n",
            "     0.       ]\n",
            "   [ 0.         0.         0.        ...  0.         0.\n",
            "     0.       ]\n",
            "   [ 0.         0.         0.        ...  0.         0.\n",
            "     0.       ]\n",
            "   ...\n",
            "   [ 0.         0.         0.        ...  0.         0.\n",
            "     0.       ]\n",
            "   [ 0.         0.         0.        ...  0.         0.\n",
            "     0.       ]\n",
            "   [ 0.         0.         0.        ...  0.         0.\n",
            "     0.       ]]]]\n"
          ],
          "name": "stdout"
        }
      ]
    },
    {
      "cell_type": "markdown",
      "metadata": {
        "id": "9TKar3L3yeAu"
      },
      "source": [
        "# Here I have taken 10 candidate images of number **\"2\"** from the MNIST dataset. "
      ]
    },
    {
      "cell_type": "markdown",
      "metadata": {
        "id": "7Riyw4lUivhN"
      },
      "source": [
        "# candidate image 1 of digit 2"
      ]
    },
    {
      "cell_type": "code",
      "metadata": {
        "colab": {
          "base_uri": "https://localhost:8080/"
        },
        "id": "2GDa0xBPkRG7",
        "outputId": "77de4875-3c77-4549-e983-fcc7c522e02c"
      },
      "source": [
        "img_path = '/content/drive/MyDrive/digit/candidate/test2/img_16.jpg' # image 2_1\n",
        "img = image.load_img(img_path, target_size = (224,224))\n",
        "x = image.img_to_array(img)\n",
        "x = np.expand_dims(x, axis=0)\n",
        "x = preprocess_input(x)\n",
        "\n",
        "features = model.predict(x)\n",
        "print(features.shape)\n",
        "print(features)"
      ],
      "execution_count": 23,
      "outputs": [
        {
          "output_type": "stream",
          "text": [
            "(1, 7, 7, 512)\n",
            "[[[[ 0.          0.          0.         ...  0.          0.\n",
            "     0.        ]\n",
            "   [ 0.          0.          0.         ...  0.          0.\n",
            "     0.        ]\n",
            "   [ 0.          0.          0.         ...  0.          0.\n",
            "     0.        ]\n",
            "   ...\n",
            "   [ 0.          0.          0.         ...  0.          3.2015707\n",
            "     0.        ]\n",
            "   [ 0.          0.          0.         ...  0.          5.2207074\n",
            "     0.        ]\n",
            "   [ 0.          0.          0.         ...  0.          1.1789145\n",
            "     0.        ]]\n",
            "\n",
            "  [[ 0.          0.          0.         ...  0.          0.\n",
            "     0.        ]\n",
            "   [ 0.          0.          0.         ...  0.          0.\n",
            "     0.        ]\n",
            "   [ 0.          0.         18.08285    ...  0.          0.\n",
            "     0.        ]\n",
            "   ...\n",
            "   [ 0.          0.         28.417858   ...  0.          0.\n",
            "     0.        ]\n",
            "   [ 0.          0.          0.         ...  0.          0.\n",
            "     0.        ]\n",
            "   [ 0.          0.          0.         ...  0.          0.\n",
            "     0.        ]]\n",
            "\n",
            "  [[ 0.          0.          0.         ...  0.          0.8503605\n",
            "     0.        ]\n",
            "   [ 0.          0.          0.         ...  0.          3.5028439\n",
            "     0.        ]\n",
            "   [ 0.          0.         11.631898   ...  0.          0.\n",
            "     0.        ]\n",
            "   ...\n",
            "   [ 0.          0.          2.2032657  ...  0.          0.\n",
            "     0.        ]\n",
            "   [ 0.          0.          0.         ...  0.          5.2927065\n",
            "     0.        ]\n",
            "   [ 0.          0.          0.         ...  0.          0.\n",
            "     0.        ]]\n",
            "\n",
            "  ...\n",
            "\n",
            "  [[ 0.          0.          0.         ...  0.          2.3194065\n",
            "     0.        ]\n",
            "   [ 0.          0.          0.         ...  0.68715715  8.691702\n",
            "     0.        ]\n",
            "   [ 0.          0.          5.2135453  ...  0.          4.872167\n",
            "     0.        ]\n",
            "   ...\n",
            "   [ 0.          0.          0.         ...  0.         12.377626\n",
            "     0.        ]\n",
            "   [ 0.          0.          0.         ...  0.         10.707563\n",
            "     0.        ]\n",
            "   [ 0.          0.          0.         ...  0.          0.\n",
            "     0.        ]]\n",
            "\n",
            "  [[ 0.          0.          0.         ...  0.          7.876144\n",
            "     0.        ]\n",
            "   [ 0.          0.          0.         ...  0.         18.20078\n",
            "     0.        ]\n",
            "   [ 0.          0.          0.         ...  0.          0.\n",
            "     0.        ]\n",
            "   ...\n",
            "   [ 0.          0.          0.         ...  0.          0.\n",
            "     0.        ]\n",
            "   [ 0.          0.          0.         ...  0.          0.\n",
            "     0.        ]\n",
            "   [ 0.          0.          0.         ...  0.          0.\n",
            "     0.        ]]\n",
            "\n",
            "  [[ 0.          0.          0.         ...  0.          0.\n",
            "     0.        ]\n",
            "   [ 0.          0.          0.         ...  0.          0.\n",
            "     0.        ]\n",
            "   [ 0.          0.          0.         ...  0.          0.\n",
            "     0.        ]\n",
            "   ...\n",
            "   [ 0.          0.          0.         ...  0.          0.\n",
            "     0.        ]\n",
            "   [ 0.          0.          0.         ...  0.          0.\n",
            "     0.        ]\n",
            "   [ 0.          0.          0.         ...  0.          0.\n",
            "     0.        ]]]]\n"
          ],
          "name": "stdout"
        }
      ]
    },
    {
      "cell_type": "markdown",
      "metadata": {
        "id": "GwPaC_V5iyKI"
      },
      "source": [
        "# candidate image 2 of digit 2"
      ]
    },
    {
      "cell_type": "code",
      "metadata": {
        "colab": {
          "base_uri": "https://localhost:8080/"
        },
        "id": "cKS9UlU3tb-H",
        "outputId": "edd806eb-ac43-4b57-8ef0-7b564b68bdff"
      },
      "source": [
        "img_path = '/content/drive/MyDrive/digit/candidate/test2/img_24.jpg' # image 2_2\n",
        "img = image.load_img(img_path, target_size = (224,224))\n",
        "x = image.img_to_array(img)\n",
        "x = np.expand_dims(x, axis=0)\n",
        "x = preprocess_input(x)\n",
        "\n",
        "features = model.predict(x)\n",
        "print(features.shape)\n",
        "print(features)"
      ],
      "execution_count": 25,
      "outputs": [
        {
          "output_type": "stream",
          "text": [
            "(1, 7, 7, 512)\n",
            "[[[[ 0.         0.         0.        ...  0.         2.9195101\n",
            "     0.       ]\n",
            "   [ 0.         0.         0.        ...  0.         0.\n",
            "     0.       ]\n",
            "   [ 0.         0.         0.        ...  0.         0.\n",
            "     0.       ]\n",
            "   ...\n",
            "   [ 0.         0.         0.        ...  0.         0.\n",
            "     0.       ]\n",
            "   [ 0.         0.         0.        ...  0.         0.\n",
            "     0.       ]\n",
            "   [ 0.         0.         0.        ...  0.         0.6179776\n",
            "     0.       ]]\n",
            "\n",
            "  [[ 0.         0.         0.        ...  0.         0.\n",
            "     0.       ]\n",
            "   [ 0.         0.         0.        ...  0.         0.\n",
            "     0.       ]\n",
            "   [ 0.         0.         0.        ...  0.         0.\n",
            "     0.       ]\n",
            "   ...\n",
            "   [ 0.         0.        29.458153  ...  0.         0.\n",
            "     0.       ]\n",
            "   [ 0.         0.         0.        ...  0.         0.\n",
            "     0.       ]\n",
            "   [ 0.         0.         0.        ...  0.         0.\n",
            "     0.       ]]\n",
            "\n",
            "  [[ 0.         0.         0.        ...  0.         0.\n",
            "     0.       ]\n",
            "   [ 0.         0.         0.        ...  0.         0.\n",
            "     0.       ]\n",
            "   [ 0.         0.         0.        ...  0.         0.\n",
            "     0.       ]\n",
            "   ...\n",
            "   [ 0.         0.        35.925358  ...  0.        16.472668\n",
            "     0.       ]\n",
            "   [ 0.         0.         2.638548  ...  0.         4.7749753\n",
            "     0.       ]\n",
            "   [ 0.         0.         0.        ...  0.         0.\n",
            "     0.       ]]\n",
            "\n",
            "  ...\n",
            "\n",
            "  [[ 0.         0.         0.        ...  0.         0.\n",
            "     0.       ]\n",
            "   [ 0.         0.         0.        ...  0.        11.550392\n",
            "     0.       ]\n",
            "   [ 0.         0.         8.35643   ...  0.        19.930653\n",
            "     0.       ]\n",
            "   ...\n",
            "   [ 0.         0.         0.        ...  0.        10.158789\n",
            "     0.       ]\n",
            "   [ 0.         0.         0.        ...  0.         6.6905427\n",
            "     0.       ]\n",
            "   [ 0.         0.         0.        ...  0.         0.\n",
            "     0.       ]]\n",
            "\n",
            "  [[ 0.         0.         0.        ...  0.         2.473737\n",
            "     0.       ]\n",
            "   [ 0.         0.         0.        ...  0.        17.771322\n",
            "     0.       ]\n",
            "   [ 0.         0.         0.        ...  0.         6.5131397\n",
            "     0.       ]\n",
            "   ...\n",
            "   [ 0.         0.         0.        ...  0.         3.3133776\n",
            "     0.       ]\n",
            "   [ 0.         0.         0.        ...  0.         2.0267344\n",
            "     0.       ]\n",
            "   [ 0.         0.         0.        ...  0.         2.7522404\n",
            "     0.       ]]\n",
            "\n",
            "  [[ 0.         0.         0.        ...  0.         0.\n",
            "     0.       ]\n",
            "   [ 0.         0.         0.        ...  0.         0.\n",
            "     0.       ]\n",
            "   [ 0.         0.         0.        ...  0.         0.\n",
            "     0.       ]\n",
            "   ...\n",
            "   [ 0.         0.         0.        ...  0.         0.\n",
            "     0.       ]\n",
            "   [ 0.         0.         0.        ...  0.         0.\n",
            "     0.       ]\n",
            "   [ 0.         0.         0.        ...  0.         2.0130947\n",
            "     0.       ]]]]\n"
          ],
          "name": "stdout"
        }
      ]
    },
    {
      "cell_type": "markdown",
      "metadata": {
        "id": "NTHmHuLwi0WP"
      },
      "source": [
        "# candidate image 3 of digit 2"
      ]
    },
    {
      "cell_type": "code",
      "metadata": {
        "colab": {
          "base_uri": "https://localhost:8080/"
        },
        "id": "CCRGmI1qtg7u",
        "outputId": "0eaa5bf7-0643-4e13-c588-39d984c48a5b"
      },
      "source": [
        "img_path = '/content/drive/MyDrive/digit/candidate/test2/img_34.jpg' # image 2_3\n",
        "img = image.load_img(img_path, target_size = (224,224))\n",
        "x = image.img_to_array(img)\n",
        "x = np.expand_dims(x, axis=0)\n",
        "x = preprocess_input(x)\n",
        "\n",
        "features = model.predict(x)\n",
        "print(features.shape)\n",
        "print(features)"
      ],
      "execution_count": 27,
      "outputs": [
        {
          "output_type": "stream",
          "text": [
            "(1, 7, 7, 512)\n",
            "[[[[0.0000000e+00 0.0000000e+00 0.0000000e+00 ... 0.0000000e+00\n",
            "    3.5830986e+00 0.0000000e+00]\n",
            "   [0.0000000e+00 0.0000000e+00 0.0000000e+00 ... 0.0000000e+00\n",
            "    0.0000000e+00 0.0000000e+00]\n",
            "   [0.0000000e+00 0.0000000e+00 0.0000000e+00 ... 0.0000000e+00\n",
            "    0.0000000e+00 0.0000000e+00]\n",
            "   ...\n",
            "   [0.0000000e+00 0.0000000e+00 0.0000000e+00 ... 0.0000000e+00\n",
            "    4.9375634e+00 0.0000000e+00]\n",
            "   [0.0000000e+00 0.0000000e+00 0.0000000e+00 ... 0.0000000e+00\n",
            "    0.0000000e+00 0.0000000e+00]\n",
            "   [0.0000000e+00 0.0000000e+00 0.0000000e+00 ... 0.0000000e+00\n",
            "    2.1929269e+00 0.0000000e+00]]\n",
            "\n",
            "  [[0.0000000e+00 0.0000000e+00 0.0000000e+00 ... 0.0000000e+00\n",
            "    0.0000000e+00 0.0000000e+00]\n",
            "   [0.0000000e+00 0.0000000e+00 0.0000000e+00 ... 0.0000000e+00\n",
            "    0.0000000e+00 0.0000000e+00]\n",
            "   [0.0000000e+00 0.0000000e+00 1.7194277e+01 ... 0.0000000e+00\n",
            "    0.0000000e+00 0.0000000e+00]\n",
            "   ...\n",
            "   [0.0000000e+00 0.0000000e+00 0.0000000e+00 ... 0.0000000e+00\n",
            "    1.4094106e+01 0.0000000e+00]\n",
            "   [0.0000000e+00 0.0000000e+00 0.0000000e+00 ... 0.0000000e+00\n",
            "    0.0000000e+00 0.0000000e+00]\n",
            "   [0.0000000e+00 0.0000000e+00 0.0000000e+00 ... 0.0000000e+00\n",
            "    0.0000000e+00 0.0000000e+00]]\n",
            "\n",
            "  [[0.0000000e+00 0.0000000e+00 0.0000000e+00 ... 0.0000000e+00\n",
            "    0.0000000e+00 0.0000000e+00]\n",
            "   [0.0000000e+00 0.0000000e+00 0.0000000e+00 ... 0.0000000e+00\n",
            "    0.0000000e+00 0.0000000e+00]\n",
            "   [0.0000000e+00 0.0000000e+00 1.4418902e+01 ... 0.0000000e+00\n",
            "    0.0000000e+00 0.0000000e+00]\n",
            "   ...\n",
            "   [0.0000000e+00 0.0000000e+00 6.7546386e-01 ... 0.0000000e+00\n",
            "    2.2266413e+01 0.0000000e+00]\n",
            "   [0.0000000e+00 0.0000000e+00 0.0000000e+00 ... 0.0000000e+00\n",
            "    0.0000000e+00 0.0000000e+00]\n",
            "   [0.0000000e+00 0.0000000e+00 0.0000000e+00 ... 0.0000000e+00\n",
            "    0.0000000e+00 0.0000000e+00]]\n",
            "\n",
            "  ...\n",
            "\n",
            "  [[0.0000000e+00 0.0000000e+00 0.0000000e+00 ... 0.0000000e+00\n",
            "    0.0000000e+00 0.0000000e+00]\n",
            "   [0.0000000e+00 0.0000000e+00 1.1401004e+00 ... 0.0000000e+00\n",
            "    9.8329443e-01 0.0000000e+00]\n",
            "   [0.0000000e+00 0.0000000e+00 1.0304644e+01 ... 0.0000000e+00\n",
            "    1.3205652e+00 0.0000000e+00]\n",
            "   ...\n",
            "   [0.0000000e+00 0.0000000e+00 0.0000000e+00 ... 0.0000000e+00\n",
            "    1.0369462e+01 2.8868101e+00]\n",
            "   [0.0000000e+00 0.0000000e+00 0.0000000e+00 ... 0.0000000e+00\n",
            "    0.0000000e+00 0.0000000e+00]\n",
            "   [0.0000000e+00 0.0000000e+00 0.0000000e+00 ... 0.0000000e+00\n",
            "    0.0000000e+00 0.0000000e+00]]\n",
            "\n",
            "  [[0.0000000e+00 0.0000000e+00 0.0000000e+00 ... 0.0000000e+00\n",
            "    4.8490015e-01 0.0000000e+00]\n",
            "   [0.0000000e+00 0.0000000e+00 0.0000000e+00 ... 0.0000000e+00\n",
            "    3.7673843e+00 0.0000000e+00]\n",
            "   [0.0000000e+00 0.0000000e+00 0.0000000e+00 ... 0.0000000e+00\n",
            "    0.0000000e+00 0.0000000e+00]\n",
            "   ...\n",
            "   [0.0000000e+00 0.0000000e+00 0.0000000e+00 ... 0.0000000e+00\n",
            "    6.9552751e+00 1.7357758e+00]\n",
            "   [0.0000000e+00 0.0000000e+00 0.0000000e+00 ... 0.0000000e+00\n",
            "    0.0000000e+00 0.0000000e+00]\n",
            "   [0.0000000e+00 0.0000000e+00 0.0000000e+00 ... 0.0000000e+00\n",
            "    1.7142447e+00 0.0000000e+00]]\n",
            "\n",
            "  [[0.0000000e+00 0.0000000e+00 0.0000000e+00 ... 0.0000000e+00\n",
            "    4.4414401e-03 0.0000000e+00]\n",
            "   [0.0000000e+00 0.0000000e+00 0.0000000e+00 ... 0.0000000e+00\n",
            "    0.0000000e+00 0.0000000e+00]\n",
            "   [0.0000000e+00 0.0000000e+00 0.0000000e+00 ... 0.0000000e+00\n",
            "    0.0000000e+00 0.0000000e+00]\n",
            "   ...\n",
            "   [0.0000000e+00 0.0000000e+00 0.0000000e+00 ... 0.0000000e+00\n",
            "    0.0000000e+00 0.0000000e+00]\n",
            "   [0.0000000e+00 0.0000000e+00 0.0000000e+00 ... 0.0000000e+00\n",
            "    0.0000000e+00 0.0000000e+00]\n",
            "   [0.0000000e+00 0.0000000e+00 0.0000000e+00 ... 0.0000000e+00\n",
            "    0.0000000e+00 0.0000000e+00]]]]\n"
          ],
          "name": "stdout"
        }
      ]
    },
    {
      "cell_type": "markdown",
      "metadata": {
        "id": "AdkRhDGIi28z"
      },
      "source": [
        "# candidate image 4 of digit 2"
      ]
    },
    {
      "cell_type": "code",
      "metadata": {
        "colab": {
          "base_uri": "https://localhost:8080/"
        },
        "id": "ul-FO0Ilt3Me",
        "outputId": "e69bffa0-00f2-4167-f36f-8ba63485be7d"
      },
      "source": [
        "img_path = '/content/drive/MyDrive/digit/candidate/test2/img_44.jpg' # image 2_4\n",
        "img = image.load_img(img_path, target_size = (224,224))\n",
        "x = image.img_to_array(img)\n",
        "x = np.expand_dims(x, axis=0)\n",
        "x = preprocess_input(x)\n",
        "\n",
        "features = model.predict(x)\n",
        "print(features.shape)\n",
        "print(features)"
      ],
      "execution_count": 28,
      "outputs": [
        {
          "output_type": "stream",
          "text": [
            "(1, 7, 7, 512)\n",
            "[[[[ 0.          0.          0.         ...  0.          0.\n",
            "     0.        ]\n",
            "   [ 0.          0.          0.         ...  0.          0.\n",
            "     0.        ]\n",
            "   [ 0.          0.          0.         ...  0.          0.\n",
            "     0.        ]\n",
            "   ...\n",
            "   [ 0.          0.          0.         ...  0.          2.0372233\n",
            "     0.        ]\n",
            "   [ 0.          0.          0.         ...  0.          0.9755328\n",
            "     0.        ]\n",
            "   [ 0.          0.          0.         ...  0.          2.9865735\n",
            "     0.        ]]\n",
            "\n",
            "  [[ 0.          0.          0.         ...  0.          3.2292888\n",
            "     0.        ]\n",
            "   [ 0.          0.          0.         ...  0.          0.\n",
            "     0.        ]\n",
            "   [ 0.          0.          4.9343677  ...  0.          0.\n",
            "     0.        ]\n",
            "   ...\n",
            "   [ 0.          0.          0.         ...  0.          0.\n",
            "     0.        ]\n",
            "   [ 0.          0.          0.         ...  0.          0.\n",
            "     0.        ]\n",
            "   [ 0.          0.          0.         ...  0.          0.\n",
            "     0.        ]]\n",
            "\n",
            "  [[ 0.          0.          0.         ...  0.          7.105407\n",
            "     0.        ]\n",
            "   [ 0.          0.          0.         ...  0.          1.4562294\n",
            "     0.        ]\n",
            "   [ 0.          0.          5.138254   ...  0.         10.790714\n",
            "     0.        ]\n",
            "   ...\n",
            "   [ 0.          0.          0.         ...  0.         19.057186\n",
            "     0.        ]\n",
            "   [ 0.          0.          0.         ...  0.          0.\n",
            "     0.        ]\n",
            "   [ 0.          0.          0.         ...  0.          0.\n",
            "     0.        ]]\n",
            "\n",
            "  ...\n",
            "\n",
            "  [[ 0.          0.          0.         ...  0.          0.\n",
            "     0.        ]\n",
            "   [ 0.          0.          0.         ...  0.          0.\n",
            "     0.        ]\n",
            "   [ 0.          0.          0.         ...  0.          0.\n",
            "     0.        ]\n",
            "   ...\n",
            "   [ 0.          0.          0.         ...  0.          0.\n",
            "     0.        ]\n",
            "   [ 0.          0.          0.         ...  0.          0.\n",
            "     0.        ]\n",
            "   [ 0.          0.          0.         ...  0.          0.\n",
            "     0.        ]]\n",
            "\n",
            "  [[ 0.          0.          0.         ...  0.          0.08115864\n",
            "     0.        ]\n",
            "   [ 2.6179981   0.          0.         ...  0.          0.\n",
            "     0.        ]\n",
            "   [ 1.0281714   0.          0.         ...  0.          0.\n",
            "     0.        ]\n",
            "   ...\n",
            "   [ 0.          0.          0.         ...  0.          0.\n",
            "     7.0471063 ]\n",
            "   [ 0.          0.          0.         ...  0.          0.\n",
            "     4.5044274 ]\n",
            "   [ 0.          0.          0.         ...  0.          0.\n",
            "     0.        ]]\n",
            "\n",
            "  [[ 0.          0.          0.         ...  0.          0.\n",
            "     0.        ]\n",
            "   [ 0.          0.          0.         ...  0.          0.\n",
            "     0.        ]\n",
            "   [ 0.          0.          0.         ...  0.          0.\n",
            "     7.0482616 ]\n",
            "   ...\n",
            "   [ 0.          0.          0.         ...  0.          0.\n",
            "    12.226278  ]\n",
            "   [ 0.          0.          0.         ...  0.          0.\n",
            "    13.133177  ]\n",
            "   [ 0.          0.          0.         ...  0.          0.\n",
            "     0.5856012 ]]]]\n"
          ],
          "name": "stdout"
        }
      ]
    },
    {
      "cell_type": "markdown",
      "metadata": {
        "id": "ixomsMTOi4iO"
      },
      "source": [
        "# candidate image 5 of digit 2"
      ]
    },
    {
      "cell_type": "code",
      "metadata": {
        "colab": {
          "base_uri": "https://localhost:8080/"
        },
        "id": "8HeqF28dt_vb",
        "outputId": "d3813ed0-c08c-4e2c-9182-26053ad41df4"
      },
      "source": [
        "img_path = '/content/drive/MyDrive/digit/candidate/test2/img_55.jpg' # image 2_5\n",
        "img = image.load_img(img_path, target_size = (224,224))\n",
        "x = image.img_to_array(img)\n",
        "x = np.expand_dims(x, axis=0)\n",
        "x = preprocess_input(x)\n",
        "\n",
        "features = model.predict(x)\n",
        "print(features.shape)\n",
        "print(features)"
      ],
      "execution_count": 29,
      "outputs": [
        {
          "output_type": "stream",
          "text": [
            "(1, 7, 7, 512)\n",
            "[[[[ 0.          0.          0.         ...  0.          5.5817623\n",
            "     0.        ]\n",
            "   [ 0.          0.          0.         ...  0.          0.\n",
            "     0.        ]\n",
            "   [ 0.          0.          0.         ...  0.          0.\n",
            "     0.        ]\n",
            "   ...\n",
            "   [ 0.          0.          0.         ...  0.          0.23664981\n",
            "     0.        ]\n",
            "   [ 0.          0.          0.         ...  0.          0.\n",
            "     0.        ]\n",
            "   [ 0.          0.          0.         ...  0.          3.291862\n",
            "     0.        ]]\n",
            "\n",
            "  [[ 0.          0.          0.         ...  0.          0.\n",
            "     0.        ]\n",
            "   [ 0.          0.          0.         ...  0.          0.\n",
            "     0.        ]\n",
            "   [ 0.          0.          0.         ...  0.          0.\n",
            "     0.        ]\n",
            "   ...\n",
            "   [ 0.          0.          0.         ...  0.         15.653146\n",
            "     0.        ]\n",
            "   [ 0.          0.          0.         ...  0.          0.\n",
            "     0.        ]\n",
            "   [ 0.          0.          0.         ...  0.          0.\n",
            "     0.        ]]\n",
            "\n",
            "  [[ 0.          0.          0.         ...  0.          0.\n",
            "     0.        ]\n",
            "   [ 0.          0.          0.         ...  0.          0.\n",
            "     0.        ]\n",
            "   [ 0.          0.          0.         ...  0.          0.\n",
            "     0.        ]\n",
            "   ...\n",
            "   [ 0.          0.          0.         ...  0.         18.721563\n",
            "     0.        ]\n",
            "   [ 0.          0.          0.         ...  0.          0.\n",
            "     0.        ]\n",
            "   [ 0.          0.          0.         ...  0.          0.\n",
            "     0.        ]]\n",
            "\n",
            "  ...\n",
            "\n",
            "  [[ 0.          0.          0.         ...  0.          0.\n",
            "     0.        ]\n",
            "   [ 0.          0.          0.         ...  0.          0.\n",
            "     0.        ]\n",
            "   [ 0.          0.          0.         ...  0.          0.\n",
            "     0.        ]\n",
            "   ...\n",
            "   [ 0.          0.          0.         ...  0.          0.\n",
            "     0.        ]\n",
            "   [ 0.          0.          0.         ...  0.          0.\n",
            "     0.        ]\n",
            "   [ 0.          0.          0.         ...  0.          0.\n",
            "     0.        ]]\n",
            "\n",
            "  [[ 0.          0.          0.         ...  0.          0.7693385\n",
            "     0.        ]\n",
            "   [ 0.          0.          0.         ...  0.          0.1493311\n",
            "     0.        ]\n",
            "   [ 0.          0.          0.         ...  0.          0.\n",
            "     0.        ]\n",
            "   ...\n",
            "   [ 0.          0.          0.         ...  0.          0.\n",
            "     8.971026  ]\n",
            "   [ 0.          0.          0.         ...  0.          0.\n",
            "     9.800758  ]\n",
            "   [ 0.          0.          0.         ...  0.          0.\n",
            "     0.        ]]\n",
            "\n",
            "  [[ 0.          0.          0.         ...  0.          0.\n",
            "     0.        ]\n",
            "   [ 0.          0.          0.         ...  0.          0.\n",
            "     0.        ]\n",
            "   [ 0.          0.          0.         ...  0.          0.\n",
            "     0.        ]\n",
            "   ...\n",
            "   [ 0.          0.          0.         ...  0.          0.\n",
            "     4.3037276 ]\n",
            "   [ 0.          0.          0.         ...  0.          0.\n",
            "     6.8291373 ]\n",
            "   [ 0.          0.          0.         ...  0.          0.\n",
            "     0.        ]]]]\n"
          ],
          "name": "stdout"
        }
      ]
    },
    {
      "cell_type": "markdown",
      "metadata": {
        "id": "QYqy62P0i6V7"
      },
      "source": [
        "# candidate image 6 of digit 2"
      ]
    },
    {
      "cell_type": "code",
      "metadata": {
        "colab": {
          "base_uri": "https://localhost:8080/"
        },
        "id": "Pv-iMiM-uQd4",
        "outputId": "3646de07-cf00-430f-fd64-a7c3e5c565ea"
      },
      "source": [
        "img_path = '/content/drive/MyDrive/digit/candidate/test2/img_56.jpg' # image 2_6\n",
        "img = image.load_img(img_path, target_size = (224,224))\n",
        "x = image.img_to_array(img)\n",
        "x = np.expand_dims(x, axis=0)\n",
        "x = preprocess_input(x)\n",
        "\n",
        "features = model.predict(x)\n",
        "print(features.shape)\n",
        "print(features)"
      ],
      "execution_count": 30,
      "outputs": [
        {
          "output_type": "stream",
          "text": [
            "(1, 7, 7, 512)\n",
            "[[[[ 0.          0.          0.         ...  0.          0.\n",
            "     0.        ]\n",
            "   [ 0.          0.          0.         ...  0.          0.13159674\n",
            "     0.        ]\n",
            "   [ 0.          0.          0.         ...  0.          3.5688312\n",
            "     0.        ]\n",
            "   ...\n",
            "   [ 0.          0.          0.         ...  0.          0.\n",
            "     0.        ]\n",
            "   [ 0.          0.          0.         ...  0.          7.028235\n",
            "     0.        ]\n",
            "   [ 0.          0.          0.         ...  0.          2.0762613\n",
            "     0.        ]]\n",
            "\n",
            "  [[ 0.          0.          0.         ...  0.          3.7765362\n",
            "     0.        ]\n",
            "   [ 0.          0.          0.         ...  0.          3.038802\n",
            "     0.        ]\n",
            "   [ 0.          0.          0.         ...  0.          0.\n",
            "     0.        ]\n",
            "   ...\n",
            "   [ 0.          0.         25.552765   ...  0.          0.\n",
            "     0.        ]\n",
            "   [ 0.          0.          0.         ...  0.          0.\n",
            "     0.        ]\n",
            "   [ 0.          0.          0.         ...  0.          0.\n",
            "     0.        ]]\n",
            "\n",
            "  [[ 0.          0.          0.         ...  0.          2.6751847\n",
            "     0.        ]\n",
            "   [ 0.          0.          0.         ...  0.          0.\n",
            "     0.        ]\n",
            "   [ 0.          0.          0.         ...  0.          0.\n",
            "     0.        ]\n",
            "   ...\n",
            "   [ 0.          0.         33.217438   ...  0.         11.897988\n",
            "     0.        ]\n",
            "   [ 0.          0.          0.         ...  0.          0.82847977\n",
            "     0.        ]\n",
            "   [ 0.          0.          0.         ...  0.          0.\n",
            "     0.        ]]\n",
            "\n",
            "  ...\n",
            "\n",
            "  [[ 0.          0.          0.         ...  0.          0.\n",
            "     0.        ]\n",
            "   [ 0.          0.          0.         ...  0.          0.72595805\n",
            "     0.        ]\n",
            "   [ 0.          0.          0.         ...  0.         11.185046\n",
            "     0.        ]\n",
            "   ...\n",
            "   [ 0.          0.          0.         ...  0.          0.\n",
            "     0.        ]\n",
            "   [ 0.          0.          0.         ...  0.          0.\n",
            "     0.        ]\n",
            "   [ 0.          0.          0.         ...  0.          0.\n",
            "     0.        ]]\n",
            "\n",
            "  [[ 0.          0.          0.         ...  0.          0.25607812\n",
            "     0.        ]\n",
            "   [ 0.          0.          0.         ...  0.          0.\n",
            "     0.        ]\n",
            "   [ 0.          0.          0.         ...  0.          0.\n",
            "     0.        ]\n",
            "   ...\n",
            "   [ 0.          0.          0.         ...  0.          0.\n",
            "     3.052448  ]\n",
            "   [ 0.          0.          0.         ...  0.          0.\n",
            "     6.1138086 ]\n",
            "   [ 0.          0.          0.         ...  0.          2.5692706\n",
            "     0.        ]]\n",
            "\n",
            "  [[ 0.          0.          0.         ...  0.          0.\n",
            "     0.        ]\n",
            "   [ 0.          0.          0.         ...  0.          0.\n",
            "     0.997772  ]\n",
            "   [ 0.          0.          0.         ...  0.          0.\n",
            "     2.2931893 ]\n",
            "   ...\n",
            "   [ 0.          0.          0.         ...  0.          0.\n",
            "     7.555639  ]\n",
            "   [ 0.          0.          0.         ...  0.          0.\n",
            "    12.442896  ]\n",
            "   [ 0.          0.          0.         ...  0.          0.\n",
            "     0.        ]]]]\n"
          ],
          "name": "stdout"
        }
      ]
    },
    {
      "cell_type": "markdown",
      "metadata": {
        "id": "aNN3C1Kci8L2"
      },
      "source": [
        "# candidate image 7 of digit 2"
      ]
    },
    {
      "cell_type": "code",
      "metadata": {
        "colab": {
          "base_uri": "https://localhost:8080/"
        },
        "id": "wauYKcH1uSCj",
        "outputId": "f4053cd1-afe6-4787-c02b-276cd8d37131"
      },
      "source": [
        "img_path = '/content/drive/MyDrive/digit/candidate/test2/img_73.jpg' # image2_7\n",
        "img = image.load_img(img_path, target_size = (224,224))\n",
        "x = image.img_to_array(img)\n",
        "x = np.expand_dims(x, axis=0)\n",
        "x = preprocess_input(x)\n",
        "\n",
        "features = model.predict(x)\n",
        "print(features.shape)\n",
        "print(features)"
      ],
      "execution_count": 31,
      "outputs": [
        {
          "output_type": "stream",
          "text": [
            "(1, 7, 7, 512)\n",
            "[[[[ 0.          0.          0.         ...  0.          6.08904\n",
            "     0.        ]\n",
            "   [ 0.          0.          0.         ...  0.          0.\n",
            "     0.        ]\n",
            "   [ 0.          0.          0.         ...  0.          0.\n",
            "     0.        ]\n",
            "   ...\n",
            "   [ 0.          0.          5.6206427  ...  0.         15.704424\n",
            "     0.        ]\n",
            "   [ 0.          0.          0.         ...  0.         21.03637\n",
            "     0.        ]\n",
            "   [ 0.          0.          0.         ...  0.          7.7672\n",
            "     0.        ]]\n",
            "\n",
            "  [[ 0.          0.          0.         ...  0.          0.\n",
            "     0.        ]\n",
            "   [ 0.          0.          0.         ...  0.          0.07687241\n",
            "     0.        ]\n",
            "   [ 0.          0.          0.         ...  0.          0.\n",
            "     0.        ]\n",
            "   ...\n",
            "   [ 0.          0.         33.158768   ...  0.          0.\n",
            "     0.        ]\n",
            "   [ 0.          0.         18.090385   ...  0.         20.273724\n",
            "     0.        ]\n",
            "   [ 0.          0.          0.         ...  0.          2.4354525\n",
            "     0.        ]]\n",
            "\n",
            "  [[ 0.          0.          0.         ...  0.          0.\n",
            "     0.        ]\n",
            "   [ 0.          0.          0.         ...  0.          0.\n",
            "     0.        ]\n",
            "   [ 0.          0.          0.         ...  0.          0.\n",
            "     0.        ]\n",
            "   ...\n",
            "   [ 0.          0.          0.         ...  0.          0.\n",
            "     0.        ]\n",
            "   [ 0.          0.          0.         ...  0.         11.23523\n",
            "     0.        ]\n",
            "   [ 0.          0.          0.         ...  0.          0.08830428\n",
            "     0.        ]]\n",
            "\n",
            "  ...\n",
            "\n",
            "  [[ 0.          0.          0.         ...  0.          0.\n",
            "     0.        ]\n",
            "   [ 0.          0.          0.         ...  0.          0.\n",
            "     0.        ]\n",
            "   [ 0.          0.          0.         ...  0.          0.\n",
            "     0.        ]\n",
            "   ...\n",
            "   [ 0.          0.          0.         ...  0.         18.805655\n",
            "     0.        ]\n",
            "   [ 0.          0.          0.         ...  0.         10.393668\n",
            "     0.        ]\n",
            "   [ 0.          0.          0.         ...  0.          7.631261\n",
            "     0.        ]]\n",
            "\n",
            "  [[ 0.          0.          0.         ...  0.          0.\n",
            "     0.        ]\n",
            "   [ 0.          0.          0.         ...  0.          0.3184932\n",
            "     0.        ]\n",
            "   [ 0.          0.          0.         ...  0.          0.\n",
            "     0.        ]\n",
            "   ...\n",
            "   [ 0.          0.          0.         ...  0.          4.224191\n",
            "     0.        ]\n",
            "   [ 0.          0.          0.         ...  0.         13.247634\n",
            "     0.        ]\n",
            "   [ 0.          0.          0.         ...  0.         11.44364\n",
            "     0.        ]]\n",
            "\n",
            "  [[ 0.          0.          0.         ...  0.          0.\n",
            "     0.        ]\n",
            "   [ 0.          0.          0.         ...  0.          0.\n",
            "     0.        ]\n",
            "   [ 0.          0.          0.         ...  0.          0.\n",
            "     0.        ]\n",
            "   ...\n",
            "   [ 0.          0.          0.         ...  0.          0.\n",
            "     0.        ]\n",
            "   [ 0.          0.          0.         ...  0.          0.\n",
            "     0.        ]\n",
            "   [ 0.          0.          0.         ...  0.          0.\n",
            "     0.        ]]]]\n"
          ],
          "name": "stdout"
        }
      ]
    },
    {
      "cell_type": "markdown",
      "metadata": {
        "id": "m1Zo6n6gi9tf"
      },
      "source": [
        "# candidate image 8 of digit 2"
      ]
    },
    {
      "cell_type": "code",
      "metadata": {
        "colab": {
          "base_uri": "https://localhost:8080/"
        },
        "id": "W_mKPaxnuToB",
        "outputId": "2ea011ca-10ea-4680-e1d3-4488e191251e"
      },
      "source": [
        "img_path = '/content/drive/MyDrive/digit/candidate/test2/img_84.jpg' # image 2_8\n",
        "img = image.load_img(img_path, target_size = (224,224))\n",
        "x = image.img_to_array(img)\n",
        "x = np.expand_dims(x, axis=0)\n",
        "x = preprocess_input(x)\n",
        "\n",
        "features = model.predict(x)\n",
        "print(features.shape)\n",
        "print(features)"
      ],
      "execution_count": 32,
      "outputs": [
        {
          "output_type": "stream",
          "text": [
            "(1, 7, 7, 512)\n",
            "[[[[ 0.          0.          0.         ...  0.          6.5146613\n",
            "     0.        ]\n",
            "   [ 0.          0.          0.         ...  0.          0.\n",
            "     0.        ]\n",
            "   [ 0.          0.          0.         ...  0.          0.\n",
            "     0.        ]\n",
            "   ...\n",
            "   [ 0.          0.          0.         ...  0.         11.225085\n",
            "     0.        ]\n",
            "   [ 0.          0.          0.         ...  0.          9.519715\n",
            "     0.        ]\n",
            "   [ 0.          0.          0.         ...  0.          2.2235827\n",
            "     0.        ]]\n",
            "\n",
            "  [[ 0.          0.          0.         ...  0.          0.\n",
            "     0.        ]\n",
            "   [ 0.          0.          0.         ...  0.         10.439097\n",
            "     0.        ]\n",
            "   [ 0.          0.          0.         ...  0.          6.9447274\n",
            "     0.        ]\n",
            "   ...\n",
            "   [ 0.          0.         10.470228   ...  0.         15.465939\n",
            "     0.        ]\n",
            "   [ 0.          0.          0.         ...  0.         10.384847\n",
            "     0.        ]\n",
            "   [ 0.          0.          0.         ...  0.          0.\n",
            "     0.        ]]\n",
            "\n",
            "  [[ 0.          0.          0.         ...  0.          0.\n",
            "     0.        ]\n",
            "   [ 0.          0.          0.         ...  0.          2.1269739\n",
            "     0.        ]\n",
            "   [ 0.          0.          0.         ...  0.          0.\n",
            "     0.        ]\n",
            "   ...\n",
            "   [ 0.          0.          6.694496   ...  0.          9.801334\n",
            "     0.        ]\n",
            "   [ 0.          0.          0.         ...  0.          8.091857\n",
            "     0.        ]\n",
            "   [ 0.          0.          0.         ...  0.          0.\n",
            "     0.        ]]\n",
            "\n",
            "  ...\n",
            "\n",
            "  [[ 0.          0.          0.         ...  0.          0.\n",
            "     0.        ]\n",
            "   [ 0.          0.          0.         ...  0.          0.\n",
            "     0.        ]\n",
            "   [ 0.          0.          0.         ...  0.          0.\n",
            "     0.        ]\n",
            "   ...\n",
            "   [ 0.          0.          0.         ...  0.         14.649715\n",
            "     0.        ]\n",
            "   [ 0.          0.          0.         ...  0.          0.\n",
            "     0.        ]\n",
            "   [ 0.          0.          0.         ...  0.          0.\n",
            "     0.        ]]\n",
            "\n",
            "  [[ 0.          0.          0.         ...  0.          0.92066884\n",
            "     0.        ]\n",
            "   [ 0.          0.          0.         ...  0.          1.8990977\n",
            "     0.        ]\n",
            "   [ 0.          0.          0.         ...  0.          0.\n",
            "     0.        ]\n",
            "   ...\n",
            "   [ 0.          0.          0.         ...  0.          8.058049\n",
            "     0.        ]\n",
            "   [ 0.          0.          0.         ...  0.          0.\n",
            "     0.        ]\n",
            "   [ 0.          0.          0.         ...  0.          1.5791245\n",
            "     0.        ]]\n",
            "\n",
            "  [[ 0.          0.          0.         ...  0.          0.71487176\n",
            "     0.        ]\n",
            "   [ 0.          0.          0.         ...  0.          0.\n",
            "     0.        ]\n",
            "   [ 0.          0.          0.         ...  0.          0.\n",
            "     0.        ]\n",
            "   ...\n",
            "   [ 0.          0.          0.         ...  0.          0.\n",
            "     0.        ]\n",
            "   [ 0.          0.          0.         ...  0.          0.\n",
            "     0.        ]\n",
            "   [ 0.          0.          0.         ...  0.          0.\n",
            "     0.        ]]]]\n"
          ],
          "name": "stdout"
        }
      ]
    },
    {
      "cell_type": "markdown",
      "metadata": {
        "id": "8yqsOePKi_iH"
      },
      "source": [
        "# candidate image 9 of digit 2"
      ]
    },
    {
      "cell_type": "code",
      "metadata": {
        "colab": {
          "base_uri": "https://localhost:8080/"
        },
        "id": "VHZ3o16luVI8",
        "outputId": "6763f5a8-0647-4688-a957-2a2625c00eac"
      },
      "source": [
        "img_path = '/content/drive/MyDrive/digit/candidate/test2/img_94.jpg' image 2_9\n",
        "img = image.load_img(img_path, target_size = (224,224))\n",
        "x = image.img_to_array(img)\n",
        "x = np.expand_dims(x, axis=0)\n",
        "x = preprocess_input(x)\n",
        "\n",
        "features = model.predict(x)\n",
        "print(features.shape)\n",
        "print(features)"
      ],
      "execution_count": 33,
      "outputs": [
        {
          "output_type": "stream",
          "text": [
            "(1, 7, 7, 512)\n",
            "[[[[ 0.          0.          0.         ...  0.          2.9716172\n",
            "     0.        ]\n",
            "   [ 0.          0.          0.         ...  0.          0.\n",
            "     0.        ]\n",
            "   [ 0.          0.          0.         ...  0.          0.\n",
            "     0.        ]\n",
            "   ...\n",
            "   [ 0.          0.          0.         ...  0.          2.4148417\n",
            "     0.        ]\n",
            "   [ 0.          0.          0.         ...  0.          1.6230366\n",
            "     0.        ]\n",
            "   [ 0.          0.          0.         ...  0.          2.4648893\n",
            "     0.        ]]\n",
            "\n",
            "  [[ 0.          0.          0.         ...  0.          0.\n",
            "     0.        ]\n",
            "   [ 0.          0.          0.96950924 ...  0.          1.0599242\n",
            "     0.        ]\n",
            "   [ 0.          0.          6.705574   ...  0.          0.\n",
            "     0.        ]\n",
            "   ...\n",
            "   [ 0.          0.          0.         ...  0.         15.4624605\n",
            "     0.        ]\n",
            "   [ 0.          0.          0.         ...  0.         18.664175\n",
            "     0.        ]\n",
            "   [ 0.          0.          0.         ...  0.          0.\n",
            "     0.        ]]\n",
            "\n",
            "  [[ 0.          0.          0.         ...  0.          0.\n",
            "     0.        ]\n",
            "   [ 0.          0.          0.         ...  0.          0.\n",
            "     0.        ]\n",
            "   [ 0.          0.          0.         ...  0.          0.\n",
            "     0.        ]\n",
            "   ...\n",
            "   [ 0.          0.         27.70438    ...  0.         25.906675\n",
            "     0.        ]\n",
            "   [ 0.          0.         28.946217   ...  0.         48.418774\n",
            "     0.        ]\n",
            "   [ 0.          0.          0.         ...  0.         17.163647\n",
            "     0.        ]]\n",
            "\n",
            "  ...\n",
            "\n",
            "  [[ 0.          0.          0.         ...  0.          0.\n",
            "     0.        ]\n",
            "   [ 0.          0.          0.         ...  0.          1.7116189\n",
            "     0.        ]\n",
            "   [ 0.          0.          0.         ...  0.          0.\n",
            "     0.        ]\n",
            "   ...\n",
            "   [ 0.          0.          0.         ...  0.          0.\n",
            "     0.        ]\n",
            "   [ 0.          0.          0.         ...  0.         32.040676\n",
            "     0.        ]\n",
            "   [ 0.          0.          0.         ...  0.         29.57109\n",
            "     0.        ]]\n",
            "\n",
            "  [[ 0.          0.          0.         ...  0.          0.\n",
            "     0.        ]\n",
            "   [ 0.          0.          0.         ...  0.          0.88670415\n",
            "     0.        ]\n",
            "   [ 0.          0.          0.         ...  0.          0.\n",
            "     0.        ]\n",
            "   ...\n",
            "   [ 0.          0.          0.         ...  0.          0.\n",
            "     0.        ]\n",
            "   [ 0.          0.          0.         ...  0.          0.\n",
            "     0.        ]\n",
            "   [ 0.          0.          0.         ...  0.          5.262061\n",
            "     0.        ]]\n",
            "\n",
            "  [[ 0.          0.          0.         ...  0.          0.\n",
            "     0.        ]\n",
            "   [ 0.          0.          0.         ...  0.          0.\n",
            "     3.7705524 ]\n",
            "   [ 0.          0.          0.         ...  0.          0.\n",
            "     4.834844  ]\n",
            "   ...\n",
            "   [ 0.          0.          0.         ...  0.          0.\n",
            "     5.931039  ]\n",
            "   [ 0.          0.          0.         ...  0.          0.\n",
            "     5.777925  ]\n",
            "   [ 0.          0.          0.         ...  0.          0.\n",
            "     0.        ]]]]\n"
          ],
          "name": "stdout"
        }
      ]
    },
    {
      "cell_type": "markdown",
      "metadata": {
        "id": "oo3lVHO4jBId"
      },
      "source": [
        "# candidate image 10 of digit 2"
      ]
    },
    {
      "cell_type": "code",
      "metadata": {
        "colab": {
          "base_uri": "https://localhost:8080/"
        },
        "id": "OfosT_ZnuWyO",
        "outputId": "03384fe6-07c1-4a8b-8f33-001e843e7fab"
      },
      "source": [
        "img_path = '/content/drive/MyDrive/digit/candidate/test2/img_97.jpg' image 2_10\n",
        "img = image.load_img(img_path, target_size = (224,224))\n",
        "x = image.img_to_array(img)\n",
        "x = np.expand_dims(x, axis=0)\n",
        "x = preprocess_input(x)\n",
        "\n",
        "features = model.predict(x)\n",
        "print(features.shape)\n",
        "print(features)"
      ],
      "execution_count": 34,
      "outputs": [
        {
          "output_type": "stream",
          "text": [
            "(1, 7, 7, 512)\n",
            "[[[[ 0.         0.         0.        ...  0.         0.8017127\n",
            "     0.       ]\n",
            "   [ 0.         0.         0.        ...  0.         0.\n",
            "     0.       ]\n",
            "   [ 0.         0.         0.        ...  0.         0.\n",
            "     0.       ]\n",
            "   ...\n",
            "   [ 0.         0.         0.        ...  0.         7.9748883\n",
            "     0.       ]\n",
            "   [ 0.         0.         0.        ...  0.        10.384302\n",
            "     0.       ]\n",
            "   [ 0.         0.         0.        ...  0.         1.9688885\n",
            "     0.       ]]\n",
            "\n",
            "  [[ 0.         0.         0.        ...  0.         0.\n",
            "     0.       ]\n",
            "   [ 0.         0.         0.        ...  0.         0.\n",
            "     0.       ]\n",
            "   [ 0.         0.        21.120066  ...  0.         0.\n",
            "     0.       ]\n",
            "   ...\n",
            "   [ 0.         0.        33.732452  ...  0.         6.961899\n",
            "     0.       ]\n",
            "   [ 0.         0.         8.221276  ...  0.        18.470114\n",
            "     0.       ]\n",
            "   [ 0.         0.         0.        ...  0.         2.6616244\n",
            "     0.       ]]\n",
            "\n",
            "  [[ 0.         0.         0.        ...  0.         0.\n",
            "     0.       ]\n",
            "   [ 0.         0.         0.        ...  0.         0.\n",
            "     0.       ]\n",
            "   [ 0.         0.         0.        ...  0.         0.\n",
            "     0.       ]\n",
            "   ...\n",
            "   [ 0.         0.        35.240395  ...  0.        16.589607\n",
            "     6.858884 ]\n",
            "   [ 0.         0.         9.8760395 ...  0.        17.554205\n",
            "     0.       ]\n",
            "   [ 0.         0.         0.        ...  0.         4.110231\n",
            "     0.       ]]\n",
            "\n",
            "  ...\n",
            "\n",
            "  [[ 0.         0.         0.        ...  0.         0.\n",
            "     0.       ]\n",
            "   [ 0.         0.        10.348989  ...  0.         3.3379505\n",
            "     0.       ]\n",
            "   [ 0.         0.        15.482597  ...  0.         0.\n",
            "     0.       ]\n",
            "   ...\n",
            "   [ 0.         0.         0.        ...  0.         6.754777\n",
            "     0.       ]\n",
            "   [ 0.         0.         0.        ...  0.        18.139975\n",
            "     0.       ]\n",
            "   [ 0.         0.         0.        ...  0.         0.\n",
            "     0.       ]]\n",
            "\n",
            "  [[ 0.         0.         0.        ...  0.         6.6057878\n",
            "     0.       ]\n",
            "   [ 0.         0.         1.6273819 ...  0.        11.216931\n",
            "     0.       ]\n",
            "   [ 0.         0.         0.        ...  0.         0.\n",
            "     0.       ]\n",
            "   ...\n",
            "   [ 0.         0.         0.        ...  0.         0.\n",
            "     0.       ]\n",
            "   [ 0.         0.         0.        ...  0.         1.3892317\n",
            "     0.       ]\n",
            "   [ 0.         0.         0.        ...  0.         0.8893832\n",
            "     0.       ]]\n",
            "\n",
            "  [[ 0.         0.         0.        ...  0.         3.5899272\n",
            "     0.       ]\n",
            "   [ 0.         0.         0.        ...  0.         0.\n",
            "     0.       ]\n",
            "   [ 0.         0.         0.        ...  0.         0.\n",
            "     0.       ]\n",
            "   ...\n",
            "   [ 0.         0.         0.        ...  0.         0.\n",
            "     0.       ]\n",
            "   [ 0.         0.         0.        ...  0.         0.\n",
            "     0.       ]\n",
            "   [ 0.         0.         0.        ...  0.         0.\n",
            "     0.       ]]]]\n"
          ],
          "name": "stdout"
        }
      ]
    },
    {
      "cell_type": "markdown",
      "metadata": {
        "id": "ISZtfMmJzfpH"
      },
      "source": [
        "# End of MNIST 2 digit"
      ]
    },
    {
      "cell_type": "markdown",
      "metadata": {
        "id": "h-P9veBRuiMR"
      },
      "source": [
        "# Here I have taken original image of number **\"7\"** from the MNIST dataset. "
      ]
    },
    {
      "cell_type": "code",
      "metadata": {
        "colab": {
          "base_uri": "https://localhost:8080/"
        },
        "id": "ovtUsjtYuYyj",
        "outputId": "9440c811-009a-4478-a415-b5af66d7f9dc"
      },
      "source": [
        "img_path = '/content/drive/MyDrive/digit/master/master7/master7.jpg' # original image of 7\n",
        "img = image.load_img(img_path, target_size = (224,224))\n",
        "x = image.img_to_array(img)\n",
        "x = np.expand_dims(x, axis=0)\n",
        "x = preprocess_input(x)\n",
        "\n",
        "features = model.predict(x)\n",
        "print(features.shape)\n",
        "print(features)"
      ],
      "execution_count": 36,
      "outputs": [
        {
          "output_type": "stream",
          "text": [
            "(1, 7, 7, 512)\n",
            "[[[[ 0.          0.          0.         ...  0.          0.\n",
            "     0.        ]\n",
            "   [ 0.          0.          0.         ...  0.          0.\n",
            "     0.        ]\n",
            "   [ 0.          0.          0.         ...  0.          0.\n",
            "     0.        ]\n",
            "   ...\n",
            "   [ 0.          0.          0.         ...  0.          0.\n",
            "     0.        ]\n",
            "   [ 0.          0.          0.         ...  0.          0.7078204\n",
            "     0.        ]\n",
            "   [ 0.          0.          0.         ...  0.          0.\n",
            "     0.        ]]\n",
            "\n",
            "  [[ 0.          0.          0.         ...  0.          0.\n",
            "     0.        ]\n",
            "   [ 0.          0.          0.         ...  0.          0.\n",
            "     0.        ]\n",
            "   [ 0.          0.          0.         ...  0.          0.\n",
            "     0.        ]\n",
            "   ...\n",
            "   [ 0.          0.          0.         ...  0.          0.\n",
            "     0.        ]\n",
            "   [ 0.          0.          0.         ...  0.          0.\n",
            "     0.        ]\n",
            "   [ 0.          0.          0.         ...  0.          0.\n",
            "     0.        ]]\n",
            "\n",
            "  [[ 0.          0.          0.         ...  0.          0.63903683\n",
            "     0.        ]\n",
            "   [ 0.          0.          0.         ...  0.          3.8462634\n",
            "     0.        ]\n",
            "   [ 0.          0.          0.         ...  0.          0.\n",
            "     0.        ]\n",
            "   ...\n",
            "   [ 0.          0.          0.         ...  0.          0.\n",
            "     0.        ]\n",
            "   [ 0.          0.          0.         ...  0.          0.\n",
            "     0.        ]\n",
            "   [ 0.          0.          0.         ...  0.          0.\n",
            "     0.        ]]\n",
            "\n",
            "  ...\n",
            "\n",
            "  [[ 0.          0.          0.         ...  0.          0.\n",
            "     0.        ]\n",
            "   [ 0.          0.          0.         ...  0.          0.\n",
            "     0.        ]\n",
            "   [ 0.          0.          0.         ...  0.          5.0420346\n",
            "     0.        ]\n",
            "   ...\n",
            "   [ 0.          0.          0.         ...  0.         10.888499\n",
            "     0.        ]\n",
            "   [ 0.          0.          0.         ...  0.          0.\n",
            "     0.        ]\n",
            "   [ 0.          0.          0.         ...  0.          0.\n",
            "     0.        ]]\n",
            "\n",
            "  [[ 0.          0.          0.         ...  0.          0.\n",
            "     0.        ]\n",
            "   [ 0.          0.          0.         ...  0.          4.044252\n",
            "     0.        ]\n",
            "   [ 0.          0.          0.         ...  0.         15.657687\n",
            "     0.        ]\n",
            "   ...\n",
            "   [ 0.          0.          0.         ...  0.         30.41059\n",
            "     0.        ]\n",
            "   [ 0.          0.          0.         ...  0.          2.8290415\n",
            "     0.        ]\n",
            "   [ 0.          0.          0.         ...  0.          0.\n",
            "     0.        ]]\n",
            "\n",
            "  [[ 0.          0.          0.         ...  0.          0.\n",
            "     0.        ]\n",
            "   [ 0.          0.          0.         ...  0.          0.\n",
            "     0.        ]\n",
            "   [ 0.          0.          0.         ...  0.          0.6266219\n",
            "     0.        ]\n",
            "   ...\n",
            "   [ 0.          0.          0.         ...  0.         13.940413\n",
            "     0.        ]\n",
            "   [ 0.          0.          0.         ...  0.          0.\n",
            "     0.9429333 ]\n",
            "   [ 0.          0.          0.         ...  0.          0.\n",
            "     0.        ]]]]\n"
          ],
          "name": "stdout"
        }
      ]
    },
    {
      "cell_type": "markdown",
      "metadata": {
        "id": "t9MOGZTgu6K5"
      },
      "source": [
        "# Here I have taken 10 candidate images of number **\"7\"** from the MNIST dataset. "
      ]
    },
    {
      "cell_type": "markdown",
      "metadata": {
        "id": "GpASgnEkjDVP"
      },
      "source": [
        "# candidate image 1 of digit 7"
      ]
    },
    {
      "cell_type": "code",
      "metadata": {
        "colab": {
          "base_uri": "https://localhost:8080/"
        },
        "id": "IXjgZdxjuoYz",
        "outputId": "a44cb9ce-3139-49b7-e575-924227e1f207"
      },
      "source": [
        "img_path = '/content/drive/MyDrive/digit/candidate/test7/img_18.jpg' # image 7_1\n",
        "img = image.load_img(img_path, target_size = (224,224))\n",
        "x = image.img_to_array(img)\n",
        "x = np.expand_dims(x, axis=0)\n",
        "x = preprocess_input(x)\n",
        "\n",
        "features = model.predict(x)\n",
        "print(features.shape)\n",
        "print(features)"
      ],
      "execution_count": 37,
      "outputs": [
        {
          "output_type": "stream",
          "text": [
            "(1, 7, 7, 512)\n",
            "[[[[ 0.          0.          0.         ...  0.          5.582048\n",
            "     0.        ]\n",
            "   [ 0.          0.          0.         ...  0.          0.\n",
            "     0.        ]\n",
            "   [ 0.          0.          0.         ...  0.          0.\n",
            "     0.        ]\n",
            "   ...\n",
            "   [ 0.          0.          0.         ...  0.          0.\n",
            "     0.        ]\n",
            "   [ 0.          0.          0.         ...  0.          0.\n",
            "     0.        ]\n",
            "   [ 0.          0.          0.         ...  0.          0.\n",
            "     0.        ]]\n",
            "\n",
            "  [[ 0.          0.          0.         ...  0.          0.\n",
            "     0.        ]\n",
            "   [ 0.          0.          0.         ...  0.          0.\n",
            "     0.        ]\n",
            "   [ 0.          0.          0.         ...  0.          0.\n",
            "     0.        ]\n",
            "   ...\n",
            "   [ 0.          0.          0.         ...  0.          0.\n",
            "     0.        ]\n",
            "   [ 0.          0.          0.         ...  0.          0.\n",
            "     0.        ]\n",
            "   [ 0.          0.          0.         ...  0.          0.\n",
            "     0.        ]]\n",
            "\n",
            "  [[ 0.          0.          0.         ...  0.          0.\n",
            "     0.        ]\n",
            "   [ 0.          0.          0.         ...  0.          0.38033387\n",
            "     0.        ]\n",
            "   [ 0.          0.          0.         ...  0.          0.\n",
            "     0.        ]\n",
            "   ...\n",
            "   [ 0.          0.          6.7734447  ...  0.          4.3088446\n",
            "     0.        ]\n",
            "   [ 0.          0.          0.         ...  0.          6.4814467\n",
            "     0.        ]\n",
            "   [ 0.          0.          0.         ...  0.          0.\n",
            "     0.        ]]\n",
            "\n",
            "  ...\n",
            "\n",
            "  [[ 0.          0.          0.         ...  0.          0.\n",
            "     0.        ]\n",
            "   [ 0.          0.          0.         ...  0.          4.6746755\n",
            "     0.        ]\n",
            "   [ 0.          0.          0.         ...  0.         11.979133\n",
            "     0.        ]\n",
            "   ...\n",
            "   [ 0.          0.          0.         ...  0.         15.879491\n",
            "     0.        ]\n",
            "   [ 0.          0.          0.         ...  0.          0.\n",
            "     0.        ]\n",
            "   [ 0.          0.          0.         ...  0.          0.\n",
            "     0.        ]]\n",
            "\n",
            "  [[ 0.          0.          0.         ...  0.          0.\n",
            "     0.        ]\n",
            "   [ 0.          0.          0.         ...  0.         13.7837925\n",
            "     0.        ]\n",
            "   [ 0.          0.          0.         ...  0.         19.31116\n",
            "     0.        ]\n",
            "   ...\n",
            "   [ 0.          0.          0.         ...  0.         16.638994\n",
            "     0.        ]\n",
            "   [ 0.          0.          0.         ...  0.          0.4203975\n",
            "     0.        ]\n",
            "   [ 0.          0.          0.         ...  0.          0.\n",
            "     0.        ]]\n",
            "\n",
            "  [[ 0.          0.          0.         ...  0.          0.\n",
            "     0.        ]\n",
            "   [ 0.          0.          0.         ...  0.          0.\n",
            "     0.        ]\n",
            "   [ 0.          0.          0.         ...  0.          0.9270298\n",
            "     0.        ]\n",
            "   ...\n",
            "   [ 0.          0.          0.         ...  0.          0.\n",
            "     0.        ]\n",
            "   [ 0.          0.          0.         ...  0.          0.\n",
            "     0.        ]\n",
            "   [ 0.          0.          0.         ...  0.          0.\n",
            "     0.        ]]]]\n"
          ],
          "name": "stdout"
        }
      ]
    },
    {
      "cell_type": "markdown",
      "metadata": {
        "id": "FRjLaGD6jFMB"
      },
      "source": [
        "# candidate image 2 of digit 7"
      ]
    },
    {
      "cell_type": "code",
      "metadata": {
        "colab": {
          "base_uri": "https://localhost:8080/"
        },
        "id": "0y_NgO99u_aH",
        "outputId": "87615ba9-00d5-460a-dd48-398d5859fabb"
      },
      "source": [
        "img_path = '/content/drive/MyDrive/digit/candidate/test7/img_29.jpg' # image 7_2\n",
        "img = image.load_img(img_path, target_size = (224,224))\n",
        "x = image.img_to_array(img)\n",
        "x = np.expand_dims(x, axis=0)\n",
        "x = preprocess_input(x)\n",
        "\n",
        "features = model.predict(x)\n",
        "print(features.shape)\n",
        "print(features)"
      ],
      "execution_count": 38,
      "outputs": [
        {
          "output_type": "stream",
          "text": [
            "(1, 7, 7, 512)\n",
            "[[[[ 0.         0.         0.        ...  0.         0.4257999\n",
            "     0.       ]\n",
            "   [ 0.         0.         0.        ...  0.         0.\n",
            "     0.       ]\n",
            "   [ 0.         0.         0.        ...  0.         0.\n",
            "     0.       ]\n",
            "   ...\n",
            "   [ 0.         0.         0.        ...  0.         0.\n",
            "     0.       ]\n",
            "   [ 0.         0.         0.        ...  0.         5.583093\n",
            "     0.       ]\n",
            "   [ 0.         0.         0.        ...  0.         0.3009998\n",
            "     0.       ]]\n",
            "\n",
            "  [[ 0.         0.         0.        ...  0.         0.\n",
            "     0.       ]\n",
            "   [ 0.         0.         0.        ...  0.         0.\n",
            "     0.       ]\n",
            "   [ 0.         0.         0.        ...  0.         0.\n",
            "     0.       ]\n",
            "   ...\n",
            "   [ 0.         0.         7.887504  ...  0.         0.\n",
            "     0.       ]\n",
            "   [ 0.         0.         0.        ...  0.         0.\n",
            "     0.       ]\n",
            "   [ 0.         0.         0.        ...  0.         0.\n",
            "     0.       ]]\n",
            "\n",
            "  [[ 0.         0.         0.        ...  0.         0.6734579\n",
            "     0.       ]\n",
            "   [ 0.         0.         0.        ...  0.         6.18186\n",
            "     0.       ]\n",
            "   [ 0.         0.         0.        ...  0.         0.\n",
            "     0.       ]\n",
            "   ...\n",
            "   [ 0.         0.        14.139217  ...  0.         0.\n",
            "     0.       ]\n",
            "   [ 0.         0.         8.346485  ...  0.         5.371982\n",
            "     0.       ]\n",
            "   [ 0.         0.         0.        ...  0.         0.\n",
            "     0.       ]]\n",
            "\n",
            "  ...\n",
            "\n",
            "  [[ 0.         0.         0.        ...  0.         0.\n",
            "     0.       ]\n",
            "   [ 0.         0.         0.        ...  0.         0.\n",
            "     0.       ]\n",
            "   [ 0.         0.         0.        ...  0.         1.504905\n",
            "     0.       ]\n",
            "   ...\n",
            "   [ 0.         0.         0.        ...  0.        25.340206\n",
            "     0.       ]\n",
            "   [ 0.         0.         0.        ...  0.        11.801949\n",
            "     0.       ]\n",
            "   [ 0.         0.         0.        ...  0.         0.2402643\n",
            "     0.       ]]\n",
            "\n",
            "  [[ 0.         0.         0.        ...  0.         0.\n",
            "     0.       ]\n",
            "   [ 0.         0.         0.        ...  0.         0.\n",
            "     0.       ]\n",
            "   [ 0.         0.         0.        ...  0.         9.530119\n",
            "     0.       ]\n",
            "   ...\n",
            "   [ 0.         0.         0.        ...  0.        24.916882\n",
            "     0.       ]\n",
            "   [ 0.         0.         0.        ...  0.        11.407017\n",
            "     0.       ]\n",
            "   [ 0.         0.         0.        ...  0.         1.889543\n",
            "     0.       ]]\n",
            "\n",
            "  [[ 0.         0.         0.        ...  0.         0.\n",
            "     0.       ]\n",
            "   [ 0.         0.         0.        ...  0.         0.\n",
            "     0.       ]\n",
            "   [ 0.         0.         0.        ...  0.         0.\n",
            "     0.       ]\n",
            "   ...\n",
            "   [ 0.         0.         0.        ...  0.         7.6905084\n",
            "     0.       ]\n",
            "   [ 0.         0.         0.        ...  0.         0.\n",
            "     0.       ]\n",
            "   [ 0.         0.         0.        ...  0.         0.\n",
            "     0.       ]]]]\n"
          ],
          "name": "stdout"
        }
      ]
    },
    {
      "cell_type": "markdown",
      "metadata": {
        "id": "UCYMQhJxjGmj"
      },
      "source": [
        "# candidate image 3 of digit 7"
      ]
    },
    {
      "cell_type": "code",
      "metadata": {
        "colab": {
          "base_uri": "https://localhost:8080/"
        },
        "id": "GBhHNqOvvCaO",
        "outputId": "1ca98917-6dd0-467e-fcee-f0393e9ddbd1"
      },
      "source": [
        "img_path = '/content/drive/MyDrive/digit/candidate/test7/img_47.jpg' # image 7_3\n",
        "img = image.load_img(img_path, target_size = (224,224))\n",
        "x = image.img_to_array(img)\n",
        "x = np.expand_dims(x, axis=0)\n",
        "x = preprocess_input(x)\n",
        "\n",
        "features = model.predict(x)\n",
        "print(features.shape)\n",
        "print(features)"
      ],
      "execution_count": 39,
      "outputs": [
        {
          "output_type": "stream",
          "text": [
            "(1, 7, 7, 512)\n",
            "[[[[ 0.          0.          0.         ...  0.          2.7254481\n",
            "     0.        ]\n",
            "   [ 0.          0.          0.         ...  0.          0.\n",
            "     0.        ]\n",
            "   [ 0.          0.          0.         ...  0.          0.\n",
            "     0.        ]\n",
            "   ...\n",
            "   [ 0.          0.          0.         ...  0.          1.9890072\n",
            "     0.        ]\n",
            "   [ 0.          0.          0.         ...  0.          0.\n",
            "     0.        ]\n",
            "   [ 0.          0.          0.         ...  0.          2.3879688\n",
            "     0.        ]]\n",
            "\n",
            "  [[ 0.          0.          0.         ...  0.          0.\n",
            "     0.        ]\n",
            "   [ 0.          0.          0.         ...  0.          0.\n",
            "     0.        ]\n",
            "   [ 0.          0.          0.         ...  0.          0.\n",
            "     0.        ]\n",
            "   ...\n",
            "   [ 0.          0.          0.         ...  0.          8.68085\n",
            "     0.        ]\n",
            "   [ 0.          0.          0.         ...  0.          5.964026\n",
            "     0.        ]\n",
            "   [ 0.          0.          0.         ...  0.          0.\n",
            "     0.        ]]\n",
            "\n",
            "  [[ 0.          0.          0.         ...  0.          0.\n",
            "     0.        ]\n",
            "   [ 0.          0.          0.         ...  0.          0.\n",
            "     0.        ]\n",
            "   [ 0.          0.          8.409582   ...  0.          0.\n",
            "     0.        ]\n",
            "   ...\n",
            "   [ 0.          0.         11.1053     ...  0.          1.1713305\n",
            "     0.        ]\n",
            "   [ 0.          0.          0.         ...  0.          1.9027767\n",
            "     0.        ]\n",
            "   [ 0.          0.          0.         ...  0.          0.\n",
            "     0.        ]]\n",
            "\n",
            "  ...\n",
            "\n",
            "  [[ 0.          0.          0.         ...  0.          0.\n",
            "     0.        ]\n",
            "   [ 0.          0.          0.         ...  0.          0.\n",
            "     0.        ]\n",
            "   [ 0.          0.          0.38542247 ...  0.          0.\n",
            "     0.        ]\n",
            "   ...\n",
            "   [ 0.          0.          0.         ...  0.         15.979676\n",
            "     0.        ]\n",
            "   [ 0.          0.          0.         ...  0.          1.8661308\n",
            "     0.        ]\n",
            "   [ 0.          0.          0.         ...  0.          0.\n",
            "     0.        ]]\n",
            "\n",
            "  [[ 0.          0.          0.         ...  0.          0.\n",
            "     0.        ]\n",
            "   [ 0.          0.          0.         ...  0.          5.5786924\n",
            "     0.        ]\n",
            "   [ 0.          0.          0.         ...  0.         13.123834\n",
            "     0.        ]\n",
            "   ...\n",
            "   [ 0.          0.          0.         ...  0.         19.878738\n",
            "     0.        ]\n",
            "   [ 0.          0.          0.         ...  0.          4.2604694\n",
            "     0.        ]\n",
            "   [ 0.          0.          0.         ...  0.          0.\n",
            "     0.        ]]\n",
            "\n",
            "  [[ 0.          0.          0.         ...  0.          0.\n",
            "     0.        ]\n",
            "   [ 0.          0.          0.         ...  0.          0.\n",
            "     0.        ]\n",
            "   [ 0.          0.          0.         ...  0.          0.\n",
            "     0.        ]\n",
            "   ...\n",
            "   [ 0.          0.          0.         ...  0.          0.7489106\n",
            "     0.        ]\n",
            "   [ 0.          0.          0.         ...  0.          0.\n",
            "     0.        ]\n",
            "   [ 0.          0.          0.         ...  0.          0.\n",
            "     0.05619827]]]]\n"
          ],
          "name": "stdout"
        }
      ]
    },
    {
      "cell_type": "markdown",
      "metadata": {
        "id": "Wctv_hbFjJTK"
      },
      "source": [
        "# candidate image 4 of digit 7"
      ]
    },
    {
      "cell_type": "code",
      "metadata": {
        "colab": {
          "base_uri": "https://localhost:8080/"
        },
        "id": "Hhd-ZAcVvFKq",
        "outputId": "1ca3867d-4e51-4376-d5fd-2c60cac543c6"
      },
      "source": [
        "img_path = '/content/drive/MyDrive/digit/candidate/test7/img_48.jpg' # image 7_4\n",
        "img = image.load_img(img_path, target_size = (224,224))\n",
        "x = image.img_to_array(img)\n",
        "x = np.expand_dims(x, axis=0)\n",
        "x = preprocess_input(x)\n",
        "\n",
        "features = model.predict(x)\n",
        "print(features.shape)\n",
        "print(features)"
      ],
      "execution_count": 40,
      "outputs": [
        {
          "output_type": "stream",
          "text": [
            "(1, 7, 7, 512)\n",
            "[[[[ 0.          0.          0.         ...  0.          5.2607374\n",
            "     0.        ]\n",
            "   [ 0.          0.          0.         ...  0.          0.\n",
            "     0.        ]\n",
            "   [ 0.          0.          0.         ...  0.          0.\n",
            "     0.        ]\n",
            "   ...\n",
            "   [ 0.          0.          0.         ...  0.          0.\n",
            "     0.        ]\n",
            "   [ 0.          0.          0.         ...  0.          5.277156\n",
            "     0.        ]\n",
            "   [ 0.          0.          0.         ...  0.          0.39342308\n",
            "     0.        ]]\n",
            "\n",
            "  [[ 0.          0.          0.         ...  0.          0.\n",
            "     0.        ]\n",
            "   [ 0.          0.          0.         ...  0.          0.\n",
            "     0.        ]\n",
            "   [ 0.          0.          0.         ...  0.          0.\n",
            "     0.        ]\n",
            "   ...\n",
            "   [ 0.          0.         11.831433   ...  0.          0.\n",
            "     0.        ]\n",
            "   [ 0.          0.          0.         ...  0.          0.\n",
            "     0.        ]\n",
            "   [ 0.          0.          0.         ...  0.          0.\n",
            "     0.        ]]\n",
            "\n",
            "  [[ 0.          0.          0.         ...  0.          0.\n",
            "     0.        ]\n",
            "   [ 0.          0.          0.         ...  0.          0.24114567\n",
            "     0.        ]\n",
            "   [ 0.          0.          0.         ...  0.          0.\n",
            "     0.        ]\n",
            "   ...\n",
            "   [ 0.          0.          0.         ...  0.          0.\n",
            "     0.        ]\n",
            "   [ 0.          0.          0.         ...  0.          0.\n",
            "     0.        ]\n",
            "   [ 0.          0.          0.         ...  0.          0.\n",
            "     0.        ]]\n",
            "\n",
            "  ...\n",
            "\n",
            "  [[ 0.          0.          0.         ...  0.          0.\n",
            "     0.        ]\n",
            "   [ 0.          0.          0.         ...  0.          3.3603723\n",
            "     0.        ]\n",
            "   [ 0.          0.          0.         ...  0.          5.958312\n",
            "     0.        ]\n",
            "   ...\n",
            "   [ 0.          0.          0.         ...  0.          6.533518\n",
            "     0.        ]\n",
            "   [ 0.          0.          0.         ...  0.          8.11256\n",
            "     0.        ]\n",
            "   [ 0.          0.          0.         ...  0.          3.0755222\n",
            "     0.        ]]\n",
            "\n",
            "  [[ 0.          0.          0.         ...  0.          0.\n",
            "     0.        ]\n",
            "   [ 0.          0.          0.         ...  0.         11.734576\n",
            "     0.        ]\n",
            "   [ 0.          0.          0.         ...  0.         13.958874\n",
            "     0.        ]\n",
            "   ...\n",
            "   [ 0.          0.          0.         ...  0.          2.8321857\n",
            "     0.        ]\n",
            "   [ 0.          0.          0.         ...  0.          4.5505495\n",
            "     0.        ]\n",
            "   [ 0.          0.          0.         ...  0.          3.8364456\n",
            "     0.        ]]\n",
            "\n",
            "  [[ 0.          0.          0.         ...  0.          0.\n",
            "     0.        ]\n",
            "   [ 0.          0.          0.         ...  0.          0.\n",
            "     0.        ]\n",
            "   [ 0.          0.          0.         ...  0.          0.\n",
            "     0.        ]\n",
            "   ...\n",
            "   [ 0.          0.          0.         ...  0.          0.\n",
            "     0.        ]\n",
            "   [ 0.          0.          0.         ...  0.          0.\n",
            "     0.        ]\n",
            "   [ 0.          0.          0.         ...  0.          0.\n",
            "     0.        ]]]]\n"
          ],
          "name": "stdout"
        }
      ]
    },
    {
      "cell_type": "markdown",
      "metadata": {
        "id": "_cdDpdJhjLA3"
      },
      "source": [
        "# candidate image 5 of digit 7"
      ]
    },
    {
      "cell_type": "code",
      "metadata": {
        "colab": {
          "base_uri": "https://localhost:8080/"
        },
        "id": "dnqCCqP6vGvh",
        "outputId": "1b479b03-e926-4a30-ed6e-679d7d79bcc9"
      },
      "source": [
        "img_path = '/content/drive/MyDrive/digit/candidate/test7/img_50.jpg' # image 7_5\n",
        "img = image.load_img(img_path, target_size = (224,224))\n",
        "x = image.img_to_array(img)\n",
        "x = np.expand_dims(x, axis=0)\n",
        "x = preprocess_input(x)\n",
        "\n",
        "features = model.predict(x)\n",
        "print(features.shape)\n",
        "print(features)"
      ],
      "execution_count": 41,
      "outputs": [
        {
          "output_type": "stream",
          "text": [
            "(1, 7, 7, 512)\n",
            "[[[[0.         0.         0.         ... 0.         5.132645\n",
            "    0.        ]\n",
            "   [0.         0.         0.         ... 0.         0.\n",
            "    0.        ]\n",
            "   [0.         0.         0.         ... 0.         0.\n",
            "    0.        ]\n",
            "   ...\n",
            "   [0.         0.         0.         ... 0.         0.\n",
            "    0.        ]\n",
            "   [0.         0.         0.         ... 0.         2.3714452\n",
            "    0.        ]\n",
            "   [0.         0.         0.         ... 0.         2.0332162\n",
            "    0.        ]]\n",
            "\n",
            "  [[0.         0.         0.         ... 0.         0.\n",
            "    0.        ]\n",
            "   [0.         0.         0.         ... 0.         0.\n",
            "    0.        ]\n",
            "   [0.         0.         0.         ... 0.         0.\n",
            "    0.        ]\n",
            "   ...\n",
            "   [0.         0.         0.         ... 0.         0.\n",
            "    0.        ]\n",
            "   [0.         0.         0.         ... 0.         0.\n",
            "    0.        ]\n",
            "   [0.         0.         0.         ... 0.         0.\n",
            "    0.        ]]\n",
            "\n",
            "  [[0.         0.         0.         ... 0.         0.\n",
            "    0.        ]\n",
            "   [0.         0.         0.         ... 0.         0.\n",
            "    0.        ]\n",
            "   [0.         0.         0.         ... 0.         0.\n",
            "    0.        ]\n",
            "   ...\n",
            "   [0.         0.         0.         ... 0.         0.\n",
            "    0.        ]\n",
            "   [0.         0.         0.         ... 0.         0.\n",
            "    0.        ]\n",
            "   [0.         0.         0.         ... 0.         0.\n",
            "    0.        ]]\n",
            "\n",
            "  ...\n",
            "\n",
            "  [[0.         0.         0.         ... 0.         0.\n",
            "    0.        ]\n",
            "   [0.         0.         0.         ... 0.         0.\n",
            "    0.        ]\n",
            "   [0.         0.         0.         ... 0.         0.\n",
            "    0.        ]\n",
            "   ...\n",
            "   [0.         0.         0.         ... 0.         0.28788513\n",
            "    0.        ]\n",
            "   [0.         0.         0.         ... 0.         2.1217535\n",
            "    0.        ]\n",
            "   [0.         0.         0.         ... 0.         0.\n",
            "    0.        ]]\n",
            "\n",
            "  [[0.         0.         0.         ... 0.         0.\n",
            "    0.        ]\n",
            "   [0.         0.         0.         ... 0.         0.\n",
            "    0.        ]\n",
            "   [0.         0.         0.         ... 0.         0.\n",
            "    0.        ]\n",
            "   ...\n",
            "   [0.         0.         0.         ... 0.         4.081728\n",
            "    0.        ]\n",
            "   [0.         0.         0.         ... 0.         0.\n",
            "    0.        ]\n",
            "   [0.         0.         0.         ... 0.         0.\n",
            "    0.        ]]\n",
            "\n",
            "  [[0.         0.         0.         ... 0.         0.\n",
            "    0.        ]\n",
            "   [0.         0.         0.         ... 0.         0.\n",
            "    0.        ]\n",
            "   [0.         0.         0.         ... 0.         0.\n",
            "    0.        ]\n",
            "   ...\n",
            "   [0.         0.         0.         ... 0.         0.\n",
            "    0.        ]\n",
            "   [0.         0.         0.         ... 0.         0.\n",
            "    0.        ]\n",
            "   [0.         0.         0.         ... 0.         0.\n",
            "    0.        ]]]]\n"
          ],
          "name": "stdout"
        }
      ]
    },
    {
      "cell_type": "markdown",
      "metadata": {
        "id": "tnPm931ljMuZ"
      },
      "source": [
        "# candidate image 6 of digit 7"
      ]
    },
    {
      "cell_type": "code",
      "metadata": {
        "colab": {
          "base_uri": "https://localhost:8080/"
        },
        "id": "nr7l3ZwavIrr",
        "outputId": "105ae23b-7f44-44ca-bb63-4758f5ae65c3"
      },
      "source": [
        "img_path = '/content/drive/MyDrive/digit/candidate/test7/img_76.jpg' # image 7_6\n",
        "img = image.load_img(img_path, target_size = (224,224))\n",
        "x = image.img_to_array(img)\n",
        "x = np.expand_dims(x, axis=0)\n",
        "x = preprocess_input(x)\n",
        "\n",
        "features = model.predict(x)\n",
        "print(features.shape)\n",
        "print(features)"
      ],
      "execution_count": 42,
      "outputs": [
        {
          "output_type": "stream",
          "text": [
            "(1, 7, 7, 512)\n",
            "[[[[0.0000000e+00 0.0000000e+00 0.0000000e+00 ... 0.0000000e+00\n",
            "    4.8381171e+00 0.0000000e+00]\n",
            "   [0.0000000e+00 0.0000000e+00 0.0000000e+00 ... 0.0000000e+00\n",
            "    0.0000000e+00 0.0000000e+00]\n",
            "   [0.0000000e+00 0.0000000e+00 0.0000000e+00 ... 0.0000000e+00\n",
            "    0.0000000e+00 0.0000000e+00]\n",
            "   ...\n",
            "   [0.0000000e+00 0.0000000e+00 0.0000000e+00 ... 0.0000000e+00\n",
            "    2.4945221e+00 0.0000000e+00]\n",
            "   [0.0000000e+00 0.0000000e+00 0.0000000e+00 ... 0.0000000e+00\n",
            "    0.0000000e+00 0.0000000e+00]\n",
            "   [0.0000000e+00 0.0000000e+00 0.0000000e+00 ... 0.0000000e+00\n",
            "    5.1347762e-01 0.0000000e+00]]\n",
            "\n",
            "  [[0.0000000e+00 0.0000000e+00 0.0000000e+00 ... 0.0000000e+00\n",
            "    0.0000000e+00 0.0000000e+00]\n",
            "   [0.0000000e+00 0.0000000e+00 0.0000000e+00 ... 0.0000000e+00\n",
            "    0.0000000e+00 0.0000000e+00]\n",
            "   [0.0000000e+00 0.0000000e+00 0.0000000e+00 ... 0.0000000e+00\n",
            "    0.0000000e+00 0.0000000e+00]\n",
            "   ...\n",
            "   [0.0000000e+00 0.0000000e+00 0.0000000e+00 ... 0.0000000e+00\n",
            "    0.0000000e+00 0.0000000e+00]\n",
            "   [0.0000000e+00 0.0000000e+00 0.0000000e+00 ... 0.0000000e+00\n",
            "    0.0000000e+00 0.0000000e+00]\n",
            "   [0.0000000e+00 0.0000000e+00 0.0000000e+00 ... 0.0000000e+00\n",
            "    0.0000000e+00 0.0000000e+00]]\n",
            "\n",
            "  [[0.0000000e+00 0.0000000e+00 0.0000000e+00 ... 0.0000000e+00\n",
            "    0.0000000e+00 0.0000000e+00]\n",
            "   [0.0000000e+00 0.0000000e+00 0.0000000e+00 ... 0.0000000e+00\n",
            "    0.0000000e+00 0.0000000e+00]\n",
            "   [0.0000000e+00 0.0000000e+00 0.0000000e+00 ... 0.0000000e+00\n",
            "    0.0000000e+00 0.0000000e+00]\n",
            "   ...\n",
            "   [0.0000000e+00 0.0000000e+00 1.2966278e+01 ... 0.0000000e+00\n",
            "    0.0000000e+00 0.0000000e+00]\n",
            "   [0.0000000e+00 0.0000000e+00 0.0000000e+00 ... 0.0000000e+00\n",
            "    0.0000000e+00 0.0000000e+00]\n",
            "   [0.0000000e+00 0.0000000e+00 0.0000000e+00 ... 0.0000000e+00\n",
            "    0.0000000e+00 0.0000000e+00]]\n",
            "\n",
            "  ...\n",
            "\n",
            "  [[0.0000000e+00 0.0000000e+00 0.0000000e+00 ... 0.0000000e+00\n",
            "    0.0000000e+00 0.0000000e+00]\n",
            "   [0.0000000e+00 0.0000000e+00 0.0000000e+00 ... 0.0000000e+00\n",
            "    0.0000000e+00 0.0000000e+00]\n",
            "   [0.0000000e+00 0.0000000e+00 0.0000000e+00 ... 0.0000000e+00\n",
            "    0.0000000e+00 0.0000000e+00]\n",
            "   ...\n",
            "   [0.0000000e+00 0.0000000e+00 0.0000000e+00 ... 0.0000000e+00\n",
            "    9.9028730e+00 0.0000000e+00]\n",
            "   [0.0000000e+00 0.0000000e+00 0.0000000e+00 ... 0.0000000e+00\n",
            "    7.6769609e+00 0.0000000e+00]\n",
            "   [0.0000000e+00 0.0000000e+00 0.0000000e+00 ... 0.0000000e+00\n",
            "    0.0000000e+00 0.0000000e+00]]\n",
            "\n",
            "  [[0.0000000e+00 0.0000000e+00 0.0000000e+00 ... 0.0000000e+00\n",
            "    0.0000000e+00 0.0000000e+00]\n",
            "   [0.0000000e+00 0.0000000e+00 0.0000000e+00 ... 0.0000000e+00\n",
            "    4.6670437e-03 0.0000000e+00]\n",
            "   [0.0000000e+00 0.0000000e+00 0.0000000e+00 ... 0.0000000e+00\n",
            "    0.0000000e+00 0.0000000e+00]\n",
            "   ...\n",
            "   [0.0000000e+00 0.0000000e+00 0.0000000e+00 ... 0.0000000e+00\n",
            "    2.9524112e-01 0.0000000e+00]\n",
            "   [0.0000000e+00 0.0000000e+00 0.0000000e+00 ... 0.0000000e+00\n",
            "    4.0268354e+00 0.0000000e+00]\n",
            "   [0.0000000e+00 0.0000000e+00 0.0000000e+00 ... 0.0000000e+00\n",
            "    2.2717903e+00 0.0000000e+00]]\n",
            "\n",
            "  [[0.0000000e+00 0.0000000e+00 0.0000000e+00 ... 0.0000000e+00\n",
            "    0.0000000e+00 0.0000000e+00]\n",
            "   [0.0000000e+00 0.0000000e+00 0.0000000e+00 ... 0.0000000e+00\n",
            "    0.0000000e+00 0.0000000e+00]\n",
            "   [0.0000000e+00 0.0000000e+00 0.0000000e+00 ... 0.0000000e+00\n",
            "    0.0000000e+00 0.0000000e+00]\n",
            "   ...\n",
            "   [0.0000000e+00 0.0000000e+00 0.0000000e+00 ... 0.0000000e+00\n",
            "    0.0000000e+00 0.0000000e+00]\n",
            "   [0.0000000e+00 0.0000000e+00 0.0000000e+00 ... 0.0000000e+00\n",
            "    0.0000000e+00 0.0000000e+00]\n",
            "   [0.0000000e+00 0.0000000e+00 0.0000000e+00 ... 0.0000000e+00\n",
            "    0.0000000e+00 0.0000000e+00]]]]\n"
          ],
          "name": "stdout"
        }
      ]
    },
    {
      "cell_type": "markdown",
      "metadata": {
        "id": "nsY1d1jujP54"
      },
      "source": [
        "# candidate image 7 of digit 7"
      ]
    },
    {
      "cell_type": "code",
      "metadata": {
        "colab": {
          "base_uri": "https://localhost:8080/"
        },
        "id": "PJCiFN3OvKn0",
        "outputId": "1fb9fcec-0e68-4154-9c19-6dbb54540074"
      },
      "source": [
        "img_path = '/content/drive/MyDrive/digit/candidate/test7/img_102.jpg' # image 7_7\n",
        "img = image.load_img(img_path, target_size = (224,224))\n",
        "x = image.img_to_array(img)\n",
        "x = np.expand_dims(x, axis=0)\n",
        "x = preprocess_input(x)\n",
        "\n",
        "features = model.predict(x)\n",
        "print(features.shape)\n",
        "print(features)"
      ],
      "execution_count": 43,
      "outputs": [
        {
          "output_type": "stream",
          "text": [
            "(1, 7, 7, 512)\n",
            "[[[[ 0.          0.          0.         ...  0.          3.222626\n",
            "     0.        ]\n",
            "   [ 0.          0.          0.         ...  0.          0.\n",
            "     0.        ]\n",
            "   [ 0.          0.          0.         ...  0.          0.07213235\n",
            "     0.        ]\n",
            "   ...\n",
            "   [ 0.          0.          0.         ...  0.          0.\n",
            "     0.        ]\n",
            "   [ 0.          0.          0.         ...  0.          0.\n",
            "     0.        ]\n",
            "   [ 0.          0.          0.         ...  0.          2.1290119\n",
            "     0.        ]]\n",
            "\n",
            "  [[ 0.          0.          0.         ...  0.          0.\n",
            "     0.        ]\n",
            "   [ 0.          0.          0.         ...  0.          0.\n",
            "     0.        ]\n",
            "   [ 0.          0.          0.         ...  0.          0.\n",
            "     0.        ]\n",
            "   ...\n",
            "   [ 0.          0.         24.660786   ...  0.          0.\n",
            "     0.        ]\n",
            "   [ 0.          0.          0.         ...  0.          0.\n",
            "     0.        ]\n",
            "   [ 0.          0.          0.         ...  0.          0.\n",
            "     0.        ]]\n",
            "\n",
            "  [[ 0.          0.          0.         ...  0.          0.\n",
            "     0.        ]\n",
            "   [ 0.          0.         12.243514   ...  0.          0.\n",
            "     0.        ]\n",
            "   [ 0.          0.         20.514275   ...  0.          0.\n",
            "     0.        ]\n",
            "   ...\n",
            "   [ 0.          0.         35.173172   ...  0.          0.\n",
            "     0.        ]\n",
            "   [ 0.          0.         20.569595   ...  0.          0.\n",
            "     0.        ]\n",
            "   [ 0.          0.          0.         ...  0.          0.\n",
            "     0.        ]]\n",
            "\n",
            "  ...\n",
            "\n",
            "  [[ 0.          0.          0.         ...  0.          0.\n",
            "     0.        ]\n",
            "   [ 0.          0.          0.         ...  0.          0.\n",
            "     0.        ]\n",
            "   [ 0.          0.          0.         ...  0.          6.3556867\n",
            "     0.        ]\n",
            "   ...\n",
            "   [ 0.          0.          0.         ...  0.          5.76676\n",
            "     0.        ]\n",
            "   [ 0.          0.          0.         ...  0.         11.605365\n",
            "     0.        ]\n",
            "   [ 0.          0.          0.         ...  0.          4.967384\n",
            "     0.        ]]\n",
            "\n",
            "  [[ 0.          0.          0.         ...  0.          0.\n",
            "     0.70830476]\n",
            "   [ 0.          0.          0.         ...  0.         10.633534\n",
            "     0.        ]\n",
            "   [ 0.          0.          0.         ...  0.         16.40512\n",
            "     0.        ]\n",
            "   ...\n",
            "   [ 0.          0.          0.         ...  0.          4.948534\n",
            "     0.        ]\n",
            "   [ 0.          0.          0.         ...  0.          7.9875646\n",
            "     0.        ]\n",
            "   [ 0.          0.          0.         ...  0.          1.8488986\n",
            "     0.        ]]\n",
            "\n",
            "  [[ 0.          0.          0.         ...  0.          0.\n",
            "     0.        ]\n",
            "   [ 0.          0.          0.         ...  0.          6.405425\n",
            "     0.9315969 ]\n",
            "   [ 0.          0.          0.         ...  0.          6.312181\n",
            "     0.        ]\n",
            "   ...\n",
            "   [ 0.          0.          0.         ...  0.          0.\n",
            "     4.1535087 ]\n",
            "   [ 0.          0.          0.         ...  0.          0.\n",
            "     4.852775  ]\n",
            "   [ 0.          0.          0.         ...  0.          0.\n",
            "     0.        ]]]]\n"
          ],
          "name": "stdout"
        }
      ]
    },
    {
      "cell_type": "markdown",
      "metadata": {
        "id": "2a0R4DWxjR1m"
      },
      "source": [
        "# candidate image 8 of digit 7"
      ]
    },
    {
      "cell_type": "code",
      "metadata": {
        "colab": {
          "base_uri": "https://localhost:8080/"
        },
        "id": "MOiqK-WcvMS2",
        "outputId": "149173c3-4223-4c7b-e193-25a44f15b1cf"
      },
      "source": [
        "img_path = '/content/drive/MyDrive/digit/candidate/test7/img_103.jpg' # image 7_8\n",
        "img = image.load_img(img_path, target_size = (224,224))\n",
        "x = image.img_to_array(img)\n",
        "x = np.expand_dims(x, axis=0)\n",
        "x = preprocess_input(x)\n",
        "\n",
        "features = model.predict(x)\n",
        "print(features.shape)\n",
        "print(features)"
      ],
      "execution_count": 44,
      "outputs": [
        {
          "output_type": "stream",
          "text": [
            "(1, 7, 7, 512)\n",
            "[[[[0.        0.        0.        ... 0.        2.2221432 0.       ]\n",
            "   [0.        0.        0.        ... 0.        0.        0.       ]\n",
            "   [0.        0.        0.        ... 0.        4.1713285 0.       ]\n",
            "   ...\n",
            "   [0.        0.        0.        ... 0.        0.        0.       ]\n",
            "   [0.        0.        0.        ... 0.        4.421019  0.       ]\n",
            "   [0.        0.        0.        ... 0.        2.4405806 0.       ]]\n",
            "\n",
            "  [[0.        0.        0.        ... 0.        0.        0.       ]\n",
            "   [0.        0.        0.        ... 0.        0.        0.       ]\n",
            "   [0.        0.        0.        ... 0.        0.        0.       ]\n",
            "   ...\n",
            "   [0.        0.        0.        ... 0.        0.        0.       ]\n",
            "   [0.        0.        0.        ... 0.        0.        0.       ]\n",
            "   [0.        0.        0.        ... 0.        0.        0.       ]]\n",
            "\n",
            "  [[0.        0.        0.        ... 0.        0.        0.       ]\n",
            "   [0.        0.        0.        ... 0.        5.0404487 0.       ]\n",
            "   [0.        0.        0.        ... 0.        0.        0.       ]\n",
            "   ...\n",
            "   [0.        0.        0.        ... 0.        0.        0.       ]\n",
            "   [0.        0.        0.        ... 0.        0.        0.       ]\n",
            "   [0.        0.        0.        ... 0.        0.        0.       ]]\n",
            "\n",
            "  ...\n",
            "\n",
            "  [[0.        0.        0.        ... 0.        0.        0.       ]\n",
            "   [0.        0.        0.        ... 0.        0.        0.       ]\n",
            "   [0.        0.        0.        ... 0.        0.        0.       ]\n",
            "   ...\n",
            "   [0.        0.        0.        ... 0.        8.257637  0.       ]\n",
            "   [0.        0.        0.        ... 0.        0.        0.       ]\n",
            "   [0.        0.        0.        ... 0.        0.        0.       ]]\n",
            "\n",
            "  [[0.        0.        0.        ... 0.        0.        0.       ]\n",
            "   [0.        0.        0.        ... 0.        0.        0.       ]\n",
            "   [0.        0.        0.        ... 0.        3.5193324 0.       ]\n",
            "   ...\n",
            "   [0.        0.        0.        ... 0.        9.362715  0.       ]\n",
            "   [0.        0.        0.        ... 0.        0.        0.       ]\n",
            "   [0.        0.        0.        ... 0.        0.        0.       ]]\n",
            "\n",
            "  [[0.        0.        0.        ... 0.        0.        0.       ]\n",
            "   [0.        0.        0.        ... 0.        0.        0.       ]\n",
            "   [0.        0.        0.        ... 0.        0.        0.       ]\n",
            "   ...\n",
            "   [0.        0.        0.        ... 0.        4.152929  0.       ]\n",
            "   [0.        0.        0.        ... 0.        0.        0.       ]\n",
            "   [0.        0.        0.        ... 0.        0.        0.       ]]]]\n"
          ],
          "name": "stdout"
        }
      ]
    },
    {
      "cell_type": "markdown",
      "metadata": {
        "id": "WDDlvAgwjT2B"
      },
      "source": [
        "# candidate image 9 of digit 7"
      ]
    },
    {
      "cell_type": "code",
      "metadata": {
        "colab": {
          "base_uri": "https://localhost:8080/"
        },
        "id": "HAECLrl-vN6g",
        "outputId": "012a6034-873a-49da-8e50-4879dbac2564"
      },
      "source": [
        "img_path = '/content/drive/MyDrive/digit/candidate/test7/img_116.jpg' # image 7_9\n",
        "img = image.load_img(img_path, target_size = (224,224))\n",
        "x = image.img_to_array(img)\n",
        "x = np.expand_dims(x, axis=0)\n",
        "x = preprocess_input(x)\n",
        "\n",
        "features = model.predict(x)\n",
        "print(features.shape)\n",
        "print(features)"
      ],
      "execution_count": 45,
      "outputs": [
        {
          "output_type": "stream",
          "text": [
            "(1, 7, 7, 512)\n",
            "[[[[ 0.          0.          0.         ...  0.          4.446668\n",
            "     0.        ]\n",
            "   [ 0.          0.          0.         ...  0.          0.08449811\n",
            "     0.        ]\n",
            "   [ 0.          0.          0.         ...  0.          1.2721944\n",
            "     0.        ]\n",
            "   ...\n",
            "   [ 0.          0.          0.         ...  0.          2.2012343\n",
            "     0.        ]\n",
            "   [ 0.          0.          0.         ...  0.          2.2302868\n",
            "     0.        ]\n",
            "   [ 0.          0.          0.         ...  0.          2.9017622\n",
            "     0.        ]]\n",
            "\n",
            "  [[ 0.          0.          0.         ...  0.          0.\n",
            "     0.        ]\n",
            "   [ 0.          0.          0.         ...  0.          0.\n",
            "     0.        ]\n",
            "   [ 0.          0.          0.         ...  0.          0.\n",
            "     0.        ]\n",
            "   ...\n",
            "   [ 0.          0.          0.         ...  0.          0.\n",
            "     0.        ]\n",
            "   [ 0.          0.          0.         ...  0.          0.\n",
            "     0.        ]\n",
            "   [ 0.          0.          0.         ...  0.          0.\n",
            "     0.        ]]\n",
            "\n",
            "  [[ 0.          0.          0.         ...  0.          4.1492825\n",
            "     0.        ]\n",
            "   [ 0.          0.          0.         ...  0.          0.\n",
            "     0.        ]\n",
            "   [ 0.          0.          0.         ...  0.          0.\n",
            "     0.        ]\n",
            "   ...\n",
            "   [ 0.          0.          0.         ...  0.          0.\n",
            "     0.        ]\n",
            "   [ 0.          0.          6.2690783  ...  0.          0.\n",
            "     0.        ]\n",
            "   [ 0.          0.          0.         ...  0.          0.\n",
            "     0.        ]]\n",
            "\n",
            "  ...\n",
            "\n",
            "  [[ 0.          0.          0.         ...  0.          0.\n",
            "     0.        ]\n",
            "   [ 0.          0.          0.         ...  3.7773986   0.2891931\n",
            "     0.        ]\n",
            "   [ 0.          0.          0.         ...  0.          5.1462464\n",
            "     0.        ]\n",
            "   ...\n",
            "   [ 0.          0.         13.268216   ...  0.          0.\n",
            "     4.304972  ]\n",
            "   [ 0.          0.          0.         ...  0.          1.2079532\n",
            "     0.        ]\n",
            "   [ 0.          0.          0.         ...  0.          0.19374895\n",
            "     0.        ]]\n",
            "\n",
            "  [[ 0.          0.          0.         ...  0.          0.\n",
            "     0.        ]\n",
            "   [ 0.          0.          0.         ...  4.442051    8.733114\n",
            "     0.        ]\n",
            "   [ 0.          0.          0.         ...  0.         12.096352\n",
            "     0.        ]\n",
            "   ...\n",
            "   [ 0.          0.          0.         ...  0.          0.\n",
            "     1.0340687 ]\n",
            "   [ 0.          0.          0.         ...  0.          0.\n",
            "     0.        ]\n",
            "   [ 0.          0.          0.         ...  0.          2.7942643\n",
            "     0.        ]]\n",
            "\n",
            "  [[ 0.          0.          0.         ...  0.          0.\n",
            "     0.        ]\n",
            "   [ 0.          0.          0.         ...  0.          0.\n",
            "     0.        ]\n",
            "   [ 0.          0.          0.         ...  0.          0.\n",
            "     0.        ]\n",
            "   ...\n",
            "   [ 0.          0.          0.         ...  0.          0.\n",
            "     0.        ]\n",
            "   [ 0.          0.          0.         ...  0.          0.\n",
            "     1.6764946 ]\n",
            "   [ 0.          0.          0.         ...  0.          0.\n",
            "     0.        ]]]]\n"
          ],
          "name": "stdout"
        }
      ]
    },
    {
      "cell_type": "markdown",
      "metadata": {
        "id": "4V4mTzZxjVsl"
      },
      "source": [
        "# candidate image 10 of digit 7"
      ]
    },
    {
      "cell_type": "code",
      "metadata": {
        "colab": {
          "base_uri": "https://localhost:8080/"
        },
        "id": "sKrvRvJMvPXA",
        "outputId": "271bd93f-ee6b-4b31-91db-40c5f71e51bf"
      },
      "source": [
        "img_path = '/content/drive/MyDrive/digit/candidate/test7/img_117.jpg' # image 7_10\n",
        "img = image.load_img(img_path, target_size = (224,224))\n",
        "x = image.img_to_array(img)\n",
        "x = np.expand_dims(x, axis=0)\n",
        "x = preprocess_input(x)\n",
        "\n",
        "features = model.predict(x)\n",
        "print(features.shape)\n",
        "print(features)"
      ],
      "execution_count": 46,
      "outputs": [
        {
          "output_type": "stream",
          "text": [
            "(1, 7, 7, 512)\n",
            "[[[[0.0000000e+00 0.0000000e+00 0.0000000e+00 ... 0.0000000e+00\n",
            "    5.4051476e+00 0.0000000e+00]\n",
            "   [0.0000000e+00 0.0000000e+00 0.0000000e+00 ... 0.0000000e+00\n",
            "    0.0000000e+00 0.0000000e+00]\n",
            "   [0.0000000e+00 0.0000000e+00 0.0000000e+00 ... 0.0000000e+00\n",
            "    0.0000000e+00 0.0000000e+00]\n",
            "   ...\n",
            "   [0.0000000e+00 0.0000000e+00 0.0000000e+00 ... 0.0000000e+00\n",
            "    0.0000000e+00 0.0000000e+00]\n",
            "   [0.0000000e+00 0.0000000e+00 0.0000000e+00 ... 0.0000000e+00\n",
            "    6.0259695e+00 0.0000000e+00]\n",
            "   [0.0000000e+00 0.0000000e+00 0.0000000e+00 ... 0.0000000e+00\n",
            "    0.0000000e+00 0.0000000e+00]]\n",
            "\n",
            "  [[0.0000000e+00 0.0000000e+00 0.0000000e+00 ... 0.0000000e+00\n",
            "    0.0000000e+00 0.0000000e+00]\n",
            "   [0.0000000e+00 0.0000000e+00 0.0000000e+00 ... 0.0000000e+00\n",
            "    0.0000000e+00 0.0000000e+00]\n",
            "   [0.0000000e+00 0.0000000e+00 0.0000000e+00 ... 0.0000000e+00\n",
            "    0.0000000e+00 0.0000000e+00]\n",
            "   ...\n",
            "   [0.0000000e+00 0.0000000e+00 2.1553543e+01 ... 0.0000000e+00\n",
            "    0.0000000e+00 0.0000000e+00]\n",
            "   [0.0000000e+00 0.0000000e+00 1.5159784e+01 ... 0.0000000e+00\n",
            "    0.0000000e+00 0.0000000e+00]\n",
            "   [0.0000000e+00 0.0000000e+00 0.0000000e+00 ... 0.0000000e+00\n",
            "    0.0000000e+00 0.0000000e+00]]\n",
            "\n",
            "  [[0.0000000e+00 0.0000000e+00 0.0000000e+00 ... 0.0000000e+00\n",
            "    0.0000000e+00 0.0000000e+00]\n",
            "   [0.0000000e+00 0.0000000e+00 0.0000000e+00 ... 0.0000000e+00\n",
            "    0.0000000e+00 0.0000000e+00]\n",
            "   [0.0000000e+00 0.0000000e+00 0.0000000e+00 ... 0.0000000e+00\n",
            "    0.0000000e+00 0.0000000e+00]\n",
            "   ...\n",
            "   [0.0000000e+00 0.0000000e+00 1.1383388e+01 ... 0.0000000e+00\n",
            "    1.1300732e+01 0.0000000e+00]\n",
            "   [0.0000000e+00 0.0000000e+00 4.3552704e+00 ... 0.0000000e+00\n",
            "    1.3952878e+01 0.0000000e+00]\n",
            "   [0.0000000e+00 0.0000000e+00 0.0000000e+00 ... 0.0000000e+00\n",
            "    1.1179971e+01 0.0000000e+00]]\n",
            "\n",
            "  ...\n",
            "\n",
            "  [[0.0000000e+00 0.0000000e+00 0.0000000e+00 ... 0.0000000e+00\n",
            "    0.0000000e+00 0.0000000e+00]\n",
            "   [0.0000000e+00 0.0000000e+00 0.0000000e+00 ... 0.0000000e+00\n",
            "    0.0000000e+00 0.0000000e+00]\n",
            "   [0.0000000e+00 0.0000000e+00 1.4866751e+00 ... 0.0000000e+00\n",
            "    0.0000000e+00 0.0000000e+00]\n",
            "   ...\n",
            "   [0.0000000e+00 0.0000000e+00 0.0000000e+00 ... 0.0000000e+00\n",
            "    1.9718528e-02 0.0000000e+00]\n",
            "   [0.0000000e+00 0.0000000e+00 0.0000000e+00 ... 0.0000000e+00\n",
            "    0.0000000e+00 0.0000000e+00]\n",
            "   [0.0000000e+00 0.0000000e+00 0.0000000e+00 ... 0.0000000e+00\n",
            "    1.7548437e+00 0.0000000e+00]]\n",
            "\n",
            "  [[0.0000000e+00 0.0000000e+00 0.0000000e+00 ... 0.0000000e+00\n",
            "    0.0000000e+00 0.0000000e+00]\n",
            "   [0.0000000e+00 0.0000000e+00 0.0000000e+00 ... 0.0000000e+00\n",
            "    0.0000000e+00 0.0000000e+00]\n",
            "   [0.0000000e+00 0.0000000e+00 0.0000000e+00 ... 0.0000000e+00\n",
            "    0.0000000e+00 0.0000000e+00]\n",
            "   ...\n",
            "   [0.0000000e+00 0.0000000e+00 0.0000000e+00 ... 0.0000000e+00\n",
            "    4.2449765e+00 0.0000000e+00]\n",
            "   [0.0000000e+00 0.0000000e+00 0.0000000e+00 ... 0.0000000e+00\n",
            "    3.4388249e+00 0.0000000e+00]\n",
            "   [0.0000000e+00 0.0000000e+00 0.0000000e+00 ... 0.0000000e+00\n",
            "    0.0000000e+00 0.0000000e+00]]\n",
            "\n",
            "  [[0.0000000e+00 0.0000000e+00 0.0000000e+00 ... 0.0000000e+00\n",
            "    0.0000000e+00 0.0000000e+00]\n",
            "   [0.0000000e+00 0.0000000e+00 0.0000000e+00 ... 0.0000000e+00\n",
            "    0.0000000e+00 0.0000000e+00]\n",
            "   [0.0000000e+00 0.0000000e+00 0.0000000e+00 ... 0.0000000e+00\n",
            "    0.0000000e+00 0.0000000e+00]\n",
            "   ...\n",
            "   [0.0000000e+00 0.0000000e+00 0.0000000e+00 ... 0.0000000e+00\n",
            "    0.0000000e+00 0.0000000e+00]\n",
            "   [0.0000000e+00 0.0000000e+00 0.0000000e+00 ... 0.0000000e+00\n",
            "    0.0000000e+00 0.0000000e+00]\n",
            "   [0.0000000e+00 0.0000000e+00 0.0000000e+00 ... 0.0000000e+00\n",
            "    0.0000000e+00 0.0000000e+00]]]]\n"
          ],
          "name": "stdout"
        }
      ]
    },
    {
      "cell_type": "markdown",
      "metadata": {
        "id": "MA6cHWTkeTSs"
      },
      "source": [
        "#Summary of the Feature Map Size for Each Conv Layer"
      ]
    },
    {
      "cell_type": "code",
      "metadata": {
        "colab": {
          "base_uri": "https://localhost:8080/"
        },
        "id": "kBiPqbALd3-a",
        "outputId": "17505cd0-3cb0-4db0-fce7-86ce25092c44"
      },
      "source": [
        "from matplotlib import pyplot\n",
        "\n",
        "model = VGG19()\n",
        "\n",
        "for layer in model.layers:\n",
        "  if 'conv' not in layer.name:\n",
        "    continue\n",
        "  \n",
        "  filters, biases = layer.get_weights()\n",
        "  print(layer.name, filters.shape)"
      ],
      "execution_count": 153,
      "outputs": [
        {
          "output_type": "stream",
          "text": [
            "block1_conv1 (3, 3, 3, 64)\n",
            "block1_conv2 (3, 3, 64, 64)\n",
            "block2_conv1 (3, 3, 64, 128)\n",
            "block2_conv2 (3, 3, 128, 128)\n",
            "block3_conv1 (3, 3, 128, 256)\n",
            "block3_conv2 (3, 3, 256, 256)\n",
            "block3_conv3 (3, 3, 256, 256)\n",
            "block3_conv4 (3, 3, 256, 256)\n",
            "block4_conv1 (3, 3, 256, 512)\n",
            "block4_conv2 (3, 3, 512, 512)\n",
            "block4_conv3 (3, 3, 512, 512)\n",
            "block4_conv4 (3, 3, 512, 512)\n",
            "block5_conv1 (3, 3, 512, 512)\n",
            "block5_conv2 (3, 3, 512, 512)\n",
            "block5_conv3 (3, 3, 512, 512)\n",
            "block5_conv4 (3, 3, 512, 512)\n"
          ],
          "name": "stdout"
        }
      ]
    },
    {
      "cell_type": "markdown",
      "metadata": {
        "id": "VK-m3R_QzWmH"
      },
      "source": [
        "# End of MNIST 7 digit"
      ]
    },
    {
      "cell_type": "markdown",
      "metadata": {
        "id": "OwUPnAziZPxu"
      },
      "source": [
        "# comparing candidate image with master image"
      ]
    },
    {
      "cell_type": "markdown",
      "metadata": {
        "id": "uT3r_BsrZVP6"
      },
      "source": [
        "# master image of number 7"
      ]
    },
    {
      "cell_type": "code",
      "metadata": {
        "colab": {
          "base_uri": "https://localhost:8080/",
          "height": 265
        },
        "id": "pr6zfhOcOM9b",
        "outputId": "d1a5593c-cedd-40cc-f6d7-cccdf7331a04"
      },
      "source": [
        "import matplotlib.pyplot as plt\n",
        "import matplotlib.image as mpimg\n",
        "img = mpimg.imread('/content/drive/MyDrive/digit/master/master7/master7.jpg') # original image of 7\n",
        "imgplot = plt.imshow(img)\n",
        "plt.show()"
      ],
      "execution_count": 148,
      "outputs": [
        {
          "output_type": "display_data",
          "data": {
            "image/png": "[encoded data removed]",
            "text/plain": [
              "<Figure size 432x288 with 1 Axes>"
            ]
          },
          "metadata": {
            "tags": [],
            "needs_background": "light"
          }
        }
      ]
    },
    {
      "cell_type": "markdown",
      "metadata": {
        "id": "iNKW3jKjZY4g"
      },
      "source": [
        "# candidate image of number 2"
      ]
    },
    {
      "cell_type": "code",
      "metadata": {
        "colab": {
          "base_uri": "https://localhost:8080/",
          "height": 265
        },
        "id": "PTA_8wu3OM6G",
        "outputId": "fdf681ef-ee49-47a5-ca23-2ef2add85770"
      },
      "source": [
        "img = mpimg.imread('/content/drive/MyDrive/digit/candidate/test2/img_34.jpg') # candidate image of number 2\n",
        "imgplot = plt.imshow(img)\n",
        "plt.show()"
      ],
      "execution_count": 147,
      "outputs": [
        {
          "output_type": "display_data",
          "data": {
            "image/png": "[encoded data removed]",
            "text/plain": [
              "<Figure size 432x288 with 1 Axes>"
            ]
          },
          "metadata": {
            "tags": [],
            "needs_background": "light"
          }
        }
      ]
    },
    {
      "cell_type": "markdown",
      "metadata": {
        "id": "M4ZRUCPAZcUR"
      },
      "source": [
        "# candidate image of number 7"
      ]
    },
    {
      "cell_type": "code",
      "metadata": {
        "colab": {
          "base_uri": "https://localhost:8080/",
          "height": 265
        },
        "id": "vWabldmdOM3R",
        "outputId": "91ca8044-d679-4311-9439-01353077f42d"
      },
      "source": [
        "img = mpimg.imread('/content/drive/MyDrive/digit/candidate/test7/img_76.jpg') # candidate image of number 7\n",
        "imgplot = plt.imshow(img)\n",
        "plt.show()"
      ],
      "execution_count": 146,
      "outputs": [
        {
          "output_type": "display_data",
          "data": {
            "image/png": "[encoded data removed]",
            "text/plain": [
              "<Figure size 432x288 with 1 Axes>"
            ]
          },
          "metadata": {
            "tags": [],
            "needs_background": "light"
          }
        }
      ]
    },
    {
      "cell_type": "code",
      "metadata": {
        "colab": {
          "base_uri": "https://localhost:8080/",
          "height": 531
        },
        "id": "Vvl6KlsMOkf1",
        "outputId": "dcc8a166-7671-4190-aa78-84c9a4f776b9"
      },
      "source": [
        "import cv2\n",
        "\n",
        "\n",
        "# master image\n",
        "image = cv2.imread('/content/drive/MyDrive/digit/master/master7/master7.jpg')\n",
        "gray_image = cv2.cvtColor(image, cv2.COLOR_BGR2GRAY)\n",
        "histogram = cv2.calcHist([gray_image], [0], None, [256], [0, 256])\n",
        "   \n",
        "# data1 image of number 2\n",
        "image = cv2.imread('/content/drive/MyDrive/digit/candidate/test2/img_34.jpg')\n",
        "gray_image1 = cv2.cvtColor(image, cv2.COLOR_BGR2GRAY)\n",
        "histogram1 = cv2.calcHist([gray_image1], [0], None, [256], [0, 256])\n",
        "   \n",
        "# data2 image of number 7\n",
        "image = cv2.imread('/content/drive/MyDrive/digit/candidate/test7/img_76.jpg')\n",
        "gray_image2 = cv2.cvtColor(image, cv2.COLOR_BGR2GRAY)\n",
        "histogram2 = cv2.calcHist([gray_image2], [0], None, [256], [0, 256])\n",
        "   \n",
        "c1, c2 = 0, 0\n",
        "   \n",
        "# Euclidean Distace between data1 image of number 2 and master image\n",
        "i = 0\n",
        "while i<len(histogram) and i<len(histogram1):\n",
        "    c1+=(histogram[i]-histogram1[i])**2\n",
        "    i+= 1\n",
        "c1 = c1**(1 / 2)\n",
        "   \n",
        "i = 0\n",
        "while i<len(histogram) and i<len(histogram2):\n",
        "    c2+=(histogram[i]-histogram2[i])**2\n",
        "    i+= 1\n",
        "c2 = c2**(1 / 2)\n",
        "   \n",
        "if(c1<c2):\n",
        "    print(\"data1 image of number 2 is more similar to master image of number 7 as compared to data2 image of number 7\")\n",
        "    img1 = mpimg.imread('/content/drive/MyDrive/digit/master/master7/master7.jpg')\n",
        "    imgplot1 = plt.imshow(img1)\n",
        "    plt.show()\n",
        "\n",
        "    img = mpimg.imread('/content/drive/MyDrive/digit/candidate/test2/img_34.jpg')\n",
        "    imgplot = plt.imshow(img)\n",
        "    plt.show()\n",
        "else:\n",
        "    print(\"data2 image of number 7 is more similar to master image of number 7 as compared to data1 image of number 2\")\n",
        "    img1 = mpimg.imread('/content/drive/MyDrive/digit/master/master7/master7.jpg')\n",
        "    imgplot1 = plt.imshow(img1)\n",
        "    plt.show()\n",
        "\n",
        "    img = mpimg.imread('/content/drive/MyDrive/digit/candidate/test7/img_76.jpg')\n",
        "    imgplot = plt.imshow(img)\n",
        "    plt.show()"
      ],
      "execution_count": 152,
      "outputs": [
        {
          "output_type": "stream",
          "text": [
            "data2 image of number 7 is more similar to master image of number 7 as compared to data1 image of number 2\n"
          ],
          "name": "stdout"
        },
        {
          "output_type": "display_data",
          "data": {
            "image/png": "[encoded data removed]",
            "text/plain": [
              "<Figure size 432x288 with 1 Axes>"
            ]
          },
          "metadata": {
            "tags": [],
            "needs_background": "light"
          }
        },
        {
          "output_type": "display_data",
          "data": {
            "image/png": "[encoded data removed]",
            "text/plain": [
              "<Figure size 432x288 with 1 Axes>"
            ]
          },
          "metadata": {
            "tags": [],
            "needs_background": "light"
          }
        }
      ]
    },
    {
      "cell_type": "markdown",
      "metadata": {
        "id": "2AdGg4ALbCQP"
      },
      "source": [
        "##### As we can see above the result of matching image of number 7 is been obtained by Eucledian distance"
      ]
    },
    {
      "cell_type": "markdown",
      "metadata": {
        "id": "YnoxYr9lbGZx"
      },
      "source": [
        "# Other type of similarity score methods are:\n",
        "1. Pearson’s correlation\n",
        "2. Spearman’s correlation\n",
        "3. Cosine similarity\n",
        "4. Jaccard similarity\n",
        "5. Euclidean distance\n",
        "6. Manhattan distance\n",
        "\n",
        "From above this mentioned methods I know Pearsons correlation, Cosine similiarity, Euclidean distance, Manhattan distance.\n",
        "\n",
        "I have tried to use Cosine Similiarity but somehow I was getting error so I have used Euclidean distance."
      ]
    },
    {
      "cell_type": "code",
      "metadata": {
        "id": "b8USJYGAPMZ5"
      },
      "source": [
        ""
      ],
      "execution_count": null,
      "outputs": []
    }
  ]
}