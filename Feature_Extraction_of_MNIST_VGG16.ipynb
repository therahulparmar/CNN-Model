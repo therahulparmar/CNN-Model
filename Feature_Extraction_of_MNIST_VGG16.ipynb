{
  "nbformat": 4,
  "nbformat_minor": 0,
  "metadata": {
    "colab": {
      "name": "Feature Extraction of MNIST: VGG16.ipynb",
      "provenance": [],
      "collapsed_sections": [],
      "mount_file_id": "1VMIL4JnRkv0Is0P9p0U4I7PQJ1ASWf5z",
      "authorship_tag": "ABX9TyPHplBKXPaC+nulnyRu41pv",
      "include_colab_link": true
    },
    "kernelspec": {
      "name": "python3",
      "display_name": "Python 3"
    },
    "language_info": {
      "name": "python"
    }
  },
  "cells": [
    {
      "cell_type": "markdown",
      "metadata": {
        "id": "view-in-github",
        "colab_type": "text"
      },
      "source": [
        "<a href=\"https://colab.research.google.com/github/therahulparmar/CNN-Model/blob/main/Feature_Extraction_of_MNIST_VGG16.ipynb\" target=\"_parent\"><img src=\"https://colab.research.google.com/assets/colab-badge.svg\" alt=\"Open In Colab\"/></a>"
      ]
    },
    {
      "cell_type": "markdown",
      "metadata": {
        "id": "7w_Rv4Iqsvwt"
      },
      "source": [
        "# (1) importing required libraires and pre trained model VGG-16"
      ]
    },
    {
      "cell_type": "code",
      "metadata": {
        "id": "T2Cm0HEqj_M1"
      },
      "source": [
        "import pandas as pd\n",
        "import numpy as np\n",
        "import matplotlib.pyplot as plt\n",
        "%matplotlib inline\n",
        "from skimage.io import imread, imshow\n",
        "from tensorflow.keras.applications.vgg16 import VGG16\n",
        "from tensorflow.keras.preprocessing import image\n",
        "from tensorflow.keras.applications.vgg16 import preprocess_input\n",
        "from tensorflow.keras.preprocessing.image import ImageDataGenerator\n"
      ],
      "execution_count": 4,
      "outputs": []
    },
    {
      "cell_type": "code",
      "metadata": {
        "colab": {
          "base_uri": "https://localhost:8080/"
        },
        "id": "YRFlP5uvm8F0",
        "outputId": "f8a5cab2-a1dd-4980-955c-7e89d2ee6d9b"
      },
      "source": [
        "model = VGG16(include_top=False, weights=\"imagenet\")"
      ],
      "execution_count": 5,
      "outputs": [
        {
          "output_type": "stream",
          "text": [
            "Downloading data from https://storage.googleapis.com/tensorflow/keras-applications/vgg16/vgg16_weights_tf_dim_ordering_tf_kernels_notop.h5\n",
            "58892288/58889256 [==============================] - 1s 0us/step\n"
          ],
          "name": "stdout"
        }
      ]
    },
    {
      "cell_type": "markdown",
      "metadata": {
        "id": "KxMtMVRZs18m"
      },
      "source": [
        "# Here I have taken original image of number **\"2\"** from the MNIST dataset."
      ]
    },
    {
      "cell_type": "code",
      "metadata": {
        "colab": {
          "base_uri": "https://localhost:8080/"
        },
        "id": "4Okgmm0Pd4ay",
        "outputId": "1aa58315-3afe-44f5-baa1-fcec0a2ceb97"
      },
      "source": [
        "img_path = '/content/drive/MyDrive/digit/master/master2/master2.jpg' # original image of 2\n",
        "img = image.load_img(img_path, target_size = (224,224))\n",
        "x = image.img_to_array(img)\n",
        "x = np.expand_dims(x, axis=0)\n",
        "x = preprocess_input(x)\n",
        "\n",
        "features = model.predict(x)\n",
        "print(features.shape)\n",
        "print(features)"
      ],
      "execution_count": 6,
      "outputs": [
        {
          "output_type": "stream",
          "text": [
            "(1, 7, 7, 512)\n",
            "[[[[ 0.          0.          0.         ...  0.          0.\n",
            "     0.        ]\n",
            "   [ 0.          0.          0.         ...  0.          0.\n",
            "     0.        ]\n",
            "   [ 0.          0.          0.         ...  0.          0.\n",
            "     0.        ]\n",
            "   ...\n",
            "   [ 0.          0.          0.         ...  0.         15.688666\n",
            "     0.        ]\n",
            "   [ 0.          0.          0.         ...  0.         14.4898815\n",
            "     0.        ]\n",
            "   [ 0.          0.          0.         ...  0.          7.672369\n",
            "     0.        ]]\n",
            "\n",
            "  [[ 0.          0.          0.         ...  0.          0.\n",
            "     0.        ]\n",
            "   [ 0.          0.          0.         ...  0.          0.\n",
            "     0.        ]\n",
            "   [ 0.          0.          0.         ...  0.          0.\n",
            "     0.        ]\n",
            "   ...\n",
            "   [ 0.          0.          0.         ...  0.          0.\n",
            "     0.        ]\n",
            "   [ 0.          0.          0.         ...  0.          5.9764495\n",
            "     0.        ]\n",
            "   [ 0.          0.          0.         ...  0.          2.0008872\n",
            "     0.        ]]\n",
            "\n",
            "  [[ 0.          0.          0.         ...  0.          0.\n",
            "     0.        ]\n",
            "   [ 0.          0.          0.         ...  0.          0.\n",
            "     0.        ]\n",
            "   [ 0.          0.          0.         ...  0.          0.\n",
            "     0.        ]\n",
            "   ...\n",
            "   [ 0.          0.          0.         ...  0.          0.\n",
            "     0.        ]\n",
            "   [ 0.          0.          0.         ...  0.          7.552035\n",
            "     0.        ]\n",
            "   [ 0.          0.          0.         ...  0.          0.92288077\n",
            "     0.        ]]\n",
            "\n",
            "  ...\n",
            "\n",
            "  [[ 0.          0.          0.         ...  0.          0.\n",
            "     0.        ]\n",
            "   [ 0.          0.          0.         ...  0.          0.\n",
            "     0.        ]\n",
            "   [ 0.          0.          0.         ...  0.          0.\n",
            "     0.        ]\n",
            "   ...\n",
            "   [ 0.          0.          0.         ...  0.          0.\n",
            "     0.        ]\n",
            "   [ 0.          0.          0.         ...  0.          6.7434564\n",
            "     0.        ]\n",
            "   [ 0.          0.          0.         ...  0.          1.3684535\n",
            "     0.        ]]\n",
            "\n",
            "  [[ 0.          0.          0.         ...  0.          0.\n",
            "     0.        ]\n",
            "   [ 0.          0.          0.         ...  0.          0.\n",
            "     0.        ]\n",
            "   [ 0.          0.          0.         ...  0.          0.\n",
            "     0.        ]\n",
            "   ...\n",
            "   [ 0.          0.          0.         ...  0.          0.\n",
            "     0.        ]\n",
            "   [ 0.          0.          0.         ...  0.          0.\n",
            "     0.        ]\n",
            "   [ 0.          0.          0.         ...  0.          0.7797787\n",
            "     0.        ]]\n",
            "\n",
            "  [[ 0.          0.          0.         ...  0.          0.\n",
            "     8.0098295 ]\n",
            "   [ 0.          0.          0.         ...  0.          0.\n",
            "     2.199744  ]\n",
            "   [ 0.          0.          0.         ...  0.          0.\n",
            "     0.        ]\n",
            "   ...\n",
            "   [ 0.          0.          0.         ...  0.          0.\n",
            "     0.        ]\n",
            "   [ 0.          0.          0.         ...  0.          0.\n",
            "     0.        ]\n",
            "   [ 0.          0.          0.         ...  0.          0.\n",
            "     0.        ]]]]\n"
          ],
          "name": "stdout"
        }
      ]
    },
    {
      "cell_type": "markdown",
      "metadata": {
        "id": "9D0ELAX5wgfV"
      },
      "source": [
        "# Here I have taken 10 candidate images of number **\"2\"** from the MNIST dataset. "
      ]
    },
    {
      "cell_type": "markdown",
      "metadata": {
        "id": "s9EBG9XRhXqH"
      },
      "source": [
        "# candidate image 1 of digit 2 "
      ]
    },
    {
      "cell_type": "code",
      "metadata": {
        "colab": {
          "base_uri": "https://localhost:8080/"
        },
        "id": "89Lf3Ugud69F",
        "outputId": "b903640b-3c6e-4cfc-cac2-0429488141db"
      },
      "source": [
        "img_path = '/content/drive/MyDrive/digit/candidate/test2/img_16.jpg' # Image 2_1\n",
        "img = image.load_img(img_path, target_size = (224,224))\n",
        "x = image.img_to_array(img)\n",
        "x = np.expand_dims(x, axis=0)\n",
        "x = preprocess_input(x)\n",
        "\n",
        "features = model.predict(x)\n",
        "print(features.shape)\n",
        "print(features)"
      ],
      "execution_count": 7,
      "outputs": [
        {
          "output_type": "stream",
          "text": [
            "(1, 7, 7, 512)\n",
            "[[[[ 0.         0.         0.        ...  0.         0.\n",
            "     0.       ]\n",
            "   [ 0.         0.         0.        ...  0.         0.\n",
            "     0.       ]\n",
            "   [ 0.         0.         0.        ...  0.         0.\n",
            "     0.       ]\n",
            "   ...\n",
            "   [ 0.         0.         0.        ...  0.        12.083308\n",
            "     0.       ]\n",
            "   [ 0.         0.         0.        ...  0.         9.357281\n",
            "     0.       ]\n",
            "   [ 0.         0.         0.        ...  0.         7.64128\n",
            "     0.       ]]\n",
            "\n",
            "  [[ 0.         0.         0.        ...  0.         0.\n",
            "     0.       ]\n",
            "   [ 0.         0.         0.        ...  0.         0.\n",
            "     0.       ]\n",
            "   [ 0.         0.         0.        ...  0.         0.\n",
            "     0.       ]\n",
            "   ...\n",
            "   [ 0.         0.         0.        ...  0.         0.\n",
            "     0.       ]\n",
            "   [ 0.         0.         0.        ...  0.         2.736733\n",
            "     0.       ]\n",
            "   [ 0.         0.         0.        ...  0.         1.992631\n",
            "     0.       ]]\n",
            "\n",
            "  [[ 0.         0.         0.        ...  0.         0.7268616\n",
            "     0.       ]\n",
            "   [ 0.         0.         0.        ...  0.         0.\n",
            "     0.       ]\n",
            "   [ 0.         0.         0.        ...  0.         0.\n",
            "     0.       ]\n",
            "   ...\n",
            "   [ 0.         0.         0.        ...  0.         0.\n",
            "     0.       ]\n",
            "   [ 0.         0.         0.        ...  0.         0.7995553\n",
            "     0.       ]\n",
            "   [ 0.         0.         0.        ...  0.         2.9033654\n",
            "     0.       ]]\n",
            "\n",
            "  ...\n",
            "\n",
            "  [[ 0.         0.         0.        ...  0.         0.\n",
            "     0.       ]\n",
            "   [ 0.         0.         0.        ...  0.         0.\n",
            "     0.       ]\n",
            "   [ 0.         0.         0.        ...  0.         0.\n",
            "     0.       ]\n",
            "   ...\n",
            "   [ 0.         0.         0.        ...  0.         0.\n",
            "     0.       ]\n",
            "   [ 0.         0.         0.        ...  0.         2.5055761\n",
            "     0.       ]\n",
            "   [ 0.         0.         0.        ...  0.         5.6289835\n",
            "     0.       ]]\n",
            "\n",
            "  [[ 0.         0.         0.        ...  0.         0.\n",
            "     0.       ]\n",
            "   [ 0.         0.         0.        ...  0.         0.\n",
            "     0.       ]\n",
            "   [ 0.         0.         0.        ...  0.         0.\n",
            "     0.       ]\n",
            "   ...\n",
            "   [ 0.         0.         0.        ...  0.         0.\n",
            "     0.       ]\n",
            "   [ 0.         0.         0.        ...  0.         0.\n",
            "     0.       ]\n",
            "   [ 0.         0.         0.        ...  0.         0.\n",
            "     0.       ]]\n",
            "\n",
            "  [[ 0.         0.         0.        ...  0.         0.\n",
            "     0.       ]\n",
            "   [ 0.         0.         0.        ...  0.         0.\n",
            "     0.       ]\n",
            "   [ 0.         0.         0.        ...  0.         0.\n",
            "     0.       ]\n",
            "   ...\n",
            "   [ 0.         0.         0.        ...  0.         3.5978553\n",
            "     0.       ]\n",
            "   [ 0.         0.         0.        ...  0.         0.\n",
            "     0.       ]\n",
            "   [ 0.         0.         0.        ...  0.         0.\n",
            "     0.       ]]]]\n"
          ],
          "name": "stdout"
        }
      ]
    },
    {
      "cell_type": "markdown",
      "metadata": {
        "id": "RASdQxGBhgFB"
      },
      "source": [
        "# candidate image 2 of digit 2 "
      ]
    },
    {
      "cell_type": "code",
      "metadata": {
        "colab": {
          "base_uri": "https://localhost:8080/"
        },
        "id": "M1KbEK7peQIn",
        "outputId": "dcb275b6-340b-4bbc-9fe6-1d767642f378"
      },
      "source": [
        "img_path = '/content/drive/MyDrive/digit/candidate/test2/img_24.jpg' # Image 2_2\n",
        "img = image.load_img(img_path, target_size = (224,224))\n",
        "x = image.img_to_array(img)\n",
        "x = np.expand_dims(x, axis=0)\n",
        "x = preprocess_input(x)\n",
        "\n",
        "features = model.predict(x)\n",
        "print(features.shape)\n",
        "print(features)"
      ],
      "execution_count": 8,
      "outputs": [
        {
          "output_type": "stream",
          "text": [
            "(1, 7, 7, 512)\n",
            "[[[[0.         0.         0.         ... 0.         1.5383829\n",
            "    0.        ]\n",
            "   [0.         0.         0.         ... 0.         5.357187\n",
            "    0.        ]\n",
            "   [0.         0.         0.         ... 0.         3.979631\n",
            "    0.        ]\n",
            "   ...\n",
            "   [0.         0.         0.         ... 0.         8.825266\n",
            "    0.        ]\n",
            "   [0.         0.         0.         ... 0.         2.7193372\n",
            "    0.        ]\n",
            "   [0.         0.         0.         ... 0.         4.79084\n",
            "    0.        ]]\n",
            "\n",
            "  [[0.         0.         0.         ... 0.         0.\n",
            "    0.        ]\n",
            "   [0.         0.         0.         ... 0.         0.\n",
            "    0.        ]\n",
            "   [0.         0.         0.         ... 0.         0.\n",
            "    0.        ]\n",
            "   ...\n",
            "   [0.         0.         0.         ... 0.         2.4208825\n",
            "    0.        ]\n",
            "   [0.         0.         0.         ... 0.         2.314301\n",
            "    0.        ]\n",
            "   [0.         0.         0.         ... 0.         0.94630176\n",
            "    0.        ]]\n",
            "\n",
            "  [[0.         0.         0.         ... 0.         2.6109853\n",
            "    0.        ]\n",
            "   [0.         0.         0.         ... 0.         0.\n",
            "    0.        ]\n",
            "   [0.         0.         0.         ... 0.         0.\n",
            "    0.        ]\n",
            "   ...\n",
            "   [0.         0.         0.         ... 0.         0.\n",
            "    0.        ]\n",
            "   [0.         0.         0.         ... 0.         7.3271594\n",
            "    0.        ]\n",
            "   [0.         0.         0.         ... 0.         2.1577895\n",
            "    0.        ]]\n",
            "\n",
            "  ...\n",
            "\n",
            "  [[0.         0.         0.         ... 0.         0.\n",
            "    0.        ]\n",
            "   [0.         0.         0.         ... 0.         0.\n",
            "    0.        ]\n",
            "   [0.         0.         0.         ... 0.         0.\n",
            "    0.        ]\n",
            "   ...\n",
            "   [0.         0.         0.         ... 0.         0.\n",
            "    0.        ]\n",
            "   [0.         0.         0.         ... 0.         4.1977754\n",
            "    0.        ]\n",
            "   [0.         0.         0.         ... 0.         5.4980335\n",
            "    0.        ]]\n",
            "\n",
            "  [[0.         0.         0.         ... 0.         0.\n",
            "    0.        ]\n",
            "   [0.         0.         0.         ... 0.         0.\n",
            "    0.        ]\n",
            "   [0.         0.         0.         ... 0.         0.\n",
            "    0.        ]\n",
            "   ...\n",
            "   [0.         0.         0.         ... 0.         0.\n",
            "    0.        ]\n",
            "   [0.         0.         0.60135883 ... 0.         0.\n",
            "    0.        ]\n",
            "   [0.         0.         0.         ... 0.         3.6042156\n",
            "    0.        ]]\n",
            "\n",
            "  [[0.         0.         0.         ... 0.         0.\n",
            "    0.        ]\n",
            "   [0.         0.         0.         ... 0.         0.\n",
            "    0.        ]\n",
            "   [0.         0.         0.         ... 0.         0.\n",
            "    0.        ]\n",
            "   ...\n",
            "   [0.         0.         0.         ... 0.         0.\n",
            "    0.        ]\n",
            "   [0.         0.         0.         ... 0.         0.\n",
            "    0.        ]\n",
            "   [0.         0.         0.         ... 0.         1.6668522\n",
            "    0.        ]]]]\n"
          ],
          "name": "stdout"
        }
      ]
    },
    {
      "cell_type": "markdown",
      "metadata": {
        "id": "QAMSldwohjLn"
      },
      "source": [
        "# candidate image 3 of digit 2"
      ]
    },
    {
      "cell_type": "code",
      "metadata": {
        "colab": {
          "base_uri": "https://localhost:8080/"
        },
        "id": "sHhdMfJ4iDMv",
        "outputId": "76564e94-9ab0-4cf2-d978-5d7e25337350"
      },
      "source": [
        "img_path = '/content/drive/MyDrive/digit/candidate/test2/img_34.jpg' #Image 2_3\n",
        "img = image.load_img(img_path, target_size = (224,224))\n",
        "x = image.img_to_array(img)\n",
        "x = np.expand_dims(x, axis=0)\n",
        "x = preprocess_input(x)\n",
        "\n",
        "features = model.predict(x)\n",
        "print(features.shape)\n",
        "print(features)"
      ],
      "execution_count": 9,
      "outputs": [
        {
          "output_type": "stream",
          "text": [
            "(1, 7, 7, 512)\n",
            "[[[[ 0.          0.          0.         ...  0.          0.\n",
            "     0.        ]\n",
            "   [ 0.          0.          0.         ...  0.          0.\n",
            "     0.        ]\n",
            "   [ 0.          0.          0.         ...  0.          0.\n",
            "     0.        ]\n",
            "   ...\n",
            "   [ 0.          0.          0.         ...  0.          7.9874487\n",
            "     0.        ]\n",
            "   [ 0.          0.          0.         ...  0.          0.\n",
            "     0.        ]\n",
            "   [ 0.          0.          0.         ...  0.          4.2257385\n",
            "     0.        ]]\n",
            "\n",
            "  [[ 0.          0.          0.         ...  0.          0.\n",
            "     0.        ]\n",
            "   [ 0.          0.          0.         ...  0.          0.\n",
            "     0.        ]\n",
            "   [ 0.          0.          1.5736146  ...  0.          0.\n",
            "     0.        ]\n",
            "   ...\n",
            "   [ 0.          0.          0.         ...  0.         32.417294\n",
            "     0.        ]\n",
            "   [ 0.          0.          0.         ...  0.          8.267377\n",
            "     0.        ]\n",
            "   [ 0.          0.          0.         ...  0.          0.\n",
            "     0.        ]]\n",
            "\n",
            "  [[ 0.          0.          0.         ...  0.          0.\n",
            "     0.        ]\n",
            "   [ 0.          0.          0.         ...  0.          0.\n",
            "     0.        ]\n",
            "   [ 0.          0.          0.         ...  0.          0.\n",
            "     0.        ]\n",
            "   ...\n",
            "   [ 0.          0.          0.         ...  0.         19.912746\n",
            "     0.        ]\n",
            "   [ 0.          0.          0.         ...  0.          2.8311253\n",
            "     0.        ]\n",
            "   [ 0.          0.          0.         ...  0.          0.\n",
            "     0.        ]]\n",
            "\n",
            "  ...\n",
            "\n",
            "  [[ 0.          0.          0.         ...  0.          0.\n",
            "     0.        ]\n",
            "   [ 0.          0.          5.998117   ...  0.          0.\n",
            "     0.        ]\n",
            "   [ 0.          0.         23.89118    ...  0.          0.\n",
            "     0.        ]\n",
            "   ...\n",
            "   [ 0.          0.          0.         ...  0.          0.\n",
            "     0.        ]\n",
            "   [ 0.          0.          0.         ...  0.          0.\n",
            "     0.        ]\n",
            "   [ 0.          0.          0.         ...  0.          0.38132414\n",
            "     0.        ]]\n",
            "\n",
            "  [[ 0.          0.          0.         ...  0.          0.\n",
            "     0.        ]\n",
            "   [ 0.          0.          0.         ...  0.          0.\n",
            "     0.        ]\n",
            "   [ 0.          0.          0.         ...  0.          0.\n",
            "     0.        ]\n",
            "   ...\n",
            "   [ 0.          0.          0.         ...  0.          0.\n",
            "     0.        ]\n",
            "   [ 0.          0.          0.         ...  0.          0.\n",
            "     4.0391717 ]\n",
            "   [ 0.          0.          0.         ...  0.          6.026827\n",
            "     0.        ]]\n",
            "\n",
            "  [[ 0.          0.          0.         ...  0.          0.\n",
            "     0.        ]\n",
            "   [ 0.          0.          0.         ...  0.          0.\n",
            "     0.05736899]\n",
            "   [ 0.          0.          0.         ...  0.          0.\n",
            "     0.3571674 ]\n",
            "   ...\n",
            "   [ 0.          0.          0.         ...  0.          0.\n",
            "     3.7099152 ]\n",
            "   [ 0.          0.          0.         ...  0.          0.\n",
            "     6.4456983 ]\n",
            "   [ 0.          0.          0.         ...  0.          3.0805535\n",
            "     0.42825356]]]]\n"
          ],
          "name": "stdout"
        }
      ]
    },
    {
      "cell_type": "markdown",
      "metadata": {
        "id": "KA3BjKlphobJ"
      },
      "source": [
        "# candidate image 4 of digit 2"
      ]
    },
    {
      "cell_type": "code",
      "metadata": {
        "colab": {
          "base_uri": "https://localhost:8080/"
        },
        "id": "Hx7yWdR2iUsv",
        "outputId": "c98067de-e05e-438a-faa4-0148d6be3dbd"
      },
      "source": [
        "img_path = '/content/drive/MyDrive/digit/candidate/test2/img_44.jpg' # Image 2_4\n",
        "img = image.load_img(img_path, target_size = (224,224))\n",
        "x = image.img_to_array(img)\n",
        "x = np.expand_dims(x, axis=0)\n",
        "x = preprocess_input(x)\n",
        "\n",
        "features = model.predict(x)\n",
        "print(features.shape)\n",
        "print(features)"
      ],
      "execution_count": 10,
      "outputs": [
        {
          "output_type": "stream",
          "text": [
            "(1, 7, 7, 512)\n",
            "[[[[ 0.         0.         0.        ...  0.         0.\n",
            "     0.       ]\n",
            "   [ 0.         0.         0.        ...  0.         0.\n",
            "     0.       ]\n",
            "   [ 0.         0.         0.        ...  0.         0.\n",
            "     0.       ]\n",
            "   ...\n",
            "   [ 0.         0.         0.        ...  0.         7.703935\n",
            "     0.       ]\n",
            "   [ 0.         0.         0.        ...  0.         0.\n",
            "     0.       ]\n",
            "   [ 0.         0.         0.        ...  0.         3.2809746\n",
            "     0.       ]]\n",
            "\n",
            "  [[ 0.         0.         0.        ...  0.         0.\n",
            "     0.       ]\n",
            "   [ 0.         0.         0.        ...  0.         0.\n",
            "     0.       ]\n",
            "   [ 0.         0.         0.        ...  0.         0.\n",
            "     0.       ]\n",
            "   ...\n",
            "   [ 0.         0.         0.        ...  0.        10.961462\n",
            "     0.       ]\n",
            "   [ 0.         0.         0.        ...  0.         0.\n",
            "     0.       ]\n",
            "   [ 0.         0.         0.        ...  0.         0.\n",
            "     0.       ]]\n",
            "\n",
            "  [[ 0.         0.         0.        ...  0.         0.\n",
            "     0.       ]\n",
            "   [ 0.         0.         0.        ...  0.         0.\n",
            "     0.       ]\n",
            "   [ 0.         0.         0.        ...  0.         0.\n",
            "     0.       ]\n",
            "   ...\n",
            "   [ 0.         0.         0.        ...  0.         0.\n",
            "     0.       ]\n",
            "   [ 0.         0.         0.        ...  0.         0.\n",
            "     0.       ]\n",
            "   [ 0.         0.         0.        ...  0.         3.4648645\n",
            "     0.       ]]\n",
            "\n",
            "  ...\n",
            "\n",
            "  [[ 0.         0.         0.        ...  0.         0.\n",
            "     0.       ]\n",
            "   [ 0.         0.         0.        ...  0.         0.\n",
            "     0.       ]\n",
            "   [ 0.         0.         4.607448  ...  0.         0.\n",
            "     0.       ]\n",
            "   ...\n",
            "   [ 0.         0.         0.        ...  0.         0.\n",
            "     0.       ]\n",
            "   [ 0.         0.         0.        ...  0.         0.\n",
            "     0.       ]\n",
            "   [ 0.         0.         0.        ...  0.         0.\n",
            "     0.       ]]\n",
            "\n",
            "  [[ 0.         0.         0.        ...  0.         0.\n",
            "     0.       ]\n",
            "   [ 0.         0.         0.        ...  0.         0.\n",
            "     0.       ]\n",
            "   [ 0.         0.         0.        ...  0.         0.\n",
            "     5.968266 ]\n",
            "   ...\n",
            "   [ 0.         0.         0.        ...  0.         0.\n",
            "     8.4448   ]\n",
            "   [ 0.         0.         0.        ...  0.         0.\n",
            "     1.318327 ]\n",
            "   [ 0.         0.         0.        ...  0.         0.\n",
            "     0.       ]]\n",
            "\n",
            "  [[ 0.         0.         0.        ...  0.         0.\n",
            "     0.       ]\n",
            "   [ 0.         0.         0.        ...  0.         0.\n",
            "     4.32541  ]\n",
            "   [ 0.         0.         0.        ...  0.         0.\n",
            "     5.424767 ]\n",
            "   ...\n",
            "   [ 0.         0.         0.        ...  0.         0.\n",
            "    12.331715 ]\n",
            "   [ 0.         0.         0.        ...  0.         0.\n",
            "     4.8757606]\n",
            "   [ 0.         0.         0.        ...  0.         0.\n",
            "     0.       ]]]]\n"
          ],
          "name": "stdout"
        }
      ]
    },
    {
      "cell_type": "markdown",
      "metadata": {
        "id": "n8CQjMqwhrFy"
      },
      "source": [
        "# candidate image 5 of digit 2"
      ]
    },
    {
      "cell_type": "code",
      "metadata": {
        "colab": {
          "base_uri": "https://localhost:8080/"
        },
        "id": "g1Hyzh1PmJJT",
        "outputId": "fa7317f2-4c9e-4024-854c-498ff53ff195"
      },
      "source": [
        "img_path = '/content/drive/MyDrive/digit/candidate/test2/img_55.jpg' # Image 2_5\n",
        "img = image.load_img(img_path, target_size = (224,224))\n",
        "x = image.img_to_array(img)\n",
        "x = np.expand_dims(x, axis=0)\n",
        "x = preprocess_input(x)\n",
        "\n",
        "features = model.predict(x)\n",
        "print(features.shape)\n",
        "print(features)"
      ],
      "execution_count": 11,
      "outputs": [
        {
          "output_type": "stream",
          "text": [
            "(1, 7, 7, 512)\n",
            "[[[[ 0.          0.          0.         ...  0.          1.2134893\n",
            "     0.        ]\n",
            "   [ 0.          0.          0.         ...  0.          1.3862896\n",
            "     0.        ]\n",
            "   [ 0.          0.          0.         ...  0.          0.\n",
            "     0.        ]\n",
            "   ...\n",
            "   [ 0.          0.          0.         ...  0.          8.342614\n",
            "     0.        ]\n",
            "   [ 0.          0.          0.         ...  0.          0.\n",
            "     0.        ]\n",
            "   [ 0.          0.          0.         ...  0.          3.061207\n",
            "     0.        ]]\n",
            "\n",
            "  [[ 0.          0.          0.         ...  0.          0.\n",
            "     0.        ]\n",
            "   [ 0.          0.          0.         ...  0.          0.\n",
            "     0.        ]\n",
            "   [ 0.          0.          0.         ...  0.          0.\n",
            "     0.        ]\n",
            "   ...\n",
            "   [ 0.          0.          0.         ...  0.         30.292294\n",
            "     0.        ]\n",
            "   [ 0.          0.          0.         ...  0.          0.\n",
            "     0.        ]\n",
            "   [ 0.          0.          0.         ...  0.          0.\n",
            "     0.        ]]\n",
            "\n",
            "  [[ 0.          0.          0.         ...  0.          0.\n",
            "     0.        ]\n",
            "   [ 0.          0.          0.         ...  0.          0.\n",
            "     0.        ]\n",
            "   [ 0.          0.          0.         ...  0.          0.\n",
            "     0.        ]\n",
            "   ...\n",
            "   [ 0.          0.          0.         ...  0.         27.835833\n",
            "     0.        ]\n",
            "   [ 0.          0.          0.         ...  0.          0.\n",
            "     0.        ]\n",
            "   [ 0.          0.          0.         ...  0.          2.7072027\n",
            "     0.        ]]\n",
            "\n",
            "  ...\n",
            "\n",
            "  [[ 0.          0.          0.         ...  0.          0.\n",
            "     0.        ]\n",
            "   [ 0.          0.          0.         ...  0.          0.\n",
            "     0.        ]\n",
            "   [ 0.          0.          0.         ...  0.          0.\n",
            "     0.        ]\n",
            "   ...\n",
            "   [ 0.          0.          0.         ...  0.          0.\n",
            "     0.        ]\n",
            "   [ 0.          0.          0.         ...  0.          0.\n",
            "     0.        ]\n",
            "   [ 0.          0.          0.         ...  0.          0.\n",
            "     0.        ]]\n",
            "\n",
            "  [[ 0.          0.          0.         ...  0.          0.\n",
            "     0.        ]\n",
            "   [ 0.          0.          0.         ...  0.          0.\n",
            "     0.        ]\n",
            "   [ 0.          0.          0.         ...  0.          0.\n",
            "     0.        ]\n",
            "   ...\n",
            "   [ 0.          0.          0.         ...  0.          1.6408803\n",
            "     3.4751363 ]\n",
            "   [ 0.          0.          0.         ...  0.          0.\n",
            "     0.        ]\n",
            "   [ 0.          0.          0.         ...  0.          0.\n",
            "     0.        ]]\n",
            "\n",
            "  [[ 0.          0.          0.         ...  0.          0.\n",
            "     0.        ]\n",
            "   [ 0.          0.          0.         ...  0.          0.\n",
            "     4.180207  ]\n",
            "   [ 0.          0.          0.         ...  0.          0.\n",
            "     5.188573  ]\n",
            "   ...\n",
            "   [ 0.          0.          0.         ...  0.          0.\n",
            "     4.8981643 ]\n",
            "   [ 0.          0.          0.         ...  0.          0.\n",
            "     2.6528573 ]\n",
            "   [ 0.          0.          0.         ...  0.          0.\n",
            "     0.90739644]]]]\n"
          ],
          "name": "stdout"
        }
      ]
    },
    {
      "cell_type": "markdown",
      "metadata": {
        "id": "LwgQQaAZhs6x"
      },
      "source": [
        "# candidate image 6 of digit 2"
      ]
    },
    {
      "cell_type": "code",
      "metadata": {
        "colab": {
          "base_uri": "https://localhost:8080/"
        },
        "id": "TxdEQTROoMVr",
        "outputId": "b3116418-eea3-4ab6-a369-19b36c884216"
      },
      "source": [
        "img_path = '/content/drive/MyDrive/digit/candidate/test2/img_56.jpg' # Image 2_6\n",
        "img = image.load_img(img_path, target_size = (224,224))\n",
        "x = image.img_to_array(img)\n",
        "x = np.expand_dims(x, axis=0)\n",
        "x = preprocess_input(x)\n",
        "\n",
        "features = model.predict(x)\n",
        "print(features.shape)\n",
        "print(features)"
      ],
      "execution_count": 12,
      "outputs": [
        {
          "output_type": "stream",
          "text": [
            "(1, 7, 7, 512)\n",
            "[[[[0.         0.         0.         ... 0.         0.3231501\n",
            "    0.        ]\n",
            "   [0.         0.         0.         ... 0.         0.\n",
            "    0.        ]\n",
            "   [0.         0.         0.         ... 0.         4.1435695\n",
            "    0.        ]\n",
            "   ...\n",
            "   [0.         0.         0.         ... 0.         0.\n",
            "    0.        ]\n",
            "   [0.         0.         0.         ... 0.         3.434986\n",
            "    0.        ]\n",
            "   [0.         0.         0.         ... 0.         9.049944\n",
            "    0.        ]]\n",
            "\n",
            "  [[0.         0.         0.         ... 0.         0.\n",
            "    0.        ]\n",
            "   [0.         0.         0.         ... 0.         0.\n",
            "    0.        ]\n",
            "   [0.         0.         0.         ... 0.         0.\n",
            "    0.        ]\n",
            "   ...\n",
            "   [0.         0.         0.         ... 0.         3.8181627\n",
            "    0.        ]\n",
            "   [0.         0.         0.         ... 0.         6.32413\n",
            "    0.        ]\n",
            "   [0.         0.         0.         ... 0.         2.8596094\n",
            "    0.        ]]\n",
            "\n",
            "  [[0.         0.         0.         ... 0.         0.\n",
            "    0.        ]\n",
            "   [0.         0.         0.         ... 0.         0.\n",
            "    0.        ]\n",
            "   [0.         0.         0.         ... 0.         0.\n",
            "    0.        ]\n",
            "   ...\n",
            "   [0.         0.         0.         ... 0.         0.\n",
            "    0.        ]\n",
            "   [0.         0.         0.         ... 0.         5.7191772\n",
            "    0.        ]\n",
            "   [0.         0.         0.         ... 0.         1.8392947\n",
            "    0.        ]]\n",
            "\n",
            "  ...\n",
            "\n",
            "  [[0.         0.         0.         ... 0.         0.\n",
            "    0.        ]\n",
            "   [0.         0.         0.         ... 0.         0.\n",
            "    0.        ]\n",
            "   [0.         0.         5.8433275  ... 0.         0.\n",
            "    0.        ]\n",
            "   ...\n",
            "   [0.         0.         0.         ... 0.         0.\n",
            "    0.        ]\n",
            "   [0.         0.         0.         ... 0.         0.\n",
            "    0.        ]\n",
            "   [0.         0.         0.         ... 0.         0.\n",
            "    0.        ]]\n",
            "\n",
            "  [[0.         0.         0.         ... 0.         0.\n",
            "    0.        ]\n",
            "   [0.         0.         0.         ... 0.         0.\n",
            "    0.        ]\n",
            "   [0.         0.         0.         ... 0.         0.\n",
            "    2.9715583 ]\n",
            "   ...\n",
            "   [0.         0.         0.         ... 0.         0.\n",
            "    5.454587  ]\n",
            "   [0.         0.         0.         ... 0.         0.\n",
            "    0.        ]\n",
            "   [0.         0.         0.         ... 0.         0.51507825\n",
            "    0.        ]]\n",
            "\n",
            "  [[0.         0.         0.         ... 0.         0.\n",
            "    0.49432185]\n",
            "   [0.         0.         0.         ... 0.         0.\n",
            "    6.497082  ]\n",
            "   [0.         0.         0.         ... 0.         0.\n",
            "    9.325246  ]\n",
            "   ...\n",
            "   [0.         0.         0.         ... 0.         0.\n",
            "    5.4314094 ]\n",
            "   [0.         0.         0.         ... 0.         0.\n",
            "    0.        ]\n",
            "   [0.         0.         0.         ... 0.         4.664674\n",
            "    0.        ]]]]\n"
          ],
          "name": "stdout"
        }
      ]
    },
    {
      "cell_type": "markdown",
      "metadata": {
        "id": "0UJnxL01huur"
      },
      "source": [
        "# candidate image 7 of digit 2"
      ]
    },
    {
      "cell_type": "code",
      "metadata": {
        "colab": {
          "base_uri": "https://localhost:8080/"
        },
        "id": "2P07tg1Kiey4",
        "outputId": "aa29865d-4b3f-42d1-f453-16e1c2794feb"
      },
      "source": [
        "img_path = '/content/drive/MyDrive/digit/candidate/test2/img_73.jpg' # Image 2_7\n",
        "img = image.load_img(img_path, target_size = (224,224))\n",
        "x = image.img_to_array(img)\n",
        "x = np.expand_dims(x, axis=0)\n",
        "x = preprocess_input(x)\n",
        "\n",
        "features = model.predict(x)\n",
        "print(features.shape)\n",
        "print(features)"
      ],
      "execution_count": 13,
      "outputs": [
        {
          "output_type": "stream",
          "text": [
            "(1, 7, 7, 512)\n",
            "[[[[ 0.          0.          0.         ...  0.          0.\n",
            "     0.        ]\n",
            "   [ 0.          0.          0.         ...  0.          0.\n",
            "     0.        ]\n",
            "   [ 0.          0.          0.         ...  0.          0.\n",
            "     0.        ]\n",
            "   ...\n",
            "   [ 0.          0.          0.         ...  0.         24.053013\n",
            "     0.        ]\n",
            "   [ 0.          0.          0.         ...  0.         29.162434\n",
            "     0.        ]\n",
            "   [ 0.          0.          0.         ...  0.         13.266771\n",
            "     0.        ]]\n",
            "\n",
            "  [[ 0.          0.          0.         ...  0.          0.\n",
            "     0.        ]\n",
            "   [ 0.          0.          0.         ...  0.          0.\n",
            "     0.        ]\n",
            "   [ 0.          0.          0.         ...  0.          0.\n",
            "     0.        ]\n",
            "   ...\n",
            "   [ 0.          0.          0.         ...  0.          0.94177026\n",
            "     0.        ]\n",
            "   [ 0.          0.          0.         ...  0.         36.745064\n",
            "     0.        ]\n",
            "   [ 0.          0.          0.         ...  0.         21.60441\n",
            "     0.        ]]\n",
            "\n",
            "  [[ 0.          0.          0.         ...  0.          0.\n",
            "     0.        ]\n",
            "   [ 0.          0.          0.         ...  0.          0.\n",
            "     0.        ]\n",
            "   [ 0.          0.          0.         ...  0.          0.\n",
            "     0.        ]\n",
            "   ...\n",
            "   [ 0.          0.          0.         ...  0.          0.\n",
            "     0.        ]\n",
            "   [ 0.          0.          0.         ...  0.         30.035305\n",
            "     0.        ]\n",
            "   [ 0.          0.          0.         ...  0.         17.97511\n",
            "     0.        ]]\n",
            "\n",
            "  ...\n",
            "\n",
            "  [[ 0.          0.          0.         ...  0.          0.\n",
            "     0.        ]\n",
            "   [ 0.          0.         15.767456   ...  0.          0.\n",
            "     0.        ]\n",
            "   [ 0.          0.          2.2500424  ...  0.          0.\n",
            "     0.        ]\n",
            "   ...\n",
            "   [ 0.          0.          0.         ...  0.          0.\n",
            "     0.        ]\n",
            "   [ 0.          0.          0.         ...  0.          0.\n",
            "     0.        ]\n",
            "   [ 0.          0.          0.         ...  0.          1.2206936\n",
            "     0.        ]]\n",
            "\n",
            "  [[ 0.          0.          0.         ...  0.          0.\n",
            "     0.        ]\n",
            "   [ 0.          0.          0.         ...  0.          0.\n",
            "     0.        ]\n",
            "   [ 0.          0.          0.         ...  0.          0.\n",
            "     0.        ]\n",
            "   ...\n",
            "   [ 0.          0.          0.         ...  0.          0.\n",
            "     0.        ]\n",
            "   [ 0.          0.          0.         ...  0.          0.\n",
            "     0.        ]\n",
            "   [ 0.          0.          0.         ...  0.          2.8558905\n",
            "     0.        ]]\n",
            "\n",
            "  [[ 0.          0.          0.         ...  0.          0.\n",
            "     0.        ]\n",
            "   [ 0.          0.          0.         ...  0.          0.\n",
            "     0.        ]\n",
            "   [ 0.          0.          0.         ...  0.          0.\n",
            "     0.        ]\n",
            "   ...\n",
            "   [ 0.          0.          0.         ...  0.          0.\n",
            "     0.        ]\n",
            "   [ 0.          0.          0.         ...  0.          0.\n",
            "     0.        ]\n",
            "   [ 0.          0.          0.         ...  0.          1.5872948\n",
            "     0.        ]]]]\n"
          ],
          "name": "stdout"
        }
      ]
    },
    {
      "cell_type": "markdown",
      "metadata": {
        "id": "o95X7LsfhxCg"
      },
      "source": [
        "# candidate image 8 of digit 2"
      ]
    },
    {
      "cell_type": "code",
      "metadata": {
        "colab": {
          "base_uri": "https://localhost:8080/"
        },
        "id": "nnX3vMiBihgv",
        "outputId": "6730ff87-f27b-4258-9e2e-b48638e3a0ea"
      },
      "source": [
        "img_path = '/content/drive/MyDrive/digit/candidate/test2/img_84.jpg' # Image 2_8\n",
        "img = image.load_img(img_path, target_size = (224,224))\n",
        "x = image.img_to_array(img)\n",
        "x = np.expand_dims(x, axis=0)\n",
        "x = preprocess_input(x)\n",
        "\n",
        "features = model.predict(x)\n",
        "print(features.shape)\n",
        "print(features)"
      ],
      "execution_count": 14,
      "outputs": [
        {
          "output_type": "stream",
          "text": [
            "(1, 7, 7, 512)\n",
            "[[[[ 0.          0.          0.         ...  0.          0.08341092\n",
            "     0.        ]\n",
            "   [ 0.          0.          0.         ...  0.          0.\n",
            "     0.        ]\n",
            "   [ 0.          0.          0.         ...  0.          3.069503\n",
            "     0.        ]\n",
            "   ...\n",
            "   [ 0.          0.          0.         ...  0.         18.574633\n",
            "     0.        ]\n",
            "   [ 0.          0.          0.         ...  0.          7.7493634\n",
            "     0.        ]\n",
            "   [ 0.          0.          0.         ...  0.          3.4691865\n",
            "     0.        ]]\n",
            "\n",
            "  [[ 0.          0.          0.         ...  0.          0.\n",
            "     0.        ]\n",
            "   [ 0.          0.          0.         ...  0.          0.\n",
            "     0.        ]\n",
            "   [ 0.          0.          0.         ...  0.          0.\n",
            "     0.        ]\n",
            "   ...\n",
            "   [ 0.          0.          0.         ...  0.         14.821472\n",
            "     0.        ]\n",
            "   [ 0.          0.          0.         ...  0.         25.163736\n",
            "     0.        ]\n",
            "   [ 0.          0.          0.         ...  0.          0.\n",
            "     0.        ]]\n",
            "\n",
            "  [[ 0.          0.          0.         ...  0.          0.\n",
            "     0.        ]\n",
            "   [ 0.          0.          0.         ...  0.          0.\n",
            "     0.        ]\n",
            "   [ 0.          0.          0.         ...  0.          0.\n",
            "     0.        ]\n",
            "   ...\n",
            "   [ 0.          0.          0.         ...  0.          0.\n",
            "     0.        ]\n",
            "   [ 0.          0.          0.         ...  0.         19.086927\n",
            "     0.        ]\n",
            "   [ 0.          0.          0.         ...  0.          1.594609\n",
            "     0.        ]]\n",
            "\n",
            "  ...\n",
            "\n",
            "  [[ 0.          0.          0.         ...  0.          0.\n",
            "     0.        ]\n",
            "   [ 0.          0.          0.         ...  0.          0.\n",
            "     0.        ]\n",
            "   [ 0.          0.          0.         ...  0.          0.\n",
            "     0.        ]\n",
            "   ...\n",
            "   [ 0.          0.          0.         ...  0.          0.\n",
            "     0.        ]\n",
            "   [ 0.          0.          0.         ...  0.          1.905\n",
            "     0.        ]\n",
            "   [ 0.          0.          0.         ...  0.          6.107183\n",
            "     0.        ]]\n",
            "\n",
            "  [[ 0.          0.          0.         ...  0.          0.\n",
            "     0.        ]\n",
            "   [ 0.          0.          0.         ...  0.          0.\n",
            "     0.        ]\n",
            "   [ 0.          0.          0.         ...  0.          0.\n",
            "     0.        ]\n",
            "   ...\n",
            "   [ 0.          0.          0.         ...  0.          2.5639806\n",
            "     0.        ]\n",
            "   [ 0.          0.          0.         ...  0.          4.6450977\n",
            "     0.        ]\n",
            "   [ 0.          0.          0.         ...  0.         10.888384\n",
            "     0.        ]]\n",
            "\n",
            "  [[ 0.          0.          0.         ...  0.          0.\n",
            "     0.        ]\n",
            "   [ 0.          0.          0.         ...  0.          0.\n",
            "     0.        ]\n",
            "   [ 0.          0.          0.         ...  0.          0.\n",
            "     0.        ]\n",
            "   ...\n",
            "   [ 0.          0.          0.         ...  0.          0.\n",
            "     3.1929448 ]\n",
            "   [ 0.          0.          0.         ...  0.          0.3265918\n",
            "     5.256242  ]\n",
            "   [ 0.          0.          0.         ...  0.          2.9553576\n",
            "     0.        ]]]]\n"
          ],
          "name": "stdout"
        }
      ]
    },
    {
      "cell_type": "markdown",
      "metadata": {
        "id": "Y28EkrGeh0uY"
      },
      "source": [
        "# candidate image 9 of digit 2"
      ]
    },
    {
      "cell_type": "code",
      "metadata": {
        "colab": {
          "base_uri": "https://localhost:8080/"
        },
        "id": "dEa9Qs8BikI5",
        "outputId": "69ed9d73-d218-483d-a832-804ee77d0f10"
      },
      "source": [
        "img_path = '/content/drive/MyDrive/digit/candidate/test2/img_94.jpg' # Image 2_9\n",
        "img = image.load_img(img_path, target_size = (224,224))\n",
        "x = image.img_to_array(img)\n",
        "x = np.expand_dims(x, axis=0)\n",
        "x = preprocess_input(x)\n",
        "\n",
        "features = model.predict(x)\n",
        "print(features.shape)\n",
        "print(features)"
      ],
      "execution_count": 15,
      "outputs": [
        {
          "output_type": "stream",
          "text": [
            "(1, 7, 7, 512)\n",
            "[[[[ 0.          0.          0.         ...  0.          0.63878363\n",
            "     0.        ]\n",
            "   [ 0.          0.          0.         ...  0.          0.\n",
            "     0.        ]\n",
            "   [ 0.          0.          0.         ...  0.          0.\n",
            "     0.        ]\n",
            "   ...\n",
            "   [ 0.          0.          0.         ...  0.         11.597932\n",
            "     0.        ]\n",
            "   [ 0.          0.          0.         ...  0.          9.718561\n",
            "     0.        ]\n",
            "   [ 0.          0.          0.         ...  0.          5.6745644\n",
            "     0.        ]]\n",
            "\n",
            "  [[ 0.          0.          0.         ...  0.          0.\n",
            "     0.        ]\n",
            "   [ 0.          0.          3.9609113  ...  0.          0.\n",
            "     0.        ]\n",
            "   [ 0.          0.          6.6056085  ...  0.          0.\n",
            "     0.        ]\n",
            "   ...\n",
            "   [ 0.          0.          7.0355506  ...  0.         26.211346\n",
            "     0.        ]\n",
            "   [ 0.          0.          0.         ...  0.         44.2121\n",
            "     0.        ]\n",
            "   [ 0.          0.          0.         ...  0.         14.4735985\n",
            "     0.        ]]\n",
            "\n",
            "  [[ 0.          0.          0.         ...  0.          0.\n",
            "     0.        ]\n",
            "   [ 0.          0.         17.389673   ...  0.          0.\n",
            "     0.        ]\n",
            "   [ 0.          0.         11.391194   ...  0.          0.\n",
            "     0.        ]\n",
            "   ...\n",
            "   [ 0.          0.         18.306585   ...  0.          4.465219\n",
            "     0.        ]\n",
            "   [ 0.          0.          9.109707   ...  0.         50.215336\n",
            "     0.        ]\n",
            "   [ 0.          0.          0.         ...  0.         22.527967\n",
            "     0.        ]]\n",
            "\n",
            "  ...\n",
            "\n",
            "  [[ 0.          0.          0.         ...  0.          0.\n",
            "     0.        ]\n",
            "   [ 0.          0.          0.         ...  0.          0.\n",
            "     0.        ]\n",
            "   [ 0.          0.          6.5036054  ...  0.          0.\n",
            "     0.        ]\n",
            "   ...\n",
            "   [ 0.          0.          0.         ...  0.          0.\n",
            "     0.        ]\n",
            "   [ 0.          0.          0.         ...  0.          0.\n",
            "     0.        ]\n",
            "   [ 0.          0.         10.585753   ...  0.         15.052714\n",
            "     0.        ]]\n",
            "\n",
            "  [[ 0.          0.          0.         ...  0.          0.\n",
            "     0.        ]\n",
            "   [ 0.          0.          0.         ...  0.          0.\n",
            "     0.        ]\n",
            "   [ 0.          0.          7.459452   ...  0.          5.39434\n",
            "     0.        ]\n",
            "   ...\n",
            "   [ 0.          0.          0.         ...  0.          0.39278215\n",
            "     0.        ]\n",
            "   [ 0.          0.          0.         ...  0.          3.7196162\n",
            "     2.8088384 ]\n",
            "   [ 0.          0.          0.         ...  0.          3.190649\n",
            "     1.5153524 ]]\n",
            "\n",
            "  [[ 0.          0.          0.         ...  0.          0.\n",
            "     6.598117  ]\n",
            "   [ 0.          0.          0.         ...  0.          0.\n",
            "     7.5927153 ]\n",
            "   [ 0.          0.          0.         ...  0.          0.\n",
            "     7.0093455 ]\n",
            "   ...\n",
            "   [ 0.          0.          0.         ...  0.          2.5042264\n",
            "     6.8561087 ]\n",
            "   [ 0.          0.          0.         ...  0.          1.8518546\n",
            "     5.60496   ]\n",
            "   [ 0.          0.          0.         ...  0.          2.5465624\n",
            "     0.        ]]]]\n"
          ],
          "name": "stdout"
        }
      ]
    },
    {
      "cell_type": "markdown",
      "metadata": {
        "id": "aRC8CY0_h3q7"
      },
      "source": [
        "# candidate image 10 of digit 2"
      ]
    },
    {
      "cell_type": "code",
      "metadata": {
        "colab": {
          "base_uri": "https://localhost:8080/"
        },
        "id": "sP68csJ9imfs",
        "outputId": "1c531bf3-6d23-4709-b4a7-0789a59736a4"
      },
      "source": [
        "img_path = '/content/drive/MyDrive/digit/candidate/test2/img_97.jpg' # Image 2_10\n",
        "img = image.load_img(img_path, target_size = (224,224))\n",
        "x = image.img_to_array(img)\n",
        "x = np.expand_dims(x, axis=0)\n",
        "x = preprocess_input(x)\n",
        "\n",
        "features = model.predict(x)\n",
        "print(features.shape)\n",
        "print(features)"
      ],
      "execution_count": 16,
      "outputs": [
        {
          "output_type": "stream",
          "text": [
            "(1, 7, 7, 512)\n",
            "[[[[ 0.         0.         0.        ...  0.         1.7358763\n",
            "     0.       ]\n",
            "   [ 0.         0.         0.        ...  0.         0.\n",
            "     0.       ]\n",
            "   [ 0.         0.         0.        ...  0.         0.\n",
            "     0.       ]\n",
            "   ...\n",
            "   [ 0.         0.         0.        ...  0.        19.63185\n",
            "     0.       ]\n",
            "   [ 0.         0.         0.        ...  0.        16.413795\n",
            "     0.       ]\n",
            "   [ 0.         0.         0.        ...  0.         5.250049\n",
            "     0.       ]]\n",
            "\n",
            "  [[ 0.         0.         0.        ...  0.         0.\n",
            "     0.       ]\n",
            "   [ 0.         0.         0.        ...  0.         0.\n",
            "     0.       ]\n",
            "   [ 0.         0.         0.        ...  0.         0.\n",
            "     0.       ]\n",
            "   ...\n",
            "   [ 0.         0.         0.        ...  0.         0.\n",
            "     0.       ]\n",
            "   [ 0.         0.         0.        ...  0.        19.242744\n",
            "     0.       ]\n",
            "   [ 0.         0.         0.        ...  0.         7.9856277\n",
            "     0.       ]]\n",
            "\n",
            "  [[ 0.         0.         0.        ...  0.         0.\n",
            "     0.       ]\n",
            "   [ 0.         0.         0.        ...  0.         0.\n",
            "     0.       ]\n",
            "   [ 0.         0.         0.        ...  0.         0.\n",
            "     0.       ]\n",
            "   ...\n",
            "   [ 0.         0.         0.        ...  0.         0.\n",
            "     0.       ]\n",
            "   [ 0.         0.         0.        ...  0.        17.609991\n",
            "     0.       ]\n",
            "   [ 0.         0.         0.        ...  0.         8.128797\n",
            "     0.       ]]\n",
            "\n",
            "  ...\n",
            "\n",
            "  [[ 0.         0.         0.        ...  0.         1.108439\n",
            "     0.       ]\n",
            "   [10.652222   0.         7.9660363 ...  0.         0.\n",
            "     0.       ]\n",
            "   [ 1.3945558  0.        15.221481  ...  0.         0.\n",
            "     0.       ]\n",
            "   ...\n",
            "   [ 0.         0.         0.        ...  0.         0.\n",
            "     0.       ]\n",
            "   [ 0.         0.         0.        ...  0.         0.\n",
            "     0.       ]\n",
            "   [ 0.         0.         0.        ...  0.         7.9881163\n",
            "     0.       ]]\n",
            "\n",
            "  [[ 0.         0.         0.        ...  0.         4.28502\n",
            "     0.       ]\n",
            "   [22.463034   0.         3.1702127 ...  0.         2.764949\n",
            "     0.       ]\n",
            "   [22.25648    0.        11.411489  ...  0.         0.\n",
            "     0.       ]\n",
            "   ...\n",
            "   [ 0.         0.         0.        ...  0.         0.\n",
            "     0.       ]\n",
            "   [ 0.         0.         0.        ...  0.         0.\n",
            "     0.       ]\n",
            "   [ 0.         0.         0.        ...  0.         4.7506804\n",
            "     0.       ]]\n",
            "\n",
            "  [[ 0.         0.         0.        ...  0.         0.\n",
            "     1.1981081]\n",
            "   [ 0.         0.         0.        ...  0.         0.\n",
            "     0.       ]\n",
            "   [ 0.         0.         0.        ...  0.         0.\n",
            "     0.       ]\n",
            "   ...\n",
            "   [ 0.         0.         0.        ...  0.         0.\n",
            "     0.       ]\n",
            "   [ 0.         0.         0.        ...  0.         0.\n",
            "     0.5340065]\n",
            "   [ 0.         0.         0.        ...  0.         4.946057\n",
            "     0.       ]]]]\n"
          ],
          "name": "stdout"
        }
      ]
    },
    {
      "cell_type": "markdown",
      "metadata": {
        "id": "b4omcRLTxu2F"
      },
      "source": [
        "# End of MNIST 2 digit"
      ]
    },
    {
      "cell_type": "markdown",
      "metadata": {
        "id": "tb3p4WEjs-bs"
      },
      "source": [
        "# Here I have taken original image of number **\"7\"** from the MNIST dataset."
      ]
    },
    {
      "cell_type": "code",
      "metadata": {
        "colab": {
          "base_uri": "https://localhost:8080/"
        },
        "id": "J0yaN5pVpLdc",
        "outputId": "eba90b0d-0d38-4c06-95ac-b8b332be901c"
      },
      "source": [
        "img_path = '/content/drive/MyDrive/digit/master/master7/master7.jpg' # orinal image of number 7\n",
        "img = image.load_img(img_path, target_size = (224,224))\n",
        "x = image.img_to_array(img)\n",
        "x = np.expand_dims(x, axis=0)\n",
        "x = preprocess_input(x)\n",
        "\n",
        "features = model.predict(x)\n",
        "print(features.shape)\n",
        "print(features)"
      ],
      "execution_count": 17,
      "outputs": [
        {
          "output_type": "stream",
          "text": [
            "(1, 7, 7, 512)\n",
            "[[[[0.         0.         0.         ... 0.         0.\n",
            "    0.        ]\n",
            "   [0.         0.         0.         ... 0.         0.\n",
            "    0.        ]\n",
            "   [0.         0.         0.         ... 0.         0.\n",
            "    0.        ]\n",
            "   ...\n",
            "   [0.         0.         0.         ... 0.         0.7957248\n",
            "    0.        ]\n",
            "   [0.         0.         0.         ... 0.         3.2660983\n",
            "    0.        ]\n",
            "   [0.         0.         0.         ... 0.         7.0517387\n",
            "    0.        ]]\n",
            "\n",
            "  [[0.         0.         0.         ... 0.         0.\n",
            "    0.        ]\n",
            "   [0.         0.         0.         ... 0.         0.\n",
            "    0.        ]\n",
            "   [0.         0.         0.         ... 0.         0.\n",
            "    0.        ]\n",
            "   ...\n",
            "   [0.         0.         0.         ... 0.         0.\n",
            "    0.        ]\n",
            "   [0.         0.         0.         ... 0.         0.85768354\n",
            "    0.        ]\n",
            "   [0.         0.         0.         ... 0.         3.8155272\n",
            "    0.        ]]\n",
            "\n",
            "  [[0.         0.         0.         ... 0.         2.4334512\n",
            "    0.        ]\n",
            "   [0.         0.         0.         ... 0.         0.\n",
            "    0.        ]\n",
            "   [0.         0.         0.         ... 0.         0.\n",
            "    0.        ]\n",
            "   ...\n",
            "   [0.         0.         0.         ... 0.         0.\n",
            "    0.        ]\n",
            "   [0.         0.         0.         ... 0.         2.8692117\n",
            "    0.        ]\n",
            "   [0.         0.         0.         ... 0.         3.6805072\n",
            "    0.        ]]\n",
            "\n",
            "  ...\n",
            "\n",
            "  [[0.         0.         0.         ... 0.         0.\n",
            "    0.        ]\n",
            "   [0.         0.         0.         ... 0.         0.\n",
            "    0.        ]\n",
            "   [0.         0.         0.         ... 0.         0.\n",
            "    0.        ]\n",
            "   ...\n",
            "   [0.         0.         0.         ... 0.         0.\n",
            "    0.        ]\n",
            "   [0.         0.         0.         ... 0.         0.\n",
            "    0.        ]\n",
            "   [0.         0.         0.         ... 0.         2.332237\n",
            "    0.        ]]\n",
            "\n",
            "  [[0.         0.         0.         ... 0.         0.\n",
            "    0.        ]\n",
            "   [0.         0.         0.         ... 0.         0.\n",
            "    0.        ]\n",
            "   [0.         0.         0.         ... 0.         1.6031015\n",
            "    0.        ]\n",
            "   ...\n",
            "   [0.         0.         0.         ... 0.         0.\n",
            "    0.        ]\n",
            "   [0.         0.         0.         ... 0.         0.\n",
            "    0.        ]\n",
            "   [0.         0.         0.         ... 0.         6.1072383\n",
            "    0.        ]]\n",
            "\n",
            "  [[0.         0.         0.         ... 0.         0.\n",
            "    0.        ]\n",
            "   [0.         0.         0.         ... 0.         0.\n",
            "    3.041542  ]\n",
            "   [0.         0.         0.         ... 0.         0.\n",
            "    6.2898426 ]\n",
            "   ...\n",
            "   [0.         0.         0.         ... 0.         0.\n",
            "    0.        ]\n",
            "   [0.         0.         0.         ... 0.         0.5456391\n",
            "    5.2143593 ]\n",
            "   [0.         0.         0.         ... 0.         2.8631694\n",
            "    0.        ]]]]\n"
          ],
          "name": "stdout"
        }
      ]
    },
    {
      "cell_type": "markdown",
      "metadata": {
        "id": "7nKzaY0jxITd"
      },
      "source": [
        "# Here I have taken 10 candidate imageas of number **\"7\"** from the MNIST dataset."
      ]
    },
    {
      "cell_type": "markdown",
      "metadata": {
        "id": "SvwRLJZ1iW26"
      },
      "source": [
        "# candidate image 1 of digit 7"
      ]
    },
    {
      "cell_type": "code",
      "metadata": {
        "colab": {
          "base_uri": "https://localhost:8080/"
        },
        "id": "QeWuRo-tp2ro",
        "outputId": "172747e6-cca9-438b-935f-cecd40a992ac"
      },
      "source": [
        "img_path = '/content/drive/MyDrive/digit/candidate/test7/img_18.jpg' # Image 7_1\n",
        "img = image.load_img(img_path, target_size = (224,224))\n",
        "x = image.img_to_array(img)\n",
        "x = np.expand_dims(x, axis=0)\n",
        "x = preprocess_input(x)\n",
        "\n",
        "features = model.predict(x)\n",
        "print(features.shape)\n",
        "print(features)"
      ],
      "execution_count": 18,
      "outputs": [
        {
          "output_type": "stream",
          "text": [
            "(1, 7, 7, 512)\n",
            "[[[[ 0.          0.          0.         ...  0.          0.39013642\n",
            "     0.        ]\n",
            "   [ 0.          0.          0.         ...  0.          0.\n",
            "     0.        ]\n",
            "   [ 0.          0.          0.         ...  0.          0.\n",
            "     0.        ]\n",
            "   ...\n",
            "   [ 0.          0.          0.         ...  0.          8.959888\n",
            "     0.        ]\n",
            "   [ 0.          0.          0.         ...  0.          8.344342\n",
            "     0.        ]\n",
            "   [ 0.          0.          0.         ...  0.          5.9677444\n",
            "     0.        ]]\n",
            "\n",
            "  [[ 0.          0.          0.         ...  0.          0.\n",
            "     0.        ]\n",
            "   [ 0.          0.          0.         ...  0.          0.\n",
            "     0.        ]\n",
            "   [ 0.          0.          1.0642362  ...  0.          0.\n",
            "     0.        ]\n",
            "   ...\n",
            "   [ 0.          0.          0.         ...  0.          0.\n",
            "     0.        ]\n",
            "   [ 0.          0.          0.         ...  0.          2.8810875\n",
            "     0.        ]\n",
            "   [ 0.          0.          0.         ...  0.          6.2436686\n",
            "     0.        ]]\n",
            "\n",
            "  [[ 0.          0.          0.         ...  0.          0.\n",
            "     0.        ]\n",
            "   [ 0.          0.          0.         ...  0.          0.\n",
            "     0.        ]\n",
            "   [ 0.          0.          1.5866961  ...  0.          0.\n",
            "     0.        ]\n",
            "   ...\n",
            "   [ 0.          0.          0.         ...  0.          0.\n",
            "     0.        ]\n",
            "   [ 0.          0.          0.         ...  0.         10.607174\n",
            "     0.        ]\n",
            "   [ 0.          0.          0.         ...  0.          6.9531946\n",
            "     0.        ]]\n",
            "\n",
            "  ...\n",
            "\n",
            "  [[ 0.          0.          0.         ...  0.          0.\n",
            "     0.        ]\n",
            "   [ 0.          0.          0.         ...  0.          0.\n",
            "     0.        ]\n",
            "   [ 0.          0.          0.         ...  0.          3.0096707\n",
            "     0.        ]\n",
            "   ...\n",
            "   [ 0.          0.          0.         ...  0.         10.192499\n",
            "     0.        ]\n",
            "   [ 0.          0.          0.         ...  0.          8.197946\n",
            "     0.        ]\n",
            "   [ 0.          0.          0.         ...  0.          0.9675241\n",
            "     0.        ]]\n",
            "\n",
            "  [[ 0.          0.          0.         ...  0.          0.\n",
            "     0.        ]\n",
            "   [ 0.          0.          0.         ...  0.          0.11994559\n",
            "     0.        ]\n",
            "   [ 0.          0.          0.         ...  0.          1.0801365\n",
            "     0.        ]\n",
            "   ...\n",
            "   [ 0.          0.          0.         ...  0.          8.802004\n",
            "     0.        ]\n",
            "   [ 0.          0.          0.         ...  0.          7.3085284\n",
            "     0.        ]\n",
            "   [ 0.          0.          0.         ...  0.          5.344239\n",
            "     0.        ]]\n",
            "\n",
            "  [[ 0.          0.          0.         ...  0.          0.\n",
            "     0.        ]\n",
            "   [ 0.          0.          0.         ...  0.          0.\n",
            "     0.        ]\n",
            "   [ 0.          0.          0.         ...  0.          0.\n",
            "     0.        ]\n",
            "   ...\n",
            "   [ 0.          0.          0.         ...  0.          3.8983285\n",
            "     0.        ]\n",
            "   [ 0.          0.          0.         ...  0.          2.4642344\n",
            "     3.3445153 ]\n",
            "   [ 0.          0.          0.         ...  0.          0.38059592\n",
            "     0.        ]]]]\n"
          ],
          "name": "stdout"
        }
      ]
    },
    {
      "cell_type": "markdown",
      "metadata": {
        "id": "yzTg5frMiZv6"
      },
      "source": [
        "# candidate image 2 of digit 7"
      ]
    },
    {
      "cell_type": "code",
      "metadata": {
        "colab": {
          "base_uri": "https://localhost:8080/"
        },
        "id": "gblVAPUqqAnV",
        "outputId": "a727c480-5004-4325-e8a5-378ce7458872"
      },
      "source": [
        "img_path = '/content/drive/MyDrive/digit/candidate/test7/img_29.jpg' # Image 7_2\n",
        "img = image.load_img(img_path, target_size = (224,224))\n",
        "x = image.img_to_array(img)\n",
        "x = np.expand_dims(x, axis=0)\n",
        "x = preprocess_input(x)\n",
        "\n",
        "features = model.predict(x)\n",
        "print(features.shape)\n",
        "print(features)"
      ],
      "execution_count": 19,
      "outputs": [
        {
          "output_type": "stream",
          "text": [
            "(1, 7, 7, 512)\n",
            "[[[[ 0.         0.         0.        ...  0.         0.\n",
            "     0.       ]\n",
            "   [ 0.         0.         0.        ...  0.         0.\n",
            "     0.       ]\n",
            "   [ 0.         0.         0.        ...  0.         0.\n",
            "     0.       ]\n",
            "   ...\n",
            "   [ 0.         0.         0.        ...  0.         0.\n",
            "     3.8710907]\n",
            "   [ 0.         0.         0.        ...  0.         4.9625244\n",
            "     0.       ]\n",
            "   [ 0.         0.         0.        ...  0.        10.101005\n",
            "     0.       ]]\n",
            "\n",
            "  [[ 0.         0.         0.        ...  0.         0.\n",
            "     0.       ]\n",
            "   [ 0.         0.         0.        ...  0.         0.\n",
            "     0.       ]\n",
            "   [ 0.         0.         0.        ...  0.         0.\n",
            "     0.       ]\n",
            "   ...\n",
            "   [ 0.         0.         0.        ...  0.         0.\n",
            "     0.       ]\n",
            "   [ 0.         0.         0.        ...  0.         5.9141684\n",
            "     0.       ]\n",
            "   [ 0.         0.         0.        ...  0.         8.018487\n",
            "     0.       ]]\n",
            "\n",
            "  [[ 0.         0.         0.        ...  0.         0.\n",
            "     0.       ]\n",
            "   [ 0.         0.         0.        ...  0.         0.\n",
            "     0.       ]\n",
            "   [ 0.         0.         0.        ...  0.         0.\n",
            "     0.       ]\n",
            "   ...\n",
            "   [ 0.         0.         0.        ...  0.         0.\n",
            "     0.       ]\n",
            "   [ 0.         0.         0.        ...  0.         3.2370715\n",
            "     0.       ]\n",
            "   [ 0.         0.         0.        ...  0.        10.6724205\n",
            "     0.       ]]\n",
            "\n",
            "  ...\n",
            "\n",
            "  [[ 0.         0.         0.        ...  0.         0.\n",
            "     0.       ]\n",
            "   [ 0.         0.         0.        ...  0.         0.\n",
            "     0.       ]\n",
            "   [ 0.         0.         0.        ...  0.         0.\n",
            "     1.8013397]\n",
            "   ...\n",
            "   [ 0.         0.         0.        ...  0.         0.\n",
            "     0.       ]\n",
            "   [ 0.         0.         0.        ...  0.         9.38483\n",
            "     0.       ]\n",
            "   [ 0.         0.         0.        ...  0.         3.750518\n",
            "     0.       ]]\n",
            "\n",
            "  [[ 0.         0.         0.        ...  0.         0.\n",
            "     0.       ]\n",
            "   [ 0.         0.         0.        ...  0.         0.\n",
            "     0.       ]\n",
            "   [ 0.         0.         0.        ...  0.         0.\n",
            "     0.       ]\n",
            "   ...\n",
            "   [ 0.         0.         0.        ...  0.         0.\n",
            "     0.       ]\n",
            "   [ 0.         0.         0.        ...  0.         9.121005\n",
            "     0.       ]\n",
            "   [ 0.         0.         0.        ...  0.         6.9856415\n",
            "     0.       ]]\n",
            "\n",
            "  [[ 0.         0.         0.        ...  0.         0.\n",
            "     0.       ]\n",
            "   [ 0.         0.         0.        ...  0.         0.\n",
            "     2.266561 ]\n",
            "   [ 0.         0.         0.        ...  0.         0.\n",
            "     0.       ]\n",
            "   ...\n",
            "   [ 0.         0.         0.        ...  0.         1.8571305\n",
            "     0.       ]\n",
            "   [ 0.         0.         0.        ...  0.         6.922339\n",
            "     0.       ]\n",
            "   [ 0.         0.         0.        ...  0.         2.7231402\n",
            "     2.798197 ]]]]\n"
          ],
          "name": "stdout"
        }
      ]
    },
    {
      "cell_type": "markdown",
      "metadata": {
        "id": "eSqB99Nribs3"
      },
      "source": [
        "# candidate image 3 of digit 7"
      ]
    },
    {
      "cell_type": "code",
      "metadata": {
        "colab": {
          "base_uri": "https://localhost:8080/"
        },
        "id": "4iVVqx_vtNzp",
        "outputId": "36d3dab3-522c-4232-8f3f-8ca9f7695c79"
      },
      "source": [
        "img_path = '/content/drive/MyDrive/digit/candidate/test7/img_47.jpg' # Image 7_3\n",
        "img = image.load_img(img_path, target_size = (224,224))\n",
        "x = image.img_to_array(img)\n",
        "x = np.expand_dims(x, axis=0)\n",
        "x = preprocess_input(x)\n",
        "\n",
        "features = model.predict(x)\n",
        "print(features.shape)\n",
        "print(features)"
      ],
      "execution_count": 20,
      "outputs": [
        {
          "output_type": "stream",
          "text": [
            "(1, 7, 7, 512)\n",
            "[[[[ 0.          0.          0.         ...  0.          0.6422306\n",
            "     0.        ]\n",
            "   [ 0.          0.          0.         ...  0.          0.\n",
            "     0.        ]\n",
            "   [ 0.          0.          0.         ...  0.          0.\n",
            "     0.        ]\n",
            "   ...\n",
            "   [ 0.          0.          0.         ...  0.          6.0218263\n",
            "     0.        ]\n",
            "   [ 0.          0.          0.         ...  0.          0.\n",
            "     0.        ]\n",
            "   [ 0.          0.          0.         ...  0.          4.0829673\n",
            "     0.        ]]\n",
            "\n",
            "  [[ 0.          0.          0.         ...  0.          0.\n",
            "     0.        ]\n",
            "   [ 0.          0.          0.         ...  0.          0.\n",
            "     0.        ]\n",
            "   [ 0.          0.          0.         ...  0.          0.\n",
            "     0.        ]\n",
            "   ...\n",
            "   [ 0.          0.          5.4183006  ...  0.         22.505474\n",
            "     0.        ]\n",
            "   [ 0.          0.          0.         ...  0.         14.382012\n",
            "     0.        ]\n",
            "   [ 0.          0.          0.         ...  0.          0.\n",
            "     0.        ]]\n",
            "\n",
            "  [[ 0.          0.          0.         ...  0.          0.\n",
            "     0.        ]\n",
            "   [ 0.          0.          0.         ...  0.          0.\n",
            "     0.        ]\n",
            "   [ 0.          0.          0.         ...  0.          0.\n",
            "     0.        ]\n",
            "   ...\n",
            "   [ 0.          0.          0.         ...  0.         12.160616\n",
            "     0.        ]\n",
            "   [ 0.          0.          0.         ...  0.         10.109409\n",
            "     0.        ]\n",
            "   [ 0.          0.          0.         ...  0.          0.\n",
            "     0.        ]]\n",
            "\n",
            "  ...\n",
            "\n",
            "  [[ 0.          0.          0.         ...  0.          0.\n",
            "     0.        ]\n",
            "   [ 0.          0.          0.         ...  0.          0.28688627\n",
            "     0.        ]\n",
            "   [ 0.          0.          0.         ...  0.          3.6334927\n",
            "     0.        ]\n",
            "   ...\n",
            "   [ 0.          0.          0.         ...  0.          0.\n",
            "     0.        ]\n",
            "   [ 0.          0.          0.         ...  0.          0.\n",
            "     0.        ]\n",
            "   [ 0.          0.          0.         ...  0.          0.\n",
            "     0.        ]]\n",
            "\n",
            "  [[ 0.          0.          0.         ...  0.          0.\n",
            "     0.        ]\n",
            "   [ 0.          0.          0.         ...  0.          0.\n",
            "     0.        ]\n",
            "   [ 0.          0.          0.         ...  0.          0.04572731\n",
            "     0.        ]\n",
            "   ...\n",
            "   [ 0.          0.          0.         ...  0.          0.\n",
            "     0.        ]\n",
            "   [ 0.          0.          0.         ...  0.          0.\n",
            "     0.        ]\n",
            "   [ 0.          0.          0.         ...  0.          0.\n",
            "     0.        ]]\n",
            "\n",
            "  [[ 0.          0.          0.         ...  0.          0.\n",
            "     0.        ]\n",
            "   [ 0.          0.          0.         ...  0.          0.\n",
            "     0.        ]\n",
            "   [ 0.          0.          0.         ...  0.          0.\n",
            "     0.        ]\n",
            "   ...\n",
            "   [ 0.          0.          0.         ...  0.          0.\n",
            "     0.        ]\n",
            "   [ 0.          0.          0.         ...  0.          0.\n",
            "     0.        ]\n",
            "   [ 0.          0.          0.         ...  0.          0.\n",
            "     0.        ]]]]\n"
          ],
          "name": "stdout"
        }
      ]
    },
    {
      "cell_type": "markdown",
      "metadata": {
        "id": "LoiMw6SiidY-"
      },
      "source": [
        "# candidate image 4 of digit 7"
      ]
    },
    {
      "cell_type": "code",
      "metadata": {
        "colab": {
          "base_uri": "https://localhost:8080/"
        },
        "id": "tAPqBkAjtS7E",
        "outputId": "2409fbc7-b4e4-4b63-b233-86fb899deebe"
      },
      "source": [
        "img_path = '/content/drive/MyDrive/digit/candidate/test7/img_48.jpg' # Image 7_4\n",
        "img = image.load_img(img_path, target_size = (224,224))\n",
        "x = image.img_to_array(img)\n",
        "x = np.expand_dims(x, axis=0)\n",
        "x = preprocess_input(x)\n",
        "\n",
        "features = model.predict(x)\n",
        "print(features.shape)\n",
        "print(features)"
      ],
      "execution_count": 21,
      "outputs": [
        {
          "output_type": "stream",
          "text": [
            "(1, 7, 7, 512)\n",
            "[[[[0.         0.         0.         ... 0.         1.9274161\n",
            "    0.        ]\n",
            "   [0.         0.         0.         ... 0.         0.\n",
            "    0.        ]\n",
            "   [0.         0.         0.         ... 0.         0.\n",
            "    0.        ]\n",
            "   ...\n",
            "   [0.         0.         0.         ... 0.         0.6038422\n",
            "    0.        ]\n",
            "   [0.         0.         0.         ... 0.         1.0693393\n",
            "    0.        ]\n",
            "   [0.         0.         0.         ... 0.         4.7656646\n",
            "    0.        ]]\n",
            "\n",
            "  [[0.         0.         0.         ... 0.         0.\n",
            "    0.        ]\n",
            "   [0.         0.         0.         ... 0.         0.\n",
            "    0.        ]\n",
            "   [0.         0.         0.         ... 0.         0.\n",
            "    0.        ]\n",
            "   ...\n",
            "   [0.         0.         0.         ... 0.         0.\n",
            "    0.        ]\n",
            "   [0.         0.         0.         ... 0.         0.\n",
            "    0.        ]\n",
            "   [0.         0.         0.         ... 0.         0.8766625\n",
            "    0.        ]]\n",
            "\n",
            "  [[0.         0.         0.         ... 0.         0.\n",
            "    0.        ]\n",
            "   [0.         0.         0.         ... 0.         0.\n",
            "    0.        ]\n",
            "   [0.         0.         6.4861856  ... 0.         0.\n",
            "    0.        ]\n",
            "   ...\n",
            "   [0.         0.         0.         ... 0.         0.\n",
            "    0.        ]\n",
            "   [0.         0.         0.         ... 0.         0.\n",
            "    0.        ]\n",
            "   [0.         0.         0.         ... 0.         0.02458125\n",
            "    0.        ]]\n",
            "\n",
            "  ...\n",
            "\n",
            "  [[0.         0.         0.         ... 0.         0.\n",
            "    0.        ]\n",
            "   [0.         0.         0.         ... 0.         0.\n",
            "    0.        ]\n",
            "   [0.         0.         0.         ... 0.         0.\n",
            "    0.        ]\n",
            "   ...\n",
            "   [0.         0.         0.         ... 0.         0.\n",
            "    0.        ]\n",
            "   [0.         0.         0.         ... 0.         0.30379337\n",
            "    0.        ]\n",
            "   [0.         0.         0.         ... 0.         0.54033494\n",
            "    0.        ]]\n",
            "\n",
            "  [[0.         0.         0.         ... 0.         0.\n",
            "    0.        ]\n",
            "   [0.         0.         0.         ... 0.         0.\n",
            "    0.        ]\n",
            "   [0.         0.         0.         ... 0.         0.\n",
            "    0.        ]\n",
            "   ...\n",
            "   [0.         0.         0.         ... 0.         2.642629\n",
            "    0.        ]\n",
            "   [0.         0.         0.         ... 0.         2.7474813\n",
            "    0.        ]\n",
            "   [0.         0.         0.         ... 0.         7.9748044\n",
            "    0.        ]]\n",
            "\n",
            "  [[0.         0.         0.         ... 0.         0.\n",
            "    0.        ]\n",
            "   [0.         0.         0.         ... 0.         0.\n",
            "    0.        ]\n",
            "   [0.         0.         0.         ... 0.         0.\n",
            "    0.        ]\n",
            "   ...\n",
            "   [0.         0.         0.         ... 0.         2.3006368\n",
            "    0.        ]\n",
            "   [0.         0.         0.         ... 0.         0.\n",
            "    4.9527664 ]\n",
            "   [0.         0.         0.         ... 0.         2.7213275\n",
            "    0.        ]]]]\n"
          ],
          "name": "stdout"
        }
      ]
    },
    {
      "cell_type": "markdown",
      "metadata": {
        "id": "X0p9C9KkifY1"
      },
      "source": [
        "# candidate image 5 of digit 7"
      ]
    },
    {
      "cell_type": "code",
      "metadata": {
        "colab": {
          "base_uri": "https://localhost:8080/"
        },
        "id": "o5kLejRutYJE",
        "outputId": "b0191120-4814-4419-8099-e26c3a2e9a49"
      },
      "source": [
        "img_path = '/content/drive/MyDrive/digit/candidate/test7/img_50.jpg' # Image 7_5\n",
        "img = image.load_img(img_path, target_size = (224,224))\n",
        "x = image.img_to_array(img)\n",
        "x = np.expand_dims(x, axis=0)\n",
        "x = preprocess_input(x)\n",
        "\n",
        "features = model.predict(x)\n",
        "print(features.shape)\n",
        "print(features)"
      ],
      "execution_count": 22,
      "outputs": [
        {
          "output_type": "stream",
          "text": [
            "(1, 7, 7, 512)\n",
            "[[[[0.         0.         0.         ... 0.         0.79764\n",
            "    0.        ]\n",
            "   [0.         0.         0.         ... 0.         0.\n",
            "    0.        ]\n",
            "   [0.         0.         0.         ... 0.         0.\n",
            "    0.        ]\n",
            "   ...\n",
            "   [0.         0.         0.         ... 0.         0.\n",
            "    0.        ]\n",
            "   [0.         0.         0.         ... 0.         0.\n",
            "    0.        ]\n",
            "   [0.         0.         0.         ... 0.         8.717883\n",
            "    0.        ]]\n",
            "\n",
            "  [[0.         0.         0.         ... 0.         0.\n",
            "    0.        ]\n",
            "   [0.         0.         0.         ... 0.         0.\n",
            "    0.        ]\n",
            "   [0.         0.         0.         ... 0.         0.\n",
            "    0.        ]\n",
            "   ...\n",
            "   [0.         0.         0.         ... 0.         0.\n",
            "    0.        ]\n",
            "   [0.         0.         0.         ... 0.         0.\n",
            "    0.        ]\n",
            "   [0.         0.         0.         ... 0.         0.6698601\n",
            "    0.        ]]\n",
            "\n",
            "  [[0.         0.         0.         ... 0.         0.\n",
            "    0.        ]\n",
            "   [0.         0.         0.         ... 0.         0.\n",
            "    0.        ]\n",
            "   [0.         0.         0.         ... 0.         0.\n",
            "    0.        ]\n",
            "   ...\n",
            "   [0.         0.         0.         ... 0.         0.\n",
            "    0.        ]\n",
            "   [0.         0.         0.         ... 0.         0.20638293\n",
            "    0.        ]\n",
            "   [0.         0.         0.         ... 0.         0.\n",
            "    0.        ]]\n",
            "\n",
            "  ...\n",
            "\n",
            "  [[0.         0.         0.         ... 0.         0.\n",
            "    0.        ]\n",
            "   [0.         0.         0.         ... 0.         0.\n",
            "    0.        ]\n",
            "   [0.         0.         0.         ... 0.         0.\n",
            "    0.        ]\n",
            "   ...\n",
            "   [0.         0.         0.         ... 0.         0.\n",
            "    0.        ]\n",
            "   [0.         0.         0.         ... 0.         0.\n",
            "    0.        ]\n",
            "   [0.         0.         0.         ... 0.         0.\n",
            "    0.        ]]\n",
            "\n",
            "  [[0.         0.         0.         ... 0.         0.\n",
            "    0.        ]\n",
            "   [0.         0.         0.         ... 0.         0.\n",
            "    0.        ]\n",
            "   [0.         0.         0.         ... 0.         0.\n",
            "    0.        ]\n",
            "   ...\n",
            "   [0.         0.         0.         ... 0.         0.\n",
            "    0.        ]\n",
            "   [0.         0.         0.         ... 0.         0.\n",
            "    0.        ]\n",
            "   [0.         0.         0.         ... 0.         0.25807\n",
            "    0.        ]]\n",
            "\n",
            "  [[0.         0.         0.         ... 0.         0.\n",
            "    0.        ]\n",
            "   [0.         0.         0.         ... 0.         0.\n",
            "    2.3506212 ]\n",
            "   [0.         0.         0.         ... 0.         0.\n",
            "    0.        ]\n",
            "   ...\n",
            "   [0.         0.         0.         ... 0.         0.\n",
            "    0.        ]\n",
            "   [0.         0.         0.         ... 0.         0.\n",
            "    0.947065  ]\n",
            "   [0.         0.         0.         ... 0.         0.\n",
            "    0.        ]]]]\n"
          ],
          "name": "stdout"
        }
      ]
    },
    {
      "cell_type": "markdown",
      "metadata": {
        "id": "PkhF_0yHihRi"
      },
      "source": [
        "# candidate image 6 of digit 7"
      ]
    },
    {
      "cell_type": "code",
      "metadata": {
        "colab": {
          "base_uri": "https://localhost:8080/"
        },
        "id": "4vQeyI77talz",
        "outputId": "576d59f0-86e4-42a0-96dd-975125b8bd32"
      },
      "source": [
        "img_path = '/content/drive/MyDrive/digit/candidate/test7/img_76.jpg' # Image 7_6\n",
        "img = image.load_img(img_path, target_size = (224,224))\n",
        "x = image.img_to_array(img)\n",
        "x = np.expand_dims(x, axis=0)\n",
        "x = preprocess_input(x)\n",
        "\n",
        "features = model.predict(x)\n",
        "print(features.shape)\n",
        "print(features)"
      ],
      "execution_count": 23,
      "outputs": [
        {
          "output_type": "stream",
          "text": [
            "(1, 7, 7, 512)\n",
            "[[[[ 0.          0.          0.         ...  0.          0.8725236\n",
            "     0.        ]\n",
            "   [ 0.          0.          0.         ...  0.          0.\n",
            "     0.        ]\n",
            "   [ 0.          0.          0.         ...  0.          0.\n",
            "     0.        ]\n",
            "   ...\n",
            "   [ 0.          0.          0.         ...  0.          6.125848\n",
            "     0.        ]\n",
            "   [ 0.          0.          0.         ...  0.          0.06676751\n",
            "     0.        ]\n",
            "   [ 0.          0.          0.         ...  0.          8.175848\n",
            "     0.        ]]\n",
            "\n",
            "  [[ 0.          0.          0.         ...  0.          0.\n",
            "     0.        ]\n",
            "   [ 0.          0.          0.         ...  0.          0.\n",
            "     0.        ]\n",
            "   [ 0.          0.          0.         ...  0.          0.\n",
            "     0.        ]\n",
            "   ...\n",
            "   [ 0.          0.          0.         ...  0.         10.944263\n",
            "     0.        ]\n",
            "   [ 0.          0.          0.         ...  0.          0.\n",
            "     0.        ]\n",
            "   [ 0.          0.          0.         ...  0.          0.\n",
            "     0.        ]]\n",
            "\n",
            "  [[ 0.          0.          0.         ...  0.          0.\n",
            "     0.        ]\n",
            "   [ 0.          0.          0.         ...  0.          0.\n",
            "     0.        ]\n",
            "   [ 0.          0.          0.         ...  0.          0.\n",
            "     0.        ]\n",
            "   ...\n",
            "   [ 0.          0.          0.         ...  0.          0.\n",
            "     0.        ]\n",
            "   [ 0.          0.          0.         ...  0.          0.\n",
            "     0.        ]\n",
            "   [ 0.          0.          0.         ...  0.          0.\n",
            "     0.        ]]\n",
            "\n",
            "  ...\n",
            "\n",
            "  [[ 0.          0.          0.         ...  0.          0.\n",
            "     0.        ]\n",
            "   [ 0.          0.          0.         ...  0.          0.\n",
            "     0.        ]\n",
            "   [ 0.          0.          0.         ...  0.          3.7838643\n",
            "     0.        ]\n",
            "   ...\n",
            "   [ 0.          0.          0.         ...  0.          0.\n",
            "     0.        ]\n",
            "   [ 0.          0.          0.         ...  0.          8.625369\n",
            "     0.        ]\n",
            "   [ 0.          0.          0.         ...  0.          1.902669\n",
            "     0.        ]]\n",
            "\n",
            "  [[ 0.          0.          0.         ...  0.          0.\n",
            "     0.        ]\n",
            "   [ 0.          0.          0.         ...  0.          0.\n",
            "     0.        ]\n",
            "   [ 0.          0.          0.         ...  0.          0.\n",
            "     0.        ]\n",
            "   ...\n",
            "   [ 0.          0.          0.         ...  0.          0.\n",
            "     0.        ]\n",
            "   [ 0.          0.          0.         ...  0.          3.5789132\n",
            "     0.        ]\n",
            "   [ 0.          0.          0.         ...  0.          9.133179\n",
            "     0.        ]]\n",
            "\n",
            "  [[ 0.          0.          0.         ...  0.          0.\n",
            "     0.        ]\n",
            "   [ 0.          0.          0.         ...  0.          0.\n",
            "     0.        ]\n",
            "   [ 0.          0.          0.         ...  0.          0.\n",
            "     0.        ]\n",
            "   ...\n",
            "   [ 0.          0.          0.         ...  0.          0.\n",
            "     0.        ]\n",
            "   [ 0.          0.          0.         ...  0.          0.\n",
            "     0.        ]\n",
            "   [ 0.          0.          0.         ...  0.          2.9020963\n",
            "     0.        ]]]]\n"
          ],
          "name": "stdout"
        }
      ]
    },
    {
      "cell_type": "markdown",
      "metadata": {
        "id": "K-BsHEAEijtG"
      },
      "source": [
        "# candidate image 7 of digit 7"
      ]
    },
    {
      "cell_type": "code",
      "metadata": {
        "colab": {
          "base_uri": "https://localhost:8080/"
        },
        "id": "Jq9tMYzmteDT",
        "outputId": "f6ccfba7-44c5-4201-c4cc-f193847cebad"
      },
      "source": [
        "img_path = '/content/drive/MyDrive/digit/candidate/test7/img_102.jpg' #Image 7_7\n",
        "img = image.load_img(img_path, target_size = (224,224))\n",
        "x = image.img_to_array(img)\n",
        "x = np.expand_dims(x, axis=0)\n",
        "x = preprocess_input(x)\n",
        "\n",
        "features = model.predict(x)\n",
        "print(features.shape)\n",
        "print(features)"
      ],
      "execution_count": 25,
      "outputs": [
        {
          "output_type": "stream",
          "text": [
            "(1, 7, 7, 512)\n",
            "[[[[ 0.          0.          0.         ...  0.          0.791737\n",
            "     0.        ]\n",
            "   [ 0.          0.          0.         ...  0.          0.\n",
            "     0.        ]\n",
            "   [ 0.          0.          0.         ...  0.          0.\n",
            "     0.        ]\n",
            "   ...\n",
            "   [ 0.          0.          0.         ...  0.          1.5191324\n",
            "     0.        ]\n",
            "   [ 0.          0.          0.         ...  0.          0.\n",
            "     0.        ]\n",
            "   [ 0.          0.          0.         ...  0.          8.389659\n",
            "     0.        ]]\n",
            "\n",
            "  [[ 0.          0.          0.         ...  0.          0.\n",
            "     0.        ]\n",
            "   [ 0.          0.          0.         ...  0.          0.\n",
            "     0.        ]\n",
            "   [ 0.          0.          9.887945   ...  0.          0.\n",
            "     0.        ]\n",
            "   ...\n",
            "   [ 0.          0.          2.9668212  ...  0.          2.85692\n",
            "     0.        ]\n",
            "   [ 0.          0.          0.         ...  0.         11.75506\n",
            "     0.        ]\n",
            "   [ 0.          0.          0.         ...  0.         10.614377\n",
            "     0.        ]]\n",
            "\n",
            "  [[ 0.          0.          0.         ...  0.          0.\n",
            "    13.764755  ]\n",
            "   [ 0.          0.          0.         ...  0.          0.\n",
            "     8.763611  ]\n",
            "   [ 0.          0.         28.292667   ...  0.          0.\n",
            "     0.        ]\n",
            "   ...\n",
            "   [ 0.          0.          0.         ...  0.          0.\n",
            "     0.        ]\n",
            "   [ 0.          0.          0.         ...  0.          1.0667269\n",
            "     0.        ]\n",
            "   [ 0.          0.          0.         ...  0.         15.505682\n",
            "     0.        ]]\n",
            "\n",
            "  ...\n",
            "\n",
            "  [[ 0.          0.          0.         ...  0.          0.2447707\n",
            "     0.        ]\n",
            "   [ 0.          0.          0.         ...  0.          0.\n",
            "     0.        ]\n",
            "   [ 0.          0.          0.         ...  0.          0.\n",
            "     0.        ]\n",
            "   ...\n",
            "   [ 0.          0.          0.         ...  0.          0.\n",
            "     0.        ]\n",
            "   [ 0.          0.          0.         ...  0.          0.\n",
            "     0.        ]\n",
            "   [ 0.          0.          0.         ...  0.          0.\n",
            "     0.        ]]\n",
            "\n",
            "  [[ 0.          0.          0.         ...  0.          0.21130908\n",
            "     0.        ]\n",
            "   [ 0.          0.          0.         ...  0.          0.\n",
            "     0.        ]\n",
            "   [ 0.          0.          0.         ...  0.          0.\n",
            "     0.        ]\n",
            "   ...\n",
            "   [ 0.          0.          1.0588603  ...  0.          0.\n",
            "     0.        ]\n",
            "   [ 0.          0.          0.         ...  0.          0.\n",
            "     0.        ]\n",
            "   [ 0.          0.          0.         ...  0.          0.\n",
            "     0.        ]]\n",
            "\n",
            "  [[ 0.          0.          0.         ...  0.          0.\n",
            "     7.012127  ]\n",
            "   [ 0.          0.          0.         ...  0.          0.\n",
            "     4.1371493 ]\n",
            "   [ 0.          0.          0.         ...  0.          0.\n",
            "     0.        ]\n",
            "   ...\n",
            "   [ 0.          0.          0.         ...  0.          2.6077225\n",
            "     0.27225253]\n",
            "   [ 0.          0.          0.         ...  0.          0.\n",
            "     8.569123  ]\n",
            "   [ 0.          0.          0.         ...  0.          0.54025763\n",
            "     0.        ]]]]\n"
          ],
          "name": "stdout"
        }
      ]
    },
    {
      "cell_type": "markdown",
      "metadata": {
        "id": "O6YDRKyvil1L"
      },
      "source": [
        "# candidate image 8 of digit 7"
      ]
    },
    {
      "cell_type": "code",
      "metadata": {
        "colab": {
          "base_uri": "https://localhost:8080/"
        },
        "id": "wGRQ5G8ctf1X",
        "outputId": "2decbd59-c694-4c9b-f13e-ff3f53b39cc6"
      },
      "source": [
        "img_path = '/content/drive/MyDrive/digit/candidate/test7/img_103.jpg' # Image 7_8\n",
        "img = image.load_img(img_path, target_size = (224,224))\n",
        "x = image.img_to_array(img)\n",
        "x = np.expand_dims(x, axis=0)\n",
        "x = preprocess_input(x)\n",
        "\n",
        "features = model.predict(x)\n",
        "print(features.shape)\n",
        "print(features)"
      ],
      "execution_count": 26,
      "outputs": [
        {
          "output_type": "stream",
          "text": [
            "(1, 7, 7, 512)\n",
            "[[[[0.         0.         0.         ... 0.         1.4726679\n",
            "    0.        ]\n",
            "   [0.         0.         0.         ... 0.         0.\n",
            "    0.        ]\n",
            "   [0.         0.         0.         ... 0.         0.\n",
            "    0.        ]\n",
            "   ...\n",
            "   [0.         0.         0.         ... 0.         2.3699574\n",
            "    0.        ]\n",
            "   [0.         0.         0.         ... 0.         1.8531616\n",
            "    0.        ]\n",
            "   [0.         0.         0.         ... 0.         8.504096\n",
            "    0.        ]]\n",
            "\n",
            "  [[0.         0.         0.         ... 0.         0.\n",
            "    0.        ]\n",
            "   [0.         0.         0.         ... 0.         0.\n",
            "    0.        ]\n",
            "   [0.         0.         0.         ... 0.         0.\n",
            "    0.        ]\n",
            "   ...\n",
            "   [0.         0.         0.         ... 0.         1.6881878\n",
            "    0.        ]\n",
            "   [0.         0.         0.         ... 0.         0.\n",
            "    0.        ]\n",
            "   [0.         0.         0.         ... 0.         4.609395\n",
            "    0.        ]]\n",
            "\n",
            "  [[0.         0.         0.         ... 0.         0.\n",
            "    0.        ]\n",
            "   [0.         0.         0.         ... 0.         0.\n",
            "    0.        ]\n",
            "   [0.         0.         0.         ... 0.         0.\n",
            "    0.        ]\n",
            "   ...\n",
            "   [0.         0.         0.         ... 0.         0.\n",
            "    0.        ]\n",
            "   [0.         0.         0.         ... 0.         3.482614\n",
            "    0.        ]\n",
            "   [0.         0.         0.         ... 0.         2.9356024\n",
            "    0.        ]]\n",
            "\n",
            "  ...\n",
            "\n",
            "  [[0.         0.         0.         ... 0.         0.\n",
            "    0.        ]\n",
            "   [0.         0.         0.         ... 0.         0.\n",
            "    0.        ]\n",
            "   [0.         0.         0.         ... 0.         0.\n",
            "    0.        ]\n",
            "   ...\n",
            "   [0.         0.         0.         ... 0.         0.\n",
            "    0.        ]\n",
            "   [0.         0.         0.         ... 0.         3.2211826\n",
            "    0.        ]\n",
            "   [0.         0.         0.         ... 0.         0.6289417\n",
            "    0.        ]]\n",
            "\n",
            "  [[0.         0.         0.         ... 0.         0.\n",
            "    0.        ]\n",
            "   [0.         0.         0.         ... 0.         0.\n",
            "    0.        ]\n",
            "   [0.         0.         0.         ... 0.         0.\n",
            "    0.        ]\n",
            "   ...\n",
            "   [0.         0.         0.         ... 0.         0.\n",
            "    0.        ]\n",
            "   [0.         0.         0.         ... 0.         0.63794684\n",
            "    0.        ]\n",
            "   [0.         0.         0.         ... 0.         6.2959533\n",
            "    0.        ]]\n",
            "\n",
            "  [[0.         0.         0.         ... 0.         0.\n",
            "    0.        ]\n",
            "   [0.         0.         0.         ... 0.         0.\n",
            "    0.15586892]\n",
            "   [0.         0.         0.         ... 0.         0.\n",
            "    0.        ]\n",
            "   ...\n",
            "   [0.         0.         0.         ... 0.         1.2755706\n",
            "    0.        ]\n",
            "   [0.         0.         0.         ... 0.         0.\n",
            "    4.010927  ]\n",
            "   [0.         0.         0.         ... 0.         2.6785374\n",
            "    1.7704439 ]]]]\n"
          ],
          "name": "stdout"
        }
      ]
    },
    {
      "cell_type": "markdown",
      "metadata": {
        "id": "bwDBvh23inyD"
      },
      "source": [
        "# candidate image 9 of digit 7"
      ]
    },
    {
      "cell_type": "code",
      "metadata": {
        "colab": {
          "base_uri": "https://localhost:8080/"
        },
        "id": "mBZqBxEytjco",
        "outputId": "cf27ad91-2375-442f-f24a-798c17f1c373"
      },
      "source": [
        "img_path = '/content/drive/MyDrive/digit/candidate/test7/img_116.jpg' # Image 7_9\n",
        "img = image.load_img(img_path, target_size = (224,224))\n",
        "x = image.img_to_array(img)\n",
        "x = np.expand_dims(x, axis=0)\n",
        "x = preprocess_input(x)\n",
        "\n",
        "features = model.predict(x)\n",
        "print(features.shape)\n",
        "print(features)"
      ],
      "execution_count": 27,
      "outputs": [
        {
          "output_type": "stream",
          "text": [
            "(1, 7, 7, 512)\n",
            "[[[[ 0.          0.          0.         ...  0.          0.\n",
            "     0.        ]\n",
            "   [ 0.          0.          0.         ...  0.          0.\n",
            "     0.        ]\n",
            "   [ 0.          0.          0.         ...  0.          0.\n",
            "     0.        ]\n",
            "   ...\n",
            "   [ 0.          0.          0.         ...  0.          0.9753614\n",
            "     0.        ]\n",
            "   [ 0.          0.          0.         ...  0.          6.066859\n",
            "     0.        ]\n",
            "   [ 0.          0.          0.         ...  0.          7.5083666\n",
            "     0.        ]]\n",
            "\n",
            "  [[ 0.          0.          0.         ...  0.          0.01794767\n",
            "     0.        ]\n",
            "   [ 0.          0.          0.         ...  0.          0.\n",
            "     0.        ]\n",
            "   [ 0.          0.          0.         ...  0.          2.7633367\n",
            "     0.        ]\n",
            "   ...\n",
            "   [ 0.          0.          0.         ...  0.          6.6791997\n",
            "     0.        ]\n",
            "   [ 0.          0.          0.         ...  0.          6.32657\n",
            "     0.        ]\n",
            "   [ 0.          0.          0.         ...  0.         14.443627\n",
            "     0.        ]]\n",
            "\n",
            "  [[ 0.          0.          0.         ...  0.          0.\n",
            "     0.        ]\n",
            "   [ 0.          0.          0.         ...  0.          0.\n",
            "     0.        ]\n",
            "   [ 0.          0.          0.         ...  0.          0.\n",
            "     0.        ]\n",
            "   ...\n",
            "   [ 0.          0.          0.         ...  0.          0.\n",
            "     0.        ]\n",
            "   [ 0.          0.          0.         ...  0.          0.\n",
            "     0.        ]\n",
            "   [ 0.          0.          0.         ...  0.          0.\n",
            "     0.        ]]\n",
            "\n",
            "  ...\n",
            "\n",
            "  [[ 0.          0.          0.         ...  0.          0.\n",
            "     0.        ]\n",
            "   [ 0.          0.          0.         ...  0.          0.\n",
            "     0.        ]\n",
            "   [ 0.          0.          0.         ...  0.          0.\n",
            "     0.        ]\n",
            "   ...\n",
            "   [ 0.          0.          0.         ...  0.          0.\n",
            "     0.        ]\n",
            "   [ 0.          0.          9.827393   ...  0.          0.\n",
            "     0.        ]\n",
            "   [ 0.          0.          0.         ...  0.          0.\n",
            "     0.        ]]\n",
            "\n",
            "  [[ 0.          0.          0.         ...  0.          0.\n",
            "     0.        ]\n",
            "   [ 0.          0.          0.         ...  0.          0.\n",
            "     0.        ]\n",
            "   [ 0.          0.          0.         ...  0.          0.\n",
            "     0.        ]\n",
            "   ...\n",
            "   [ 0.          0.          9.694344   ...  0.          0.\n",
            "     0.        ]\n",
            "   [ 0.          0.          0.         ...  0.          0.\n",
            "     0.        ]\n",
            "   [ 0.          0.          0.         ...  0.          6.460528\n",
            "     0.        ]]\n",
            "\n",
            "  [[ 0.          0.          0.         ...  0.          0.\n",
            "     0.        ]\n",
            "   [ 0.          0.          0.         ...  0.          0.\n",
            "     0.        ]\n",
            "   [ 0.          0.          0.         ...  0.          0.\n",
            "     0.        ]\n",
            "   ...\n",
            "   [ 0.          0.          0.         ...  0.          0.28128928\n",
            "     0.        ]\n",
            "   [ 0.          0.          0.         ...  0.          0.\n",
            "     1.9534739 ]\n",
            "   [ 0.          0.          0.         ...  0.          2.3392265\n",
            "     0.        ]]]]\n"
          ],
          "name": "stdout"
        }
      ]
    },
    {
      "cell_type": "markdown",
      "metadata": {
        "id": "2-_fpJtLipzu"
      },
      "source": [
        "# candidate image 10 of digit 7"
      ]
    },
    {
      "cell_type": "code",
      "metadata": {
        "colab": {
          "base_uri": "https://localhost:8080/"
        },
        "id": "zngUC948toHU",
        "outputId": "15155bb6-8007-4986-c4e4-5aee659e5a0b"
      },
      "source": [
        "img_path = '/content/drive/MyDrive/digit/candidate/test7/img_117.jpg' # Image 7_10\n",
        "img = image.load_img(img_path, target_size = (224,224))\n",
        "x = image.img_to_array(img)\n",
        "x = np.expand_dims(x, axis=0)\n",
        "x = preprocess_input(x)\n",
        "\n",
        "features = model.predict(x)\n",
        "print(features.shape)\n",
        "print(features)"
      ],
      "execution_count": 28,
      "outputs": [
        {
          "output_type": "stream",
          "text": [
            "(1, 7, 7, 512)\n",
            "[[[[0.        0.        0.        ... 0.        0.7155866 0.       ]\n",
            "   [0.        0.        0.        ... 0.        0.740629  0.       ]\n",
            "   [0.        0.        0.        ... 0.        0.        0.       ]\n",
            "   ...\n",
            "   [0.        0.        0.        ... 0.        0.        0.       ]\n",
            "   [0.        0.        0.        ... 0.        6.2412634 0.       ]\n",
            "   [0.        0.        0.        ... 0.        8.162509  0.       ]]\n",
            "\n",
            "  [[0.        0.        0.        ... 0.        0.        0.       ]\n",
            "   [0.        0.        0.        ... 0.        0.        0.       ]\n",
            "   [0.        0.        0.        ... 0.        0.        0.       ]\n",
            "   ...\n",
            "   [0.        0.        0.        ... 0.        0.        0.       ]\n",
            "   [0.        0.        0.        ... 0.        0.        0.       ]\n",
            "   [0.        0.        0.        ... 0.        7.6542993 0.       ]]\n",
            "\n",
            "  [[0.        0.        0.        ... 0.        0.        0.       ]\n",
            "   [0.        0.        0.        ... 0.        0.        0.       ]\n",
            "   [0.        0.        0.        ... 0.        0.        0.       ]\n",
            "   ...\n",
            "   [0.        0.        0.        ... 0.        0.        0.       ]\n",
            "   [0.        0.        0.        ... 0.        0.        0.       ]\n",
            "   [0.        0.        0.        ... 0.        7.497991  0.       ]]\n",
            "\n",
            "  ...\n",
            "\n",
            "  [[0.        0.        0.        ... 0.        0.        0.       ]\n",
            "   [0.        0.        0.        ... 0.        0.        0.       ]\n",
            "   [0.        0.        0.        ... 0.        0.        0.       ]\n",
            "   ...\n",
            "   [0.        0.        0.        ... 0.        0.        0.       ]\n",
            "   [0.        0.        0.        ... 0.        0.        0.       ]\n",
            "   [0.        0.        0.        ... 0.        0.4709289 0.       ]]\n",
            "\n",
            "  [[0.        0.        0.        ... 0.        0.        0.       ]\n",
            "   [0.        0.        0.        ... 0.        0.        0.       ]\n",
            "   [0.        0.        0.        ... 0.        0.        0.       ]\n",
            "   ...\n",
            "   [0.        0.        0.        ... 0.        0.2827186 0.       ]\n",
            "   [0.        0.        0.        ... 0.        0.        0.       ]\n",
            "   [0.        0.        0.        ... 0.        3.9081624 0.       ]]\n",
            "\n",
            "  [[0.        0.        0.        ... 0.        3.8827813 2.9323146]\n",
            "   [0.        0.        0.        ... 0.        0.        0.       ]\n",
            "   [0.        0.        0.        ... 0.        4.7503076 0.       ]\n",
            "   ...\n",
            "   [0.        0.        0.        ... 0.        0.        5.1667113]\n",
            "   [0.        0.        0.        ... 0.        0.        3.3233852]\n",
            "   [0.        0.        0.        ... 0.        0.        0.       ]]]]\n"
          ],
          "name": "stdout"
        }
      ]
    },
    {
      "cell_type": "markdown",
      "metadata": {
        "id": "e08_ihGxeNA1"
      },
      "source": [
        "#Summary of the Feature Map Size for Each Conv Layer\n"
      ]
    },
    {
      "cell_type": "code",
      "metadata": {
        "colab": {
          "base_uri": "https://localhost:8080/"
        },
        "id": "RDQ_obcudPQt",
        "outputId": "5ad60d36-3143-4ee8-e52f-221589502864"
      },
      "source": [
        "from matplotlib import pyplot\n",
        "\n",
        "model = VGG16()\n",
        "\n",
        "for layer in model.layers:\n",
        "  if 'conv' not in layer.name:\n",
        "    continue\n",
        "  \n",
        "  filters, biases = layer.get_weights()\n",
        "  print(layer.name, filters.shape)"
      ],
      "execution_count": 38,
      "outputs": [
        {
          "output_type": "stream",
          "text": [
            "Downloading data from https://storage.googleapis.com/tensorflow/keras-applications/vgg16/vgg16_weights_tf_dim_ordering_tf_kernels.h5\n",
            "553467904/553467096 [==============================] - 4s 0us/step\n",
            "block1_conv1 (3, 3, 3, 64)\n",
            "block1_conv2 (3, 3, 64, 64)\n",
            "block2_conv1 (3, 3, 64, 128)\n",
            "block2_conv2 (3, 3, 128, 128)\n",
            "block3_conv1 (3, 3, 128, 256)\n",
            "block3_conv2 (3, 3, 256, 256)\n",
            "block3_conv3 (3, 3, 256, 256)\n",
            "block4_conv1 (3, 3, 256, 512)\n",
            "block4_conv2 (3, 3, 512, 512)\n",
            "block4_conv3 (3, 3, 512, 512)\n",
            "block5_conv1 (3, 3, 512, 512)\n",
            "block5_conv2 (3, 3, 512, 512)\n",
            "block5_conv3 (3, 3, 512, 512)\n"
          ],
          "name": "stdout"
        }
      ]
    },
    {
      "cell_type": "markdown",
      "metadata": {
        "id": "_2o-4Ocjxh0v"
      },
      "source": [
        "# End of MNIST 7 digit"
      ]
    },
    {
      "cell_type": "markdown",
      "metadata": {
        "id": "Mq2DWJzPYu7k"
      },
      "source": [
        "# Comparing candidate image with master image"
      ]
    },
    {
      "cell_type": "markdown",
      "metadata": {
        "id": "6ZNobIv5Y3Vt"
      },
      "source": [
        "# Master image of number 2"
      ]
    },
    {
      "cell_type": "code",
      "metadata": {
        "colab": {
          "base_uri": "https://localhost:8080/",
          "height": 265
        },
        "id": "88aNcCPmX4X5",
        "outputId": "605d8eb6-1ad2-4ea6-d35a-172f35945c93"
      },
      "source": [
        "import matplotlib.pyplot as plt\n",
        "import matplotlib.image as mpimg\n",
        "img = mpimg.imread('/content/drive/MyDrive/digit/master/master2/master2.jpg') # original image of 2\n",
        "imgplot = plt.imshow(img)\n",
        "plt.show()"
      ],
      "execution_count": 30,
      "outputs": [
        {
          "output_type": "display_data",
          "data": {
            "image/png": "[encoded data removed]",
            "text/plain": [
              "<Figure size 432x288 with 1 Axes>"
            ]
          },
          "metadata": {
            "tags": [],
            "needs_background": "light"
          }
        }
      ]
    },
    {
      "cell_type": "markdown",
      "metadata": {
        "id": "3_m1_qLCY75K"
      },
      "source": [
        "# candidate image of number 7"
      ]
    },
    {
      "cell_type": "code",
      "metadata": {
        "colab": {
          "base_uri": "https://localhost:8080/",
          "height": 265
        },
        "id": "fClaZJJgX4OU",
        "outputId": "6c931a15-f543-4665-c381-02b494ae6b57"
      },
      "source": [
        "img = mpimg.imread('/content/drive/MyDrive/digit/candidate/test7/img_48.jpg') # candidate image of number 2\n",
        "imgplot = plt.imshow(img)\n",
        "plt.show()"
      ],
      "execution_count": 31,
      "outputs": [
        {
          "output_type": "display_data",
          "data": {
            "image/png": "[encoded data removed]",
            "text/plain": [
              "<Figure size 432x288 with 1 Axes>"
            ]
          },
          "metadata": {
            "tags": [],
            "needs_background": "light"
          }
        }
      ]
    },
    {
      "cell_type": "markdown",
      "metadata": {
        "id": "dPMcIzv-Y_88"
      },
      "source": [
        "# candidate image of number 2"
      ]
    },
    {
      "cell_type": "code",
      "metadata": {
        "colab": {
          "base_uri": "https://localhost:8080/",
          "height": 265
        },
        "id": "8B4Ap5ALX4IZ",
        "outputId": "50fe9da5-7856-4f03-85e5-a84aaf5f4222"
      },
      "source": [
        "img = mpimg.imread('/content/drive/MyDrive/digit/candidate/test2/img_56.jpg') # candidate image of number 2\n",
        "imgplot = plt.imshow(img)\n",
        "plt.show()"
      ],
      "execution_count": 32,
      "outputs": [
        {
          "output_type": "display_data",
          "data": {
            "image/png": "[encoded data removed]",
            "text/plain": [
              "<Figure size 432x288 with 1 Axes>"
            ]
          },
          "metadata": {
            "tags": [],
            "needs_background": "light"
          }
        }
      ]
    },
    {
      "cell_type": "code",
      "metadata": {
        "colab": {
          "base_uri": "https://localhost:8080/",
          "height": 531
        },
        "id": "EhDrEHI_vffJ",
        "outputId": "f901e5bf-7577-417b-f6a7-d24e9329637f"
      },
      "source": [
        "import cv2\n",
        "\n",
        "\n",
        "# master image\n",
        "image = cv2.imread('/content/drive/MyDrive/digit/master/master2/master2.jpg')\n",
        "gray_image = cv2.cvtColor(image, cv2.COLOR_BGR2GRAY)\n",
        "histogram = cv2.calcHist([gray_image], [0], None, [256], [0, 256])\n",
        "   \n",
        "# data1 image of number 7\n",
        "image = cv2.imread('/content/drive/MyDrive/digit/candidate/test7/img_48.jpg')\n",
        "gray_image1 = cv2.cvtColor(image, cv2.COLOR_BGR2GRAY)\n",
        "histogram1 = cv2.calcHist([gray_image1], [0], None, [256], [0, 256])\n",
        "   \n",
        "# data2 image of number 2\n",
        "image = cv2.imread('/content/drive/MyDrive/digit/candidate/test2/img_56.jpg')\n",
        "gray_image2 = cv2.cvtColor(image, cv2.COLOR_BGR2GRAY)\n",
        "histogram2 = cv2.calcHist([gray_image2], [0], None, [256], [0, 256])\n",
        "   \n",
        "c1, c2 = 0, 0\n",
        "   \n",
        "# Euclidean Distace between data1 image of number 2 and master image\n",
        "i = 0\n",
        "while i<len(histogram) and i<len(histogram1):\n",
        "    c1+=(histogram[i]-histogram1[i])**2\n",
        "    i+= 1\n",
        "c1 = c1**(1 / 2)\n",
        "   \n",
        "i = 0\n",
        "while i<len(histogram) and i<len(histogram2):\n",
        "    c2+=(histogram[i]-histogram2[i])**2\n",
        "    i+= 1\n",
        "c2 = c2**(1 / 2)\n",
        "   \n",
        "if(c1<c2):\n",
        "    print(\"data1 image of number 2 is more similar to master image of number 2 as compared to data2 image of number 7\")\n",
        "    img1 = mpimg.imread('/content/drive/MyDrive/digit/master/master2/master2.jpg')\n",
        "    imgplot1 = plt.imshow(img1)\n",
        "    plt.show()\n",
        "\n",
        "    img = mpimg.imread('/content/drive/MyDrive/digit/candidate/test7/img_48.jpg')\n",
        "    imgplot = plt.imshow(img)\n",
        "    plt.show()\n",
        "else:\n",
        "    print(\"data2 image of number 2 is more similar to master image of number 2 as compared to data1 image of number 7\")\n",
        "    img1 = mpimg.imread('/content/drive/MyDrive/digit/master/master2/master2.jpg')\n",
        "    imgplot1 = plt.imshow(img1)\n",
        "    plt.show()\n",
        "\n",
        "    img = mpimg.imread('/content/drive/MyDrive/digit/candidate/test2/img_56.jpg')\n",
        "    imgplot = plt.imshow(img)\n",
        "    plt.show()"
      ],
      "execution_count": 35,
      "outputs": [
        {
          "output_type": "stream",
          "text": [
            "data2 image of number 2 is more similar to master image of number 2 as compared to data1 image of number 7\n"
          ],
          "name": "stdout"
        },
        {
          "output_type": "display_data",
          "data": {
            "image/png": "[encoded data removed]",
            "text/plain": [
              "<Figure size 432x288 with 1 Axes>"
            ]
          },
          "metadata": {
            "tags": [],
            "needs_background": "light"
          }
        },
        {
          "output_type": "display_data",
          "data": {
            "image/png": "[encoded data removed]",
            "text/plain": [
              "<Figure size 432x288 with 1 Axes>"
            ]
          },
          "metadata": {
            "tags": [],
            "needs_background": "light"
          }
        }
      ]
    },
    {
      "cell_type": "markdown",
      "metadata": {
        "id": "WUEoQApHZlsg"
      },
      "source": [
        "##### As we can see above the result of matching image of number 2 is been obtained by Eucledian distance\n"
      ]
    },
    {
      "cell_type": "markdown",
      "metadata": {
        "id": "ZlvR2W5xaQMZ"
      },
      "source": [
        "# Other type of similarity score methods are:\n",
        "1. Pearson’s correlation\n",
        "2. Spearman’s correlation\n",
        "3. Cosine similarity\n",
        "4. Jaccard similarity\n",
        "5. Euclidean distance\n",
        "6. Manhattan distance\n",
        "\n",
        "From above this mentioned methods I know Pearsons correlation, Cosine similiarity, Euclidean distance, Manhattan distance.\n",
        "\n",
        "I have tried to use Cosine SImiliarity but somehow I was getting error so I have used Euclidean distance."
      ]
    },
    {
      "cell_type": "code",
      "metadata": {
        "id": "gmEqpaGcXJxu"
      },
      "source": [
        ""
      ],
      "execution_count": 47,
      "outputs": []
    },
    {
      "cell_type": "code",
      "metadata": {
        "id": "-HKaeDORhCsY"
      },
      "source": [
        ""
      ],
      "execution_count": null,
      "outputs": []
    }
  ]
}